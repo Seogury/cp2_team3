{
  "nbformat": 4,
  "nbformat_minor": 0,
  "metadata": {
    "colab": {
      "name": "CB_and_CF.ipynb",
      "provenance": [],
      "authorship_tag": "ABX9TyMcuH6nnA8bQZHFW5cCq3mM",
      "include_colab_link": true
    },
    "kernelspec": {
      "name": "python3",
      "display_name": "Python 3"
    },
    "language_info": {
      "name": "python"
    }
  },
  "cells": [
    {
      "cell_type": "markdown",
      "metadata": {
        "id": "view-in-github",
        "colab_type": "text"
      },
      "source": [
        "<a href=\"https://colab.research.google.com/github/Seogury/cp2_team3/blob/main/CB_and_CF.ipynb\" target=\"_parent\"><img src=\"https://colab.research.google.com/assets/colab-badge.svg\" alt=\"Open In Colab\"/></a>"
      ]
    },
    {
      "cell_type": "markdown",
      "source": [
        "###CB 알고리즘(아이템 기반)"
      ],
      "metadata": {
        "id": "NduAs5KWd4pp"
      }
    },
    {
      "cell_type": "code",
      "execution_count": null,
      "metadata": {
        "colab": {
          "base_uri": "https://localhost:8080/"
        },
        "outputId": "5cbfc667-bc95-4cde-b0ce-ba82b49ce58f",
        "id": "u1aCqEv6bG1R"
      },
      "outputs": [
        {
          "output_type": "stream",
          "name": "stdout",
          "text": [
            "Drive already mounted at /content/gdrive/; to attempt to forcibly remount, call drive.mount(\"/content/gdrive/\", force_remount=True).\n"
          ]
        }
      ],
      "source": [
        "from google.colab import drive\n",
        "drive.mount('/content/gdrive/')"
      ]
    },
    {
      "cell_type": "code",
      "source": [
        "from sklearn.feature_extraction.text import CountVectorizer\n",
        "from sklearn.metrics.pairwise import cosine_similarity\n",
        "import pandas as pd\n",
        "\n",
        "product = pd.read_csv('/content/gdrive/MyDrive/product.csv')\n",
        "product_vect = pd.read_csv('/content/gdrive/MyDrive/product_vect.csv')"
      ],
      "metadata": {
        "id": "GUvt2xgNUFfN"
      },
      "execution_count": null,
      "outputs": []
    },
    {
      "cell_type": "code",
      "source": [
        "#벡터화\n",
        "counter = CountVectorizer()\n",
        "vect = counter.fit_transform(product_vect['category_brand'])\n",
        "vect"
      ],
      "metadata": {
        "colab": {
          "base_uri": "https://localhost:8080/"
        },
        "id": "msljTqBeYXRg",
        "outputId": "cffc1ac0-1a7b-4190-eddf-534044278f0e"
      },
      "execution_count": null,
      "outputs": [
        {
          "output_type": "execute_result",
          "data": {
            "text/plain": [
              "<12174x1215 sparse matrix of type '<class 'numpy.int64'>'\n",
              "\twith 43901 stored elements in Compressed Sparse Row format>"
            ]
          },
          "metadata": {},
          "execution_count": 167
        }
      ]
    },
    {
      "cell_type": "code",
      "source": [
        "#코사인 유사도(item)\n",
        "cos = cosine_similarity(vect, vect)\n",
        "\n",
        "#데이터 프레임화\n",
        "item_sim_df = pd.DataFrame(cos, index = product['product_id'], columns = product['product_id'])"
      ],
      "metadata": {
        "id": "IhsSRxEKd9uR"
      },
      "execution_count": null,
      "outputs": []
    },
    {
      "cell_type": "code",
      "source": [
        "cos.shape"
      ],
      "metadata": {
        "colab": {
          "base_uri": "https://localhost:8080/"
        },
        "id": "4fhsDG8nexDZ",
        "outputId": "e2159d5c-5db9-44cf-9d11-de34e5c3a48f"
      },
      "execution_count": null,
      "outputs": [
        {
          "output_type": "execute_result",
          "data": {
            "text/plain": [
              "(12174, 12174)"
            ]
          },
          "metadata": {},
          "execution_count": 125
        }
      ]
    },
    {
      "cell_type": "code",
      "source": [
        "item_sim_df.to_csv('item_sim.csv')"
      ],
      "metadata": {
        "id": "Rs-1O2zGe97l"
      },
      "execution_count": null,
      "outputs": []
    },
    {
      "cell_type": "markdown",
      "source": [
        "### 코사인 유사도 데이터"
      ],
      "metadata": {
        "id": "YaD4ChLVbOS3"
      }
    },
    {
      "cell_type": "code",
      "source": [
        "item_sim_df = pd.read_csv('/content/gdrive/MyDrive/item_sim.csv')"
      ],
      "metadata": {
        "id": "_S_3hIzpgL8S"
      },
      "execution_count": null,
      "outputs": []
    },
    {
      "cell_type": "code",
      "source": [
        "item_sim_df.set_index('product_id', inplace = True)"
      ],
      "metadata": {
        "id": "osH8bq8-WHZm"
      },
      "execution_count": null,
      "outputs": []
    },
    {
      "cell_type": "code",
      "source": [
        "item_sim_df"
      ],
      "metadata": {
        "id": "AKYOyZuNX_n3"
      },
      "execution_count": null,
      "outputs": []
    },
    {
      "cell_type": "code",
      "source": [
        "product"
      ],
      "metadata": {
        "id": "VySx9gJ8YFSJ"
      },
      "execution_count": null,
      "outputs": []
    },
    {
      "cell_type": "code",
      "source": [
        "def recommend_item(id, top = 11):\n",
        "  #product_id 검색\n",
        "  product.reset_index(inplace = True) \n",
        "  target = item_sim_df[f'{id}'].sort_values(ascending = False)[:top].index\n",
        "  target_list = []\n",
        "  for i in target:\n",
        "      target_list.append(i)\n",
        "  target_list.remove(id)\n",
        "  \n",
        "  #id리스트로 index 검색\n",
        "  product.set_index('product_id',inplace = True)\n",
        "  result = product.loc[target_list].sort_values('product_pur_count', ascending = False)\n",
        "   \n",
        "\n",
        "  return result[['brand','price','main_category','middle_category','sub_category']]"
      ],
      "metadata": {
        "id": "IFfHE3bsk8nH"
      },
      "execution_count": null,
      "outputs": []
    },
    {
      "cell_type": "code",
      "source": [
        "recommend_item(1002098)"
      ],
      "metadata": {
        "id": "BYbNTvlIXdDv"
      },
      "execution_count": null,
      "outputs": []
    },
    {
      "cell_type": "markdown",
      "source": [
        "###cf 알고리즘\n"
      ],
      "metadata": {
        "id": "6VLK-MmL66n1"
      }
    },
    {
      "cell_type": "code",
      "source": [
        "import pandas as pd\n",
        "import numpy as np\n",
        "import scipy as sp\n",
        "from sklearn.metrics.pairwise import cosine_similarity\n",
        "import operator\n",
        "import random\n",
        "%matplotlib inline"
      ],
      "metadata": {
        "id": "sNorEmpY9hJ9"
      },
      "execution_count": null,
      "outputs": []
    },
    {
      "cell_type": "code",
      "source": [
        "from google.colab import drive\n",
        "drive.mount('/content/gdrive/')"
      ],
      "metadata": {
        "colab": {
          "base_uri": "https://localhost:8080/"
        },
        "id": "7yWPzgPXnbe0",
        "outputId": "e47e1544-8366-4ae9-af2d-246c877184f6"
      },
      "execution_count": null,
      "outputs": [
        {
          "output_type": "stream",
          "name": "stdout",
          "text": [
            "Drive already mounted at /content/gdrive/; to attempt to forcibly remount, call drive.mount(\"/content/gdrive/\", force_remount=True).\n"
          ]
        }
      ]
    },
    {
      "cell_type": "code",
      "source": [
        "df3.to_csv('df3.csv')"
      ],
      "metadata": {
        "id": "4e2_csM8j48j"
      },
      "execution_count": null,
      "outputs": []
    },
    {
      "cell_type": "code",
      "source": [
        "df2"
      ],
      "metadata": {
        "id": "W4Oh9o2o7_X5"
      },
      "execution_count": null,
      "outputs": []
    },
    {
      "cell_type": "code",
      "source": [
        "df3 = pd.read_csv('/content/gdrive/MyDrive/df3.csv')"
      ],
      "metadata": {
        "id": "QnDznWLokCEo"
      },
      "execution_count": null,
      "outputs": []
    },
    {
      "cell_type": "code",
      "source": [
        "df_ele = df3[(df3['main_category']=='electronics')]\n",
        "df_app = df3[(df3['main_category']=='appliances')]\n",
        "df_com = df3[(df3['main_category']=='computers')]"
      ],
      "metadata": {
        "id": "n5PNyToykPqD"
      },
      "execution_count": null,
      "outputs": []
    },
    {
      "cell_type": "code",
      "source": [
        "rate = df3.groupby(['user_id', 'product_id']).sum()['event_type'].reset_index()"
      ],
      "metadata": {
        "id": "jlALJ7956-wj"
      },
      "execution_count": null,
      "outputs": []
    },
    {
      "cell_type": "code",
      "source": [
        "ele_rate = df_ele.groupby(['user_id', 'product_id']).sum()['event_type'].reset_index()\n",
        "app_rate = df_app.groupby(['user_id', 'product_id']).sum()['event_type'].reset_index()\n",
        "com_rate = df_com.groupby(['user_id', 'product_id']).sum()['event_type'].reset_index()"
      ],
      "metadata": {
        "id": "TI6Nk72c-UaW"
      },
      "execution_count": null,
      "outputs": []
    },
    {
      "cell_type": "code",
      "source": [
        "app_rate_ran = app_rate.sample(frac=0.5, replace=True)"
      ],
      "metadata": {
        "id": "PrvfDBbEZPHD"
      },
      "execution_count": null,
      "outputs": []
    },
    {
      "cell_type": "code",
      "source": [
        "len(rate['product_id'].unique())"
      ],
      "metadata": {
        "colab": {
          "base_uri": "https://localhost:8080/"
        },
        "id": "VDYN77Zz8Qr0",
        "outputId": "2aaeb4f0-dcb0-4985-bfbd-5f21ad002eff"
      },
      "execution_count": null,
      "outputs": [
        {
          "output_type": "execute_result",
          "data": {
            "text/plain": [
              "12174"
            ]
          },
          "metadata": {},
          "execution_count": 149
        }
      ]
    },
    {
      "cell_type": "code",
      "source": [
        "len(rate[:381946]['product_id'].unique()), len(app_rate['product_id'].unique()), len(com_rate['product_id'].unique())"
      ],
      "metadata": {
        "colab": {
          "base_uri": "https://localhost:8080/"
        },
        "id": "JBKy1Hlbju7h",
        "outputId": "ab2df898-602b-4e82-c454-3362eb6ab128"
      },
      "execution_count": null,
      "outputs": [
        {
          "output_type": "execute_result",
          "data": {
            "text/plain": [
              "(12174, 4838, 2638)"
            ]
          },
          "metadata": {},
          "execution_count": 131
        }
      ]
    },
    {
      "cell_type": "code",
      "source": [
        "len(rate['product_id'].unique())"
      ],
      "metadata": {
        "colab": {
          "base_uri": "https://localhost:8080/"
        },
        "id": "J3AuKS0y3ifI",
        "outputId": "423173a5-a9cf-44ba-f715-ac597b9f4649"
      },
      "execution_count": null,
      "outputs": [
        {
          "output_type": "execute_result",
          "data": {
            "text/plain": [
              "12174"
            ]
          },
          "metadata": {},
          "execution_count": 132
        }
      ]
    },
    {
      "cell_type": "code",
      "source": [
        "def item_cosine(df):\n",
        "\n",
        "  #정규화\n",
        "  mean = np.mean(df['event_type'])\n",
        "  max = np.max(df['event_type'])\n",
        "  min = np.min(df['event_type'])\n",
        "\n",
        "  df['event_type'] = df.event_type.apply(lambda x: (x-mean)/(max-min))\n",
        "  \n",
        "  #피벗테이블\n",
        "  piv = df.pivot_table(index=['user_id'], columns=['product_id'], values='event_type')\n",
        "  piv.fillna(0,inplace = True)\n",
        "  \n",
        "  #압축\n",
        "  piv_sparse = sp.sparse.csr_matrix(piv.values)\n",
        "\n",
        "  #유사도 비교\n",
        "  item_similarity = cosine_similarity(piv_sparse.T)\n",
        "  \n",
        "  #데이터 프레임\n",
        "  item_sim_df = pd.DataFrame(item_similarity, index = piv.columns, columns = piv.columns)\n",
        "\n",
        "  return item_sim_df"
      ],
      "metadata": {
        "id": "dYERMBiH5QGv"
      },
      "execution_count": null,
      "outputs": []
    },
    {
      "cell_type": "code",
      "source": [
        "def user_cosine(df):\n",
        "\n",
        "  #정규화\n",
        "  mean = np.mean(df['event_type'])\n",
        "  max = np.max(df['event_type'])\n",
        "  min = np.min(df['event_type'])\n",
        "\n",
        "  df['event_type'] = df.event_type.apply(lambda x: (x-mean)/(max-min))\n",
        "  \n",
        "  #피벗테이블\n",
        "  piv = df.pivot_table(index=['user_id'], columns=['product_id'], values='event_type')\n",
        "  piv.fillna(0,inplace = True)\n",
        "\n",
        "  piv_sparse = sp.sparse.csr_matrix(piv.values)\n",
        "  user_similarity = cosine_similarity(piv_sparse)\n",
        "\n",
        "  user_sim_df = pd.DataFrame(user_similarity, index = piv.index, columns = piv.index)\n",
        "\n",
        "  return user_sim_df"
      ],
      "metadata": {
        "id": "jgo2wjqL_qF8"
      },
      "execution_count": null,
      "outputs": []
    },
    {
      "cell_type": "code",
      "source": [
        "rate.info()"
      ],
      "metadata": {
        "id": "Q0Nr-FYZMU3W"
      },
      "execution_count": null,
      "outputs": []
    },
    {
      "cell_type": "code",
      "source": [
        "cos_item = item_cosine(rate)"
      ],
      "metadata": {
        "id": "NVQgUUoeJV_8"
      },
      "execution_count": null,
      "outputs": []
    },
    {
      "cell_type": "code",
      "source": [
        "com_item = item_cosine(com_rate)"
      ],
      "metadata": {
        "id": "XK6WXaWQDzjR"
      },
      "execution_count": null,
      "outputs": []
    },
    {
      "cell_type": "code",
      "source": [
        "com_user = user_cosine(com_rate)"
      ],
      "metadata": {
        "id": "pzdERpCPlCVF"
      },
      "execution_count": null,
      "outputs": []
    },
    {
      "cell_type": "code",
      "source": [
        "com_user.info()"
      ],
      "metadata": {
        "id": "TK5qqp0IOr7F"
      },
      "execution_count": null,
      "outputs": []
    },
    {
      "cell_type": "code",
      "source": [
        "com_user.to_csv('com_user.csv')"
      ],
      "metadata": {
        "id": "65ZNdL6LAalY"
      },
      "execution_count": null,
      "outputs": []
    },
    {
      "cell_type": "code",
      "source": [
        "com_item.to_csv('com_item.csv')\n",
        "# com_user.to_csv('com_user.csv')"
      ],
      "metadata": {
        "id": "_zp-2dxWnsle"
      },
      "execution_count": null,
      "outputs": []
    },
    {
      "cell_type": "code",
      "source": [
        "com_item.info()"
      ],
      "metadata": {
        "colab": {
          "base_uri": "https://localhost:8080/"
        },
        "id": "11tS7miWAs1j",
        "outputId": "8bac6bd8-566e-4836-bcfd-d8b4c64b95a9"
      },
      "execution_count": null,
      "outputs": [
        {
          "output_type": "stream",
          "name": "stdout",
          "text": [
            "<class 'pandas.core.frame.DataFrame'>\n",
            "Int64Index: 2638 entries, 1303049 to 45500030\n",
            "Columns: 2638 entries, 1303049 to 45500030\n",
            "dtypes: float64(2638)\n",
            "memory usage: 53.2 MB\n"
          ]
        }
      ]
    },
    {
      "cell_type": "code",
      "source": [
        "app_item = item_cosine(app_rate)"
      ],
      "metadata": {
        "id": "tDHSLoU5jqrz"
      },
      "execution_count": null,
      "outputs": []
    },
    {
      "cell_type": "code",
      "source": [
        "from google.colab import drive\n",
        "drive.mount('/content/drive')"
      ],
      "metadata": {
        "id": "881MwO9vB_hz"
      },
      "execution_count": null,
      "outputs": []
    },
    {
      "cell_type": "code",
      "source": [
        "app_user = user_cosine(app_rate_ran)"
      ],
      "metadata": {
        "id": "hQ7Xev0mpOuD"
      },
      "execution_count": null,
      "outputs": []
    },
    {
      "cell_type": "code",
      "source": [
        "app_user.info()"
      ],
      "metadata": {
        "colab": {
          "base_uri": "https://localhost:8080/"
        },
        "id": "AbOk3Fd1v3Nu",
        "outputId": "c3939bb5-87be-4880-9e1a-e40b449c1a01"
      },
      "execution_count": null,
      "outputs": [
        {
          "output_type": "stream",
          "name": "stdout",
          "text": [
            "<class 'pandas.core.frame.DataFrame'>\n",
            "Int64Index: 21976 entries, 384989212 to 566236063\n",
            "Columns: 21976 entries, 384989212 to 566236063\n",
            "dtypes: float64(21976)\n",
            "memory usage: 3.6 GB\n"
          ]
        }
      ]
    },
    {
      "cell_type": "code",
      "source": [
        "app_item.to_csv('app_item.csv')"
      ],
      "metadata": {
        "id": "_akeSUgCPZa3"
      },
      "execution_count": null,
      "outputs": []
    },
    {
      "cell_type": "code",
      "source": [
        "app_user.to_csv('app_user.csv')#3gb\n"
      ],
      "metadata": {
        "id": "bExu4dcIpYTj"
      },
      "execution_count": null,
      "outputs": []
    },
    {
      "cell_type": "code",
      "source": [
        "ele_item = item_cosine(ele_rate[:1000000])"
      ],
      "metadata": {
        "id": "pDJ-eQftdo1Q"
      },
      "execution_count": null,
      "outputs": []
    },
    {
      "cell_type": "code",
      "source": [
        "# ele_user = user_cosine(ele_rate)"
      ],
      "metadata": {
        "id": "jmnaKUQCdk87"
      },
      "execution_count": null,
      "outputs": []
    },
    {
      "cell_type": "code",
      "source": [
        "ele_user.to_csv('ele_user.csv')"
      ],
      "metadata": {
        "id": "NuxYykK1ebW9"
      },
      "execution_count": null,
      "outputs": []
    },
    {
      "cell_type": "code",
      "source": [
        "ele_item.to_csv('ele_item.csv')"
      ],
      "metadata": {
        "id": "YqlPILTBelpb"
      },
      "execution_count": null,
      "outputs": []
    },
    {
      "cell_type": "code",
      "source": [
        "ele_item.info()"
      ],
      "metadata": {
        "colab": {
          "base_uri": "https://localhost:8080/"
        },
        "id": "49SOLLHhwIBE",
        "outputId": "3a25df71-9537-4169-9328-afb8dab89e8f"
      },
      "execution_count": null,
      "outputs": [
        {
          "output_type": "stream",
          "name": "stdout",
          "text": [
            "<class 'pandas.core.frame.DataFrame'>\n",
            "Int64Index: 4698 entries, 1000978 to 51600020\n",
            "Columns: 4698 entries, 1000978 to 51600020\n",
            "dtypes: float64(4698)\n",
            "memory usage: 168.6 MB\n"
          ]
        }
      ]
    },
    {
      "cell_type": "markdown",
      "source": [
        "####top10"
      ],
      "metadata": {
        "id": "AMYZI2YBv1uk"
      }
    },
    {
      "cell_type": "code",
      "source": [
        "ele_item"
      ],
      "metadata": {
        "id": "E06xLbk9G6Tt"
      },
      "execution_count": null,
      "outputs": []
    },
    {
      "cell_type": "code",
      "source": [
        "def item_recommend_CF1(df, pro, id, top = 11):\n",
        "  #product_id 검색\n",
        "  pro.reset_index(inplace = True) \n",
        "  target = df[f'{id}'].sort_values(ascending = False)[:top].index\n",
        "  target_list = []\n",
        "  for i in target:\n",
        "      target_list.append(i)\n",
        "  target_list.remove(id)\n",
        "  \n",
        "  #id리스트로 index 검색\n",
        "  pro.set_index('product_id',inplace = True)\n",
        "  result = product.loc[target_list].sort_values('product_pur_count', ascending = False)\n",
        "   \n",
        "\n",
        "  return result[['brand','price','main_category','middle_category','sub_category']]"
      ],
      "metadata": {
        "id": "6L2wjBXXv6l9"
      },
      "execution_count": null,
      "outputs": []
    },
    {
      "cell_type": "code",
      "source": [
        "item_recommend_CF1(ele_item, product,1002062, top = 50)"
      ],
      "metadata": {
        "id": "zsZCywrCwyG8"
      },
      "execution_count": null,
      "outputs": []
    }
  ]
}