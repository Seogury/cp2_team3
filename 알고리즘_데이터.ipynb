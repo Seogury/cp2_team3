{
  "nbformat": 4,
  "nbformat_minor": 0,
  "metadata": {
    "colab": {
      "name": "알고리즘_데이터.ipynb",
      "provenance": [],
      "authorship_tag": "ABX9TyOt6ZB4iOw5ro+kwP1eSHk6",
      "include_colab_link": true
    },
    "kernelspec": {
      "name": "python3",
      "display_name": "Python 3"
    },
    "language_info": {
      "name": "python"
    }
  },
  "cells": [
    {
      "cell_type": "markdown",
      "metadata": {
        "id": "view-in-github",
        "colab_type": "text"
      },
      "source": [
        "<a href=\"https://colab.research.google.com/github/Seogury/cp2_team3/blob/main/%EC%95%8C%EA%B3%A0%EB%A6%AC%EC%A6%98_%EB%8D%B0%EC%9D%B4%ED%84%B0.ipynb\" target=\"_parent\"><img src=\"https://colab.research.google.com/assets/colab-badge.svg\" alt=\"Open In Colab\"/></a>"
      ]
    },
    {
      "cell_type": "markdown",
      "source": [
        "### 데이터 구성\n"
      ],
      "metadata": {
        "id": "0mc-slKDeUQz"
      }
    },
    {
      "cell_type": "code",
      "source": [
        "con = (df['main_category']=='electronics') | (df['main_category']=='appliances') | (df['main_category']=='computers') \n",
        "df2 = df[con].drop(['event_time','user_session','category_id'], axis = 1)"
      ],
      "metadata": {
        "id": "c-i_4CpoIZ7g"
      },
      "execution_count": null,
      "outputs": []
    },
    {
      "cell_type": "code",
      "source": [
        "df2.to_csv('df2.csv')"
      ],
      "metadata": {
        "id": "LAmm6SuL9ML2"
      },
      "execution_count": null,
      "outputs": []
    },
    {
      "cell_type": "code",
      "execution_count": null,
      "metadata": {
        "colab": {
          "base_uri": "https://localhost:8080/"
        },
        "outputId": "2765c481-92d9-4a15-cc56-08ce84b99877",
        "id": "HNqFC-Uh8UJ5"
      },
      "outputs": [
        {
          "output_type": "stream",
          "name": "stdout",
          "text": [
            "Drive already mounted at /content/gdrive/; to attempt to forcibly remount, call drive.mount(\"/content/gdrive/\", force_remount=True).\n"
          ]
        }
      ],
      "source": [
        "from google.colab import drive\n",
        "drive.mount('/content/gdrive/')"
      ]
    },
    {
      "cell_type": "code",
      "source": [
        "df3 = df2[df2['event_type']==3]"
      ],
      "metadata": {
        "id": "3AktXBo8k-D5"
      },
      "execution_count": null,
      "outputs": []
    },
    {
      "cell_type": "code",
      "source": [
        "df_ele = df3[(df3['main_category']=='electronics')]\n",
        "df_app = df3[(df3['main_category']=='appliances')]\n",
        "df_com = df3[(df3['main_category']=='computers')]"
      ],
      "metadata": {
        "id": "gDZLYq1O-BAk"
      },
      "execution_count": null,
      "outputs": []
    },
    {
      "cell_type": "markdown",
      "source": [
        "### user"
      ],
      "metadata": {
        "id": "eervfGE04WLR"
      }
    },
    {
      "cell_type": "code",
      "source": [
        "df3 = pd.read_csv('/content/gdrive/MyDrive/df3.csv')"
      ],
      "metadata": {
        "id": "-fe2aIaFI-d6"
      },
      "execution_count": null,
      "outputs": []
    },
    {
      "cell_type": "code",
      "source": [
        "#유저별 이벤트 횟수, 평균 구매가, 브랜드, middle category\n",
        "user_pur = df3.groupby('user_id').agg(main_category = ('main_category', lambda x : [i for i in x]),\n",
        "                                   product = ('product_id', lambda x : [i for i in x]),\n",
        "                                   mean_price = ('price', 'mean'),\n",
        "                                   brand = ('brand', lambda x : [i for i in x]), \n",
        "                                   middle = ('middle_category', lambda x : [i for i in x]))#.count().reset_index()[['main_category', 'event_type']]"
      ],
      "metadata": {
        "id": "UGzDA7k6mjsh"
      },
      "execution_count": null,
      "outputs": []
    },
    {
      "cell_type": "code",
      "source": [
        "user_pur"
      ],
      "metadata": {
        "id": "R2V1IvrZsXSs"
      },
      "execution_count": null,
      "outputs": []
    },
    {
      "cell_type": "code",
      "source": [
        "#이벤트 횟수 세기\n",
        "main_count = []\n",
        "ele = []\n",
        "app = []\n",
        "com = []\n",
        "for i in user_pur['main_category']:\n",
        "  ele_count = 0\n",
        "  app_count = 0\n",
        "  com_count = 0\n",
        "  for x in i:\n",
        "    if x == 'electronics':\n",
        "      ele_count += 1\n",
        "    elif x == 'appliances':\n",
        "      app_count += 1\n",
        "    elif x == 'computers' :\n",
        "      com_count += 1\n",
        "  ele.append(ele_count/len(i)*100)\n",
        "  app.append(app_count/len(i)*100)\n",
        "  com.append(com_count/len(i)*100)\n",
        "\n",
        "user_pur['ele_count'] = ele\n",
        "user_pur['app_count'] = app\n",
        "user_pur['com_count'] = com"
      ],
      "metadata": {
        "id": "o0qHKLb8Dm9B"
      },
      "execution_count": null,
      "outputs": []
    },
    {
      "cell_type": "code",
      "source": [
        "apple = []\n",
        "samsung = []\n",
        "other = []\n",
        "for i in user_pur['brand']:\n",
        "  apple_count = 0\n",
        "  samsung_count = 0\n",
        "  other_count = 0\n",
        "  for x in i:\n",
        "    if x == 'apple':\n",
        "      apple_count += 1\n",
        "    elif x == 'samsung':\n",
        "      samsung_count += 1\n",
        "    else:\n",
        "      other_count += 1\n",
        "  apple.append(apple_count/len(i)*100)\n",
        "  samsung.append(samsung_count/len(i)*100)\n",
        "  other.append(other_count/len(i)*100)\n",
        "\n",
        "user_pur['apple_count'] = apple\n",
        "user_pur['samsung_count'] = samsung\n",
        "user_pur['other_count'] = other"
      ],
      "metadata": {
        "id": "SXPkkiXdDm9C"
      },
      "execution_count": null,
      "outputs": []
    },
    {
      "cell_type": "code",
      "source": [
        "user_pur"
      ],
      "metadata": {
        "id": "Ay29gLNGDy5X",
        "colab": {
          "base_uri": "https://localhost:8080/",
          "height": 455
        },
        "outputId": "6f6d06cb-cf69-429f-ce1d-0406f8600e75"
      },
      "execution_count": null,
      "outputs": [
        {
          "output_type": "execute_result",
          "data": {
            "text/plain": [
              "                        main_category             product  mean_price  \\\n",
              "user_id                                                                 \n",
              "303160429               [electronics]           [5100443]      340.59   \n",
              "340041246               [electronics]           [2100099]      339.70   \n",
              "384989212                [appliances]           [2501816]       41.44   \n",
              "401021311               [electronics]           [1801805]      231.64   \n",
              "403013066  [electronics, electronics]  [1004836, 1003304]      403.58   \n",
              "...                               ...                 ...         ...   \n",
              "566265448               [electronics]           [5100736]      592.01   \n",
              "566267483                 [computers]           [9101354]        5.03   \n",
              "566270060   [electronics, appliances]  [1004209, 2900934]       73.71   \n",
              "566274637               [electronics]           [1005136]     2011.63   \n",
              "566278294               [electronics]           [1005144]     1661.09   \n",
              "\n",
              "                      brand                    middle  ele_count  app_count  \\\n",
              "user_id                                                                       \n",
              "303160429          [garmin]                  [clocks]      100.0        0.0   \n",
              "340041246              [lg]                   [video]      100.0        0.0   \n",
              "384989212           [artel]                 [kitchen]        0.0      100.0   \n",
              "401021311           [artel]                   [video]      100.0        0.0   \n",
              "403013066  [samsung, apple]  [smartphone, smartphone]      100.0        0.0   \n",
              "...                     ...                       ...        ...        ...   \n",
              "566265448           [apple]                  [clocks]      100.0        0.0   \n",
              "566267483          [x-game]             [peripherals]        0.0        0.0   \n",
              "566270060  [samsung, hansa]     [smartphone, kitchen]       50.0       50.0   \n",
              "566274637           [apple]              [smartphone]      100.0        0.0   \n",
              "566278294           [apple]              [smartphone]      100.0        0.0   \n",
              "\n",
              "           com_count  apple_count  samsung_count  other_count  \n",
              "user_id                                                        \n",
              "303160429        0.0          0.0            0.0        100.0  \n",
              "340041246        0.0          0.0            0.0        100.0  \n",
              "384989212        0.0          0.0            0.0        100.0  \n",
              "401021311        0.0          0.0            0.0        100.0  \n",
              "403013066        0.0         50.0           50.0          0.0  \n",
              "...              ...          ...            ...          ...  \n",
              "566265448        0.0        100.0            0.0          0.0  \n",
              "566267483      100.0          0.0            0.0        100.0  \n",
              "566270060        0.0          0.0           50.0         50.0  \n",
              "566274637        0.0        100.0            0.0          0.0  \n",
              "566278294        0.0        100.0            0.0          0.0  \n",
              "\n",
              "[251594 rows x 11 columns]"
            ],
            "text/html": [
              "\n",
              "  <div id=\"df-f0608e72-b17a-4868-8218-7f92db360fc5\">\n",
              "    <div class=\"colab-df-container\">\n",
              "      <div>\n",
              "<style scoped>\n",
              "    .dataframe tbody tr th:only-of-type {\n",
              "        vertical-align: middle;\n",
              "    }\n",
              "\n",
              "    .dataframe tbody tr th {\n",
              "        vertical-align: top;\n",
              "    }\n",
              "\n",
              "    .dataframe thead th {\n",
              "        text-align: right;\n",
              "    }\n",
              "</style>\n",
              "<table border=\"1\" class=\"dataframe\">\n",
              "  <thead>\n",
              "    <tr style=\"text-align: right;\">\n",
              "      <th></th>\n",
              "      <th>main_category</th>\n",
              "      <th>product</th>\n",
              "      <th>mean_price</th>\n",
              "      <th>brand</th>\n",
              "      <th>middle</th>\n",
              "      <th>ele_count</th>\n",
              "      <th>app_count</th>\n",
              "      <th>com_count</th>\n",
              "      <th>apple_count</th>\n",
              "      <th>samsung_count</th>\n",
              "      <th>other_count</th>\n",
              "    </tr>\n",
              "    <tr>\n",
              "      <th>user_id</th>\n",
              "      <th></th>\n",
              "      <th></th>\n",
              "      <th></th>\n",
              "      <th></th>\n",
              "      <th></th>\n",
              "      <th></th>\n",
              "      <th></th>\n",
              "      <th></th>\n",
              "      <th></th>\n",
              "      <th></th>\n",
              "      <th></th>\n",
              "    </tr>\n",
              "  </thead>\n",
              "  <tbody>\n",
              "    <tr>\n",
              "      <th>303160429</th>\n",
              "      <td>[electronics]</td>\n",
              "      <td>[5100443]</td>\n",
              "      <td>340.59</td>\n",
              "      <td>[garmin]</td>\n",
              "      <td>[clocks]</td>\n",
              "      <td>100.0</td>\n",
              "      <td>0.0</td>\n",
              "      <td>0.0</td>\n",
              "      <td>0.0</td>\n",
              "      <td>0.0</td>\n",
              "      <td>100.0</td>\n",
              "    </tr>\n",
              "    <tr>\n",
              "      <th>340041246</th>\n",
              "      <td>[electronics]</td>\n",
              "      <td>[2100099]</td>\n",
              "      <td>339.70</td>\n",
              "      <td>[lg]</td>\n",
              "      <td>[video]</td>\n",
              "      <td>100.0</td>\n",
              "      <td>0.0</td>\n",
              "      <td>0.0</td>\n",
              "      <td>0.0</td>\n",
              "      <td>0.0</td>\n",
              "      <td>100.0</td>\n",
              "    </tr>\n",
              "    <tr>\n",
              "      <th>384989212</th>\n",
              "      <td>[appliances]</td>\n",
              "      <td>[2501816]</td>\n",
              "      <td>41.44</td>\n",
              "      <td>[artel]</td>\n",
              "      <td>[kitchen]</td>\n",
              "      <td>0.0</td>\n",
              "      <td>100.0</td>\n",
              "      <td>0.0</td>\n",
              "      <td>0.0</td>\n",
              "      <td>0.0</td>\n",
              "      <td>100.0</td>\n",
              "    </tr>\n",
              "    <tr>\n",
              "      <th>401021311</th>\n",
              "      <td>[electronics]</td>\n",
              "      <td>[1801805]</td>\n",
              "      <td>231.64</td>\n",
              "      <td>[artel]</td>\n",
              "      <td>[video]</td>\n",
              "      <td>100.0</td>\n",
              "      <td>0.0</td>\n",
              "      <td>0.0</td>\n",
              "      <td>0.0</td>\n",
              "      <td>0.0</td>\n",
              "      <td>100.0</td>\n",
              "    </tr>\n",
              "    <tr>\n",
              "      <th>403013066</th>\n",
              "      <td>[electronics, electronics]</td>\n",
              "      <td>[1004836, 1003304]</td>\n",
              "      <td>403.58</td>\n",
              "      <td>[samsung, apple]</td>\n",
              "      <td>[smartphone, smartphone]</td>\n",
              "      <td>100.0</td>\n",
              "      <td>0.0</td>\n",
              "      <td>0.0</td>\n",
              "      <td>50.0</td>\n",
              "      <td>50.0</td>\n",
              "      <td>0.0</td>\n",
              "    </tr>\n",
              "    <tr>\n",
              "      <th>...</th>\n",
              "      <td>...</td>\n",
              "      <td>...</td>\n",
              "      <td>...</td>\n",
              "      <td>...</td>\n",
              "      <td>...</td>\n",
              "      <td>...</td>\n",
              "      <td>...</td>\n",
              "      <td>...</td>\n",
              "      <td>...</td>\n",
              "      <td>...</td>\n",
              "      <td>...</td>\n",
              "    </tr>\n",
              "    <tr>\n",
              "      <th>566265448</th>\n",
              "      <td>[electronics]</td>\n",
              "      <td>[5100736]</td>\n",
              "      <td>592.01</td>\n",
              "      <td>[apple]</td>\n",
              "      <td>[clocks]</td>\n",
              "      <td>100.0</td>\n",
              "      <td>0.0</td>\n",
              "      <td>0.0</td>\n",
              "      <td>100.0</td>\n",
              "      <td>0.0</td>\n",
              "      <td>0.0</td>\n",
              "    </tr>\n",
              "    <tr>\n",
              "      <th>566267483</th>\n",
              "      <td>[computers]</td>\n",
              "      <td>[9101354]</td>\n",
              "      <td>5.03</td>\n",
              "      <td>[x-game]</td>\n",
              "      <td>[peripherals]</td>\n",
              "      <td>0.0</td>\n",
              "      <td>0.0</td>\n",
              "      <td>100.0</td>\n",
              "      <td>0.0</td>\n",
              "      <td>0.0</td>\n",
              "      <td>100.0</td>\n",
              "    </tr>\n",
              "    <tr>\n",
              "      <th>566270060</th>\n",
              "      <td>[electronics, appliances]</td>\n",
              "      <td>[1004209, 2900934]</td>\n",
              "      <td>73.71</td>\n",
              "      <td>[samsung, hansa]</td>\n",
              "      <td>[smartphone, kitchen]</td>\n",
              "      <td>50.0</td>\n",
              "      <td>50.0</td>\n",
              "      <td>0.0</td>\n",
              "      <td>0.0</td>\n",
              "      <td>50.0</td>\n",
              "      <td>50.0</td>\n",
              "    </tr>\n",
              "    <tr>\n",
              "      <th>566274637</th>\n",
              "      <td>[electronics]</td>\n",
              "      <td>[1005136]</td>\n",
              "      <td>2011.63</td>\n",
              "      <td>[apple]</td>\n",
              "      <td>[smartphone]</td>\n",
              "      <td>100.0</td>\n",
              "      <td>0.0</td>\n",
              "      <td>0.0</td>\n",
              "      <td>100.0</td>\n",
              "      <td>0.0</td>\n",
              "      <td>0.0</td>\n",
              "    </tr>\n",
              "    <tr>\n",
              "      <th>566278294</th>\n",
              "      <td>[electronics]</td>\n",
              "      <td>[1005144]</td>\n",
              "      <td>1661.09</td>\n",
              "      <td>[apple]</td>\n",
              "      <td>[smartphone]</td>\n",
              "      <td>100.0</td>\n",
              "      <td>0.0</td>\n",
              "      <td>0.0</td>\n",
              "      <td>100.0</td>\n",
              "      <td>0.0</td>\n",
              "      <td>0.0</td>\n",
              "    </tr>\n",
              "  </tbody>\n",
              "</table>\n",
              "<p>251594 rows × 11 columns</p>\n",
              "</div>\n",
              "      <button class=\"colab-df-convert\" onclick=\"convertToInteractive('df-f0608e72-b17a-4868-8218-7f92db360fc5')\"\n",
              "              title=\"Convert this dataframe to an interactive table.\"\n",
              "              style=\"display:none;\">\n",
              "        \n",
              "  <svg xmlns=\"http://www.w3.org/2000/svg\" height=\"24px\"viewBox=\"0 0 24 24\"\n",
              "       width=\"24px\">\n",
              "    <path d=\"M0 0h24v24H0V0z\" fill=\"none\"/>\n",
              "    <path d=\"M18.56 5.44l.94 2.06.94-2.06 2.06-.94-2.06-.94-.94-2.06-.94 2.06-2.06.94zm-11 1L8.5 8.5l.94-2.06 2.06-.94-2.06-.94L8.5 2.5l-.94 2.06-2.06.94zm10 10l.94 2.06.94-2.06 2.06-.94-2.06-.94-.94-2.06-.94 2.06-2.06.94z\"/><path d=\"M17.41 7.96l-1.37-1.37c-.4-.4-.92-.59-1.43-.59-.52 0-1.04.2-1.43.59L10.3 9.45l-7.72 7.72c-.78.78-.78 2.05 0 2.83L4 21.41c.39.39.9.59 1.41.59.51 0 1.02-.2 1.41-.59l7.78-7.78 2.81-2.81c.8-.78.8-2.07 0-2.86zM5.41 20L4 18.59l7.72-7.72 1.47 1.35L5.41 20z\"/>\n",
              "  </svg>\n",
              "      </button>\n",
              "      \n",
              "  <style>\n",
              "    .colab-df-container {\n",
              "      display:flex;\n",
              "      flex-wrap:wrap;\n",
              "      gap: 12px;\n",
              "    }\n",
              "\n",
              "    .colab-df-convert {\n",
              "      background-color: #E8F0FE;\n",
              "      border: none;\n",
              "      border-radius: 50%;\n",
              "      cursor: pointer;\n",
              "      display: none;\n",
              "      fill: #1967D2;\n",
              "      height: 32px;\n",
              "      padding: 0 0 0 0;\n",
              "      width: 32px;\n",
              "    }\n",
              "\n",
              "    .colab-df-convert:hover {\n",
              "      background-color: #E2EBFA;\n",
              "      box-shadow: 0px 1px 2px rgba(60, 64, 67, 0.3), 0px 1px 3px 1px rgba(60, 64, 67, 0.15);\n",
              "      fill: #174EA6;\n",
              "    }\n",
              "\n",
              "    [theme=dark] .colab-df-convert {\n",
              "      background-color: #3B4455;\n",
              "      fill: #D2E3FC;\n",
              "    }\n",
              "\n",
              "    [theme=dark] .colab-df-convert:hover {\n",
              "      background-color: #434B5C;\n",
              "      box-shadow: 0px 1px 3px 1px rgba(0, 0, 0, 0.15);\n",
              "      filter: drop-shadow(0px 1px 2px rgba(0, 0, 0, 0.3));\n",
              "      fill: #FFFFFF;\n",
              "    }\n",
              "  </style>\n",
              "\n",
              "      <script>\n",
              "        const buttonEl =\n",
              "          document.querySelector('#df-f0608e72-b17a-4868-8218-7f92db360fc5 button.colab-df-convert');\n",
              "        buttonEl.style.display =\n",
              "          google.colab.kernel.accessAllowed ? 'block' : 'none';\n",
              "\n",
              "        async function convertToInteractive(key) {\n",
              "          const element = document.querySelector('#df-f0608e72-b17a-4868-8218-7f92db360fc5');\n",
              "          const dataTable =\n",
              "            await google.colab.kernel.invokeFunction('convertToInteractive',\n",
              "                                                     [key], {});\n",
              "          if (!dataTable) return;\n",
              "\n",
              "          const docLinkHtml = 'Like what you see? Visit the ' +\n",
              "            '<a target=\"_blank\" href=https://colab.research.google.com/notebooks/data_table.ipynb>data table notebook</a>'\n",
              "            + ' to learn more about interactive tables.';\n",
              "          element.innerHTML = '';\n",
              "          dataTable['output_type'] = 'display_data';\n",
              "          await google.colab.output.renderOutput(dataTable, element);\n",
              "          const docLink = document.createElement('div');\n",
              "          docLink.innerHTML = docLinkHtml;\n",
              "          element.appendChild(docLink);\n",
              "        }\n",
              "      </script>\n",
              "    </div>\n",
              "  </div>\n",
              "  "
            ]
          },
          "metadata": {},
          "execution_count": 9
        }
      ]
    },
    {
      "cell_type": "code",
      "source": [
        "user_pur.to_csv('user_pur.csv')"
      ],
      "metadata": {
        "id": "57rupH8Cc6ky"
      },
      "execution_count": null,
      "outputs": []
    },
    {
      "cell_type": "code",
      "source": [
        "df2 = df2[(df2['event_type']==1)|(df2['event_type']==2)]"
      ],
      "metadata": {
        "id": "lQSxF8eNYrq0"
      },
      "execution_count": null,
      "outputs": []
    },
    {
      "cell_type": "code",
      "source": [
        "df2.to_csv('df2.csv')"
      ],
      "metadata": {
        "id": "HjAIPfgEZI0H"
      },
      "execution_count": null,
      "outputs": []
    },
    {
      "cell_type": "code",
      "source": [
        "user1 = df2.groupby('user_id').agg(main_category = ('main_category', lambda x : [i for i in x]),\n",
        "                                   product = ('product_id', lambda x : [i for i in x]),\n",
        "                                   mean_price = ('price', 'mean'),\n",
        "                                   brand = ('brand', lambda x : [i for i in x]), \n",
        "                                   middle = ('middle_category', lambda x : [i for i in x]))"
      ],
      "metadata": {
        "id": "SoFY98u3sMKv"
      },
      "execution_count": null,
      "outputs": []
    },
    {
      "cell_type": "code",
      "source": [
        "user1"
      ],
      "metadata": {
        "id": "9eyVmdyzqzLV"
      },
      "execution_count": null,
      "outputs": []
    },
    {
      "cell_type": "code",
      "source": [
        "#이벤트 횟수 세기\n",
        "main_count = []\n",
        "ele = []\n",
        "app = []\n",
        "com = []\n",
        "for i in user1['main_category']:\n",
        "  ele_count = 0\n",
        "  app_count = 0\n",
        "  com_count = 0\n",
        "  for x in i:\n",
        "    if x == 'electronics':\n",
        "      ele_count += 1\n",
        "    elif x == 'appliances':\n",
        "      app_count += 1\n",
        "    elif x == 'computers' :\n",
        "      com_count += 1\n",
        "  ele.append(ele_count/len(i)*100)\n",
        "  app.append(app_count/len(i)*100)\n",
        "  com.append(com_count/len(i)*100)\n",
        "\n",
        "user1['ele_count'] = ele\n",
        "user1['app_count'] = app\n",
        "user1['com_count'] = com"
      ],
      "metadata": {
        "id": "WlEeVs2Wo47W"
      },
      "execution_count": null,
      "outputs": []
    },
    {
      "cell_type": "code",
      "source": [
        "user1.drop('main_category', axis = 1, inplace = True)"
      ],
      "metadata": {
        "id": "3dfafvMHtwn_"
      },
      "execution_count": null,
      "outputs": []
    },
    {
      "cell_type": "code",
      "source": [
        "user_cat = user1.reset_index()[['user_id', 'ele_count', 'app_count', 'com_count']]"
      ],
      "metadata": {
        "id": "a0YSJs7etwFe"
      },
      "execution_count": null,
      "outputs": []
    },
    {
      "cell_type": "code",
      "source": [
        "apple = []\n",
        "samsung = []\n",
        "other = []\n",
        "for i in user1['brand']:\n",
        "  apple_count = 0\n",
        "  samsung_count = 0\n",
        "  other_count = 0\n",
        "  for x in i:\n",
        "    if x == 'apple':\n",
        "      apple_count += 1\n",
        "    elif x == 'samsung':\n",
        "      samsung_count += 1\n",
        "    else:\n",
        "      other_count += 1\n",
        "  apple.append(apple_count/len(i)*100)\n",
        "  samsung.append(samsung_count/len(i)*100)\n",
        "  other.append(other_count/len(i)*100)\n",
        "\n",
        "user1['apple_count'] = apple\n",
        "user1['samsung_count'] = samsung\n",
        "user1['other_count'] = other"
      ],
      "metadata": {
        "id": "E18B1sym-LOo"
      },
      "execution_count": null,
      "outputs": []
    },
    {
      "cell_type": "code",
      "source": [
        "user1"
      ],
      "metadata": {
        "id": "cPtxpTquy9IC"
      },
      "execution_count": null,
      "outputs": []
    },
    {
      "cell_type": "code",
      "source": [
        "user1.reset_index(inplace = True)"
      ],
      "metadata": {
        "id": "HojEKd1XAsUt"
      },
      "execution_count": null,
      "outputs": []
    },
    {
      "cell_type": "code",
      "source": [
        "user1.info()"
      ],
      "metadata": {
        "id": "j7lDzsHDUilk"
      },
      "execution_count": null,
      "outputs": []
    },
    {
      "cell_type": "code",
      "source": [
        "user1.to_csv('user.csv')"
      ],
      "metadata": {
        "id": "xrJchxr6svZb"
      },
      "execution_count": null,
      "outputs": []
    },
    {
      "cell_type": "code",
      "source": [
        "user1 = pd.read_csv('/content/gdrive/MyDrive/user.csv')"
      ],
      "metadata": {
        "id": "Y0L4JKIz_Ke2"
      },
      "execution_count": null,
      "outputs": []
    },
    {
      "cell_type": "markdown",
      "source": [
        "### product"
      ],
      "metadata": {
        "id": "06oWP8lg4aGs"
      }
    },
    {
      "cell_type": "code",
      "source": [
        "#구매된 아이템 찾기\n",
        "df3 = df2[df2['event_type']==3]"
      ],
      "metadata": {
        "id": "KZkVW2Iy44eu"
      },
      "execution_count": null,
      "outputs": []
    },
    {
      "cell_type": "code",
      "source": [
        "df2 = pd.read_csv('/content/gdrive/MyDrive/df2.csv')"
      ],
      "metadata": {
        "id": "omb_TLOh_-le"
      },
      "execution_count": null,
      "outputs": []
    },
    {
      "cell_type": "code",
      "source": [
        "#아이템 별 이벤트 횟수, 가격\n",
        "product = df3.groupby('product_id').agg(product_pur_count = ('event_type', 'count'),\n",
        "                              total_profit = ('price', 'sum'))"
      ],
      "metadata": {
        "id": "-mOmGR2BjKYm"
      },
      "execution_count": null,
      "outputs": []
    },
    {
      "cell_type": "code",
      "source": [
        "df3.drop('Unnamed: 0', axis = 1, inplace = True)"
      ],
      "metadata": {
        "id": "G6b9Ui-pAQh_"
      },
      "execution_count": null,
      "outputs": []
    },
    {
      "cell_type": "code",
      "source": [
        "df2"
      ],
      "metadata": {
        "id": "okGGLwjeAcd0"
      },
      "execution_count": null,
      "outputs": []
    },
    {
      "cell_type": "code",
      "source": [
        "product"
      ],
      "metadata": {
        "id": "OgqKVrT881Wl"
      },
      "execution_count": null,
      "outputs": []
    },
    {
      "cell_type": "code",
      "source": [
        "product.reset_index(inplace = True)"
      ],
      "metadata": {
        "id": "E7og033-nDL0"
      },
      "execution_count": null,
      "outputs": []
    },
    {
      "cell_type": "code",
      "source": [
        "#그 외 데이터 합치기\n",
        "product = pd.merge(product, df3)"
      ],
      "metadata": {
        "id": "c0ap6RilnLSd"
      },
      "execution_count": null,
      "outputs": []
    },
    {
      "cell_type": "code",
      "source": [
        "#중복 제거\n",
        "product.drop_duplicates(['product_id'], inplace = True)"
      ],
      "metadata": {
        "id": "s4IUYB_und-e"
      },
      "execution_count": null,
      "outputs": []
    },
    {
      "cell_type": "code",
      "source": [
        "product.info()"
      ],
      "metadata": {
        "id": "ePu_tcSMUykI"
      },
      "execution_count": null,
      "outputs": []
    },
    {
      "cell_type": "code",
      "source": [
        "product.reset_index(inplace = True)"
      ],
      "metadata": {
        "id": "IJy9txqgfqie"
      },
      "execution_count": null,
      "outputs": []
    },
    {
      "cell_type": "code",
      "source": [
        "product['product_id_2'] = product['product_id']"
      ],
      "metadata": {
        "id": "kyB3KfHpgplf"
      },
      "execution_count": null,
      "outputs": []
    },
    {
      "cell_type": "code",
      "source": [
        "product.set_index('product_id_2', inplace = True)"
      ],
      "metadata": {
        "id": "OCEn8C-vgzAE"
      },
      "execution_count": null,
      "outputs": []
    },
    {
      "cell_type": "code",
      "source": [
        "product.to_csv('product.csv')"
      ],
      "metadata": {
        "id": "BwhTOgsdQocp"
      },
      "execution_count": null,
      "outputs": []
    },
    {
      "cell_type": "code",
      "source": [
        "# bins = [0, 100, 200, 300, 500, 700, 900, 1200, 1500, 1800, 2100, 3000]\n",
        "# labels = ['one', 'two', 'three', 'four', '5', '6', '7','8','9','10','11']\n",
        "# product['price'] = pd.cut(product['price'], bins, right=False, labels=labels)\n",
        "# product.head()"
      ],
      "metadata": {
        "colab": {
          "base_uri": "https://localhost:8080/",
          "height": 206
        },
        "id": "NU4YNr5NbDMJ",
        "outputId": "866c909f-a377-4a67-9f56-e2717d23de69"
      },
      "execution_count": null,
      "outputs": [
        {
          "output_type": "execute_result",
          "data": {
            "text/plain": [
              "    product_id  product_pur_count           category_code    brand price\n",
              "0      1000978                 12  electronics smartphone  samsung     4\n",
              "12     1001588                 12  electronics smartphone    meizu     2\n",
              "24     1002042                  3  electronics smartphone  samsung     1\n",
              "27     1002062                 18  electronics smartphone  samsung     1\n",
              "45     1002098                 13  electronics smartphone  samsung     4"
            ],
            "text/html": [
              "\n",
              "  <div id=\"df-42825690-1250-45f6-a231-f47ca3f8a625\">\n",
              "    <div class=\"colab-df-container\">\n",
              "      <div>\n",
              "<style scoped>\n",
              "    .dataframe tbody tr th:only-of-type {\n",
              "        vertical-align: middle;\n",
              "    }\n",
              "\n",
              "    .dataframe tbody tr th {\n",
              "        vertical-align: top;\n",
              "    }\n",
              "\n",
              "    .dataframe thead th {\n",
              "        text-align: right;\n",
              "    }\n",
              "</style>\n",
              "<table border=\"1\" class=\"dataframe\">\n",
              "  <thead>\n",
              "    <tr style=\"text-align: right;\">\n",
              "      <th></th>\n",
              "      <th>product_id</th>\n",
              "      <th>product_pur_count</th>\n",
              "      <th>category_code</th>\n",
              "      <th>brand</th>\n",
              "      <th>price</th>\n",
              "    </tr>\n",
              "  </thead>\n",
              "  <tbody>\n",
              "    <tr>\n",
              "      <th>0</th>\n",
              "      <td>1000978</td>\n",
              "      <td>12</td>\n",
              "      <td>electronics smartphone</td>\n",
              "      <td>samsung</td>\n",
              "      <td>4</td>\n",
              "    </tr>\n",
              "    <tr>\n",
              "      <th>12</th>\n",
              "      <td>1001588</td>\n",
              "      <td>12</td>\n",
              "      <td>electronics smartphone</td>\n",
              "      <td>meizu</td>\n",
              "      <td>2</td>\n",
              "    </tr>\n",
              "    <tr>\n",
              "      <th>24</th>\n",
              "      <td>1002042</td>\n",
              "      <td>3</td>\n",
              "      <td>electronics smartphone</td>\n",
              "      <td>samsung</td>\n",
              "      <td>1</td>\n",
              "    </tr>\n",
              "    <tr>\n",
              "      <th>27</th>\n",
              "      <td>1002062</td>\n",
              "      <td>18</td>\n",
              "      <td>electronics smartphone</td>\n",
              "      <td>samsung</td>\n",
              "      <td>1</td>\n",
              "    </tr>\n",
              "    <tr>\n",
              "      <th>45</th>\n",
              "      <td>1002098</td>\n",
              "      <td>13</td>\n",
              "      <td>electronics smartphone</td>\n",
              "      <td>samsung</td>\n",
              "      <td>4</td>\n",
              "    </tr>\n",
              "  </tbody>\n",
              "</table>\n",
              "</div>\n",
              "      <button class=\"colab-df-convert\" onclick=\"convertToInteractive('df-42825690-1250-45f6-a231-f47ca3f8a625')\"\n",
              "              title=\"Convert this dataframe to an interactive table.\"\n",
              "              style=\"display:none;\">\n",
              "        \n",
              "  <svg xmlns=\"http://www.w3.org/2000/svg\" height=\"24px\"viewBox=\"0 0 24 24\"\n",
              "       width=\"24px\">\n",
              "    <path d=\"M0 0h24v24H0V0z\" fill=\"none\"/>\n",
              "    <path d=\"M18.56 5.44l.94 2.06.94-2.06 2.06-.94-2.06-.94-.94-2.06-.94 2.06-2.06.94zm-11 1L8.5 8.5l.94-2.06 2.06-.94-2.06-.94L8.5 2.5l-.94 2.06-2.06.94zm10 10l.94 2.06.94-2.06 2.06-.94-2.06-.94-.94-2.06-.94 2.06-2.06.94z\"/><path d=\"M17.41 7.96l-1.37-1.37c-.4-.4-.92-.59-1.43-.59-.52 0-1.04.2-1.43.59L10.3 9.45l-7.72 7.72c-.78.78-.78 2.05 0 2.83L4 21.41c.39.39.9.59 1.41.59.51 0 1.02-.2 1.41-.59l7.78-7.78 2.81-2.81c.8-.78.8-2.07 0-2.86zM5.41 20L4 18.59l7.72-7.72 1.47 1.35L5.41 20z\"/>\n",
              "  </svg>\n",
              "      </button>\n",
              "      \n",
              "  <style>\n",
              "    .colab-df-container {\n",
              "      display:flex;\n",
              "      flex-wrap:wrap;\n",
              "      gap: 12px;\n",
              "    }\n",
              "\n",
              "    .colab-df-convert {\n",
              "      background-color: #E8F0FE;\n",
              "      border: none;\n",
              "      border-radius: 50%;\n",
              "      cursor: pointer;\n",
              "      display: none;\n",
              "      fill: #1967D2;\n",
              "      height: 32px;\n",
              "      padding: 0 0 0 0;\n",
              "      width: 32px;\n",
              "    }\n",
              "\n",
              "    .colab-df-convert:hover {\n",
              "      background-color: #E2EBFA;\n",
              "      box-shadow: 0px 1px 2px rgba(60, 64, 67, 0.3), 0px 1px 3px 1px rgba(60, 64, 67, 0.15);\n",
              "      fill: #174EA6;\n",
              "    }\n",
              "\n",
              "    [theme=dark] .colab-df-convert {\n",
              "      background-color: #3B4455;\n",
              "      fill: #D2E3FC;\n",
              "    }\n",
              "\n",
              "    [theme=dark] .colab-df-convert:hover {\n",
              "      background-color: #434B5C;\n",
              "      box-shadow: 0px 1px 3px 1px rgba(0, 0, 0, 0.15);\n",
              "      filter: drop-shadow(0px 1px 2px rgba(0, 0, 0, 0.3));\n",
              "      fill: #FFFFFF;\n",
              "    }\n",
              "  </style>\n",
              "\n",
              "      <script>\n",
              "        const buttonEl =\n",
              "          document.querySelector('#df-42825690-1250-45f6-a231-f47ca3f8a625 button.colab-df-convert');\n",
              "        buttonEl.style.display =\n",
              "          google.colab.kernel.accessAllowed ? 'block' : 'none';\n",
              "\n",
              "        async function convertToInteractive(key) {\n",
              "          const element = document.querySelector('#df-42825690-1250-45f6-a231-f47ca3f8a625');\n",
              "          const dataTable =\n",
              "            await google.colab.kernel.invokeFunction('convertToInteractive',\n",
              "                                                     [key], {});\n",
              "          if (!dataTable) return;\n",
              "\n",
              "          const docLinkHtml = 'Like what you see? Visit the ' +\n",
              "            '<a target=\"_blank\" href=https://colab.research.google.com/notebooks/data_table.ipynb>data table notebook</a>'\n",
              "            + ' to learn more about interactive tables.';\n",
              "          element.innerHTML = '';\n",
              "          dataTable['output_type'] = 'display_data';\n",
              "          await google.colab.output.renderOutput(dataTable, element);\n",
              "          const docLink = document.createElement('div');\n",
              "          docLink.innerHTML = docLinkHtml;\n",
              "          element.appendChild(docLink);\n",
              "        }\n",
              "      </script>\n",
              "    </div>\n",
              "  </div>\n",
              "  "
            ]
          },
          "metadata": {},
          "execution_count": 204
        }
      ]
    },
    {
      "cell_type": "code",
      "source": [
        "# product['price'] = product['price'].astype(str)"
      ],
      "metadata": {
        "id": "5xt-Q2DQcG8C"
      },
      "execution_count": null,
      "outputs": []
    },
    {
      "cell_type": "code",
      "source": [
        "import pandas as pd\n",
        "product = pd.read_csv('/content/gdrive/MyDrive/product.csv')"
      ],
      "metadata": {
        "id": "Wl0kZZl_t-JT"
      },
      "execution_count": null,
      "outputs": []
    },
    {
      "cell_type": "code",
      "source": [
        "product.drop('Unnamed: 0', axis = 1, inplace = True)"
      ],
      "metadata": {
        "id": "-21Zzo1Wvruz"
      },
      "execution_count": null,
      "outputs": []
    },
    {
      "cell_type": "code",
      "source": [
        "product.info()"
      ],
      "metadata": {
        "id": "F3MXevIzVfAd"
      },
      "execution_count": null,
      "outputs": []
    },
    {
      "cell_type": "code",
      "source": [
        "product[product['main_category']=='appliances']"
      ],
      "metadata": {
        "id": "yq5EaPXPQDOz"
      },
      "execution_count": null,
      "outputs": []
    },
    {
      "cell_type": "code",
      "source": [
        "product.drop(['event_type', 'user_id', 'total_profit'], axis = 1, inplace = True)"
      ],
      "metadata": {
        "id": "sE4BFyE5hDkt"
      },
      "execution_count": null,
      "outputs": []
    },
    {
      "cell_type": "code",
      "source": [
        "product"
      ],
      "metadata": {
        "colab": {
          "base_uri": "https://localhost:8080/",
          "height": 455
        },
        "id": "df1ICY66QHL5",
        "outputId": "70ba697f-6924-4aaf-d826-c5e090c72de1"
      },
      "execution_count": null,
      "outputs": [
        {
          "output_type": "execute_result",
          "data": {
            "text/plain": [
              "               index  product_id  product_pur_count  total_profit  event_type  \\\n",
              "product_id_2                                                                    \n",
              "1000978            0     1000978                 12       3840.13           3   \n",
              "1001588           12     1001588                 12       1538.18           3   \n",
              "1002042           24     1002042                  3        231.42           3   \n",
              "1002062           27     1002062                 18       1723.47           3   \n",
              "1002098           45     1002098                 13       4818.32           3   \n",
              "...              ...         ...                ...           ...         ...   \n",
              "51600010      525856    51600010                  6         71.08           3   \n",
              "51600011      525862    51600011                  4         51.36           3   \n",
              "51600012      525866    51600012                  4         51.36           3   \n",
              "51600018      525870    51600018                  2         27.24           3   \n",
              "51600020      525872    51600020                  7         95.34           3   \n",
              "\n",
              "                       category_code    brand   price    user_id  \\\n",
              "product_id_2                                                       \n",
              "1000978       electronics.smartphone  samsung  333.49  560163787   \n",
              "1001588       electronics.smartphone    meizu  128.30  513568790   \n",
              "1002042       electronics.smartphone  samsung   77.14  514943394   \n",
              "1002062       electronics.smartphone  samsung   77.14  555316329   \n",
              "1002098       electronics.smartphone  samsung  370.64  555356683   \n",
              "...                              ...      ...     ...        ...   \n",
              "51600010          electronics.clocks   troyka   12.84  513459370   \n",
              "51600011          electronics.clocks      NaN   12.84  515865627   \n",
              "51600012          electronics.clocks      NaN   12.84  522626512   \n",
              "51600018          electronics.clocks      NaN   13.62  514426008   \n",
              "51600020          electronics.clocks      NaN   13.62  559804864   \n",
              "\n",
              "             main_category middle_category sub_category  \n",
              "product_id_2                                             \n",
              "1000978        electronics      smartphone          NaN  \n",
              "1001588        electronics      smartphone          NaN  \n",
              "1002042        electronics      smartphone          NaN  \n",
              "1002062        electronics      smartphone          NaN  \n",
              "1002098        electronics      smartphone          NaN  \n",
              "...                    ...             ...          ...  \n",
              "51600010       electronics          clocks          NaN  \n",
              "51600011       electronics          clocks          NaN  \n",
              "51600012       electronics          clocks          NaN  \n",
              "51600018       electronics          clocks          NaN  \n",
              "51600020       electronics          clocks          NaN  \n",
              "\n",
              "[12174 rows x 12 columns]"
            ],
            "text/html": [
              "\n",
              "  <div id=\"df-4a259cf7-e4f9-4e50-a1c2-969309336636\">\n",
              "    <div class=\"colab-df-container\">\n",
              "      <div>\n",
              "<style scoped>\n",
              "    .dataframe tbody tr th:only-of-type {\n",
              "        vertical-align: middle;\n",
              "    }\n",
              "\n",
              "    .dataframe tbody tr th {\n",
              "        vertical-align: top;\n",
              "    }\n",
              "\n",
              "    .dataframe thead th {\n",
              "        text-align: right;\n",
              "    }\n",
              "</style>\n",
              "<table border=\"1\" class=\"dataframe\">\n",
              "  <thead>\n",
              "    <tr style=\"text-align: right;\">\n",
              "      <th></th>\n",
              "      <th>index</th>\n",
              "      <th>product_id</th>\n",
              "      <th>product_pur_count</th>\n",
              "      <th>total_profit</th>\n",
              "      <th>event_type</th>\n",
              "      <th>category_code</th>\n",
              "      <th>brand</th>\n",
              "      <th>price</th>\n",
              "      <th>user_id</th>\n",
              "      <th>main_category</th>\n",
              "      <th>middle_category</th>\n",
              "      <th>sub_category</th>\n",
              "    </tr>\n",
              "    <tr>\n",
              "      <th>product_id_2</th>\n",
              "      <th></th>\n",
              "      <th></th>\n",
              "      <th></th>\n",
              "      <th></th>\n",
              "      <th></th>\n",
              "      <th></th>\n",
              "      <th></th>\n",
              "      <th></th>\n",
              "      <th></th>\n",
              "      <th></th>\n",
              "      <th></th>\n",
              "      <th></th>\n",
              "    </tr>\n",
              "  </thead>\n",
              "  <tbody>\n",
              "    <tr>\n",
              "      <th>1000978</th>\n",
              "      <td>0</td>\n",
              "      <td>1000978</td>\n",
              "      <td>12</td>\n",
              "      <td>3840.13</td>\n",
              "      <td>3</td>\n",
              "      <td>electronics.smartphone</td>\n",
              "      <td>samsung</td>\n",
              "      <td>333.49</td>\n",
              "      <td>560163787</td>\n",
              "      <td>electronics</td>\n",
              "      <td>smartphone</td>\n",
              "      <td>NaN</td>\n",
              "    </tr>\n",
              "    <tr>\n",
              "      <th>1001588</th>\n",
              "      <td>12</td>\n",
              "      <td>1001588</td>\n",
              "      <td>12</td>\n",
              "      <td>1538.18</td>\n",
              "      <td>3</td>\n",
              "      <td>electronics.smartphone</td>\n",
              "      <td>meizu</td>\n",
              "      <td>128.30</td>\n",
              "      <td>513568790</td>\n",
              "      <td>electronics</td>\n",
              "      <td>smartphone</td>\n",
              "      <td>NaN</td>\n",
              "    </tr>\n",
              "    <tr>\n",
              "      <th>1002042</th>\n",
              "      <td>24</td>\n",
              "      <td>1002042</td>\n",
              "      <td>3</td>\n",
              "      <td>231.42</td>\n",
              "      <td>3</td>\n",
              "      <td>electronics.smartphone</td>\n",
              "      <td>samsung</td>\n",
              "      <td>77.14</td>\n",
              "      <td>514943394</td>\n",
              "      <td>electronics</td>\n",
              "      <td>smartphone</td>\n",
              "      <td>NaN</td>\n",
              "    </tr>\n",
              "    <tr>\n",
              "      <th>1002062</th>\n",
              "      <td>27</td>\n",
              "      <td>1002062</td>\n",
              "      <td>18</td>\n",
              "      <td>1723.47</td>\n",
              "      <td>3</td>\n",
              "      <td>electronics.smartphone</td>\n",
              "      <td>samsung</td>\n",
              "      <td>77.14</td>\n",
              "      <td>555316329</td>\n",
              "      <td>electronics</td>\n",
              "      <td>smartphone</td>\n",
              "      <td>NaN</td>\n",
              "    </tr>\n",
              "    <tr>\n",
              "      <th>1002098</th>\n",
              "      <td>45</td>\n",
              "      <td>1002098</td>\n",
              "      <td>13</td>\n",
              "      <td>4818.32</td>\n",
              "      <td>3</td>\n",
              "      <td>electronics.smartphone</td>\n",
              "      <td>samsung</td>\n",
              "      <td>370.64</td>\n",
              "      <td>555356683</td>\n",
              "      <td>electronics</td>\n",
              "      <td>smartphone</td>\n",
              "      <td>NaN</td>\n",
              "    </tr>\n",
              "    <tr>\n",
              "      <th>...</th>\n",
              "      <td>...</td>\n",
              "      <td>...</td>\n",
              "      <td>...</td>\n",
              "      <td>...</td>\n",
              "      <td>...</td>\n",
              "      <td>...</td>\n",
              "      <td>...</td>\n",
              "      <td>...</td>\n",
              "      <td>...</td>\n",
              "      <td>...</td>\n",
              "      <td>...</td>\n",
              "      <td>...</td>\n",
              "    </tr>\n",
              "    <tr>\n",
              "      <th>51600010</th>\n",
              "      <td>525856</td>\n",
              "      <td>51600010</td>\n",
              "      <td>6</td>\n",
              "      <td>71.08</td>\n",
              "      <td>3</td>\n",
              "      <td>electronics.clocks</td>\n",
              "      <td>troyka</td>\n",
              "      <td>12.84</td>\n",
              "      <td>513459370</td>\n",
              "      <td>electronics</td>\n",
              "      <td>clocks</td>\n",
              "      <td>NaN</td>\n",
              "    </tr>\n",
              "    <tr>\n",
              "      <th>51600011</th>\n",
              "      <td>525862</td>\n",
              "      <td>51600011</td>\n",
              "      <td>4</td>\n",
              "      <td>51.36</td>\n",
              "      <td>3</td>\n",
              "      <td>electronics.clocks</td>\n",
              "      <td>NaN</td>\n",
              "      <td>12.84</td>\n",
              "      <td>515865627</td>\n",
              "      <td>electronics</td>\n",
              "      <td>clocks</td>\n",
              "      <td>NaN</td>\n",
              "    </tr>\n",
              "    <tr>\n",
              "      <th>51600012</th>\n",
              "      <td>525866</td>\n",
              "      <td>51600012</td>\n",
              "      <td>4</td>\n",
              "      <td>51.36</td>\n",
              "      <td>3</td>\n",
              "      <td>electronics.clocks</td>\n",
              "      <td>NaN</td>\n",
              "      <td>12.84</td>\n",
              "      <td>522626512</td>\n",
              "      <td>electronics</td>\n",
              "      <td>clocks</td>\n",
              "      <td>NaN</td>\n",
              "    </tr>\n",
              "    <tr>\n",
              "      <th>51600018</th>\n",
              "      <td>525870</td>\n",
              "      <td>51600018</td>\n",
              "      <td>2</td>\n",
              "      <td>27.24</td>\n",
              "      <td>3</td>\n",
              "      <td>electronics.clocks</td>\n",
              "      <td>NaN</td>\n",
              "      <td>13.62</td>\n",
              "      <td>514426008</td>\n",
              "      <td>electronics</td>\n",
              "      <td>clocks</td>\n",
              "      <td>NaN</td>\n",
              "    </tr>\n",
              "    <tr>\n",
              "      <th>51600020</th>\n",
              "      <td>525872</td>\n",
              "      <td>51600020</td>\n",
              "      <td>7</td>\n",
              "      <td>95.34</td>\n",
              "      <td>3</td>\n",
              "      <td>electronics.clocks</td>\n",
              "      <td>NaN</td>\n",
              "      <td>13.62</td>\n",
              "      <td>559804864</td>\n",
              "      <td>electronics</td>\n",
              "      <td>clocks</td>\n",
              "      <td>NaN</td>\n",
              "    </tr>\n",
              "  </tbody>\n",
              "</table>\n",
              "<p>12174 rows × 12 columns</p>\n",
              "</div>\n",
              "      <button class=\"colab-df-convert\" onclick=\"convertToInteractive('df-4a259cf7-e4f9-4e50-a1c2-969309336636')\"\n",
              "              title=\"Convert this dataframe to an interactive table.\"\n",
              "              style=\"display:none;\">\n",
              "        \n",
              "  <svg xmlns=\"http://www.w3.org/2000/svg\" height=\"24px\"viewBox=\"0 0 24 24\"\n",
              "       width=\"24px\">\n",
              "    <path d=\"M0 0h24v24H0V0z\" fill=\"none\"/>\n",
              "    <path d=\"M18.56 5.44l.94 2.06.94-2.06 2.06-.94-2.06-.94-.94-2.06-.94 2.06-2.06.94zm-11 1L8.5 8.5l.94-2.06 2.06-.94-2.06-.94L8.5 2.5l-.94 2.06-2.06.94zm10 10l.94 2.06.94-2.06 2.06-.94-2.06-.94-.94-2.06-.94 2.06-2.06.94z\"/><path d=\"M17.41 7.96l-1.37-1.37c-.4-.4-.92-.59-1.43-.59-.52 0-1.04.2-1.43.59L10.3 9.45l-7.72 7.72c-.78.78-.78 2.05 0 2.83L4 21.41c.39.39.9.59 1.41.59.51 0 1.02-.2 1.41-.59l7.78-7.78 2.81-2.81c.8-.78.8-2.07 0-2.86zM5.41 20L4 18.59l7.72-7.72 1.47 1.35L5.41 20z\"/>\n",
              "  </svg>\n",
              "      </button>\n",
              "      \n",
              "  <style>\n",
              "    .colab-df-container {\n",
              "      display:flex;\n",
              "      flex-wrap:wrap;\n",
              "      gap: 12px;\n",
              "    }\n",
              "\n",
              "    .colab-df-convert {\n",
              "      background-color: #E8F0FE;\n",
              "      border: none;\n",
              "      border-radius: 50%;\n",
              "      cursor: pointer;\n",
              "      display: none;\n",
              "      fill: #1967D2;\n",
              "      height: 32px;\n",
              "      padding: 0 0 0 0;\n",
              "      width: 32px;\n",
              "    }\n",
              "\n",
              "    .colab-df-convert:hover {\n",
              "      background-color: #E2EBFA;\n",
              "      box-shadow: 0px 1px 2px rgba(60, 64, 67, 0.3), 0px 1px 3px 1px rgba(60, 64, 67, 0.15);\n",
              "      fill: #174EA6;\n",
              "    }\n",
              "\n",
              "    [theme=dark] .colab-df-convert {\n",
              "      background-color: #3B4455;\n",
              "      fill: #D2E3FC;\n",
              "    }\n",
              "\n",
              "    [theme=dark] .colab-df-convert:hover {\n",
              "      background-color: #434B5C;\n",
              "      box-shadow: 0px 1px 3px 1px rgba(0, 0, 0, 0.15);\n",
              "      filter: drop-shadow(0px 1px 2px rgba(0, 0, 0, 0.3));\n",
              "      fill: #FFFFFF;\n",
              "    }\n",
              "  </style>\n",
              "\n",
              "      <script>\n",
              "        const buttonEl =\n",
              "          document.querySelector('#df-4a259cf7-e4f9-4e50-a1c2-969309336636 button.colab-df-convert');\n",
              "        buttonEl.style.display =\n",
              "          google.colab.kernel.accessAllowed ? 'block' : 'none';\n",
              "\n",
              "        async function convertToInteractive(key) {\n",
              "          const element = document.querySelector('#df-4a259cf7-e4f9-4e50-a1c2-969309336636');\n",
              "          const dataTable =\n",
              "            await google.colab.kernel.invokeFunction('convertToInteractive',\n",
              "                                                     [key], {});\n",
              "          if (!dataTable) return;\n",
              "\n",
              "          const docLinkHtml = 'Like what you see? Visit the ' +\n",
              "            '<a target=\"_blank\" href=https://colab.research.google.com/notebooks/data_table.ipynb>data table notebook</a>'\n",
              "            + ' to learn more about interactive tables.';\n",
              "          element.innerHTML = '';\n",
              "          dataTable['output_type'] = 'display_data';\n",
              "          await google.colab.output.renderOutput(dataTable, element);\n",
              "          const docLink = document.createElement('div');\n",
              "          docLink.innerHTML = docLinkHtml;\n",
              "          element.appendChild(docLink);\n",
              "        }\n",
              "      </script>\n",
              "    </div>\n",
              "  </div>\n",
              "  "
            ]
          },
          "metadata": {},
          "execution_count": 27
        }
      ]
    },
    {
      "cell_type": "code",
      "source": [
        "product_vect = product.drop(['event_type', 'user_id', 'main_category','middle_category',\t'sub_category', 'total_profit'], axis = 1)"
      ],
      "metadata": {
        "id": "Wk3gXWcvUyhp"
      },
      "execution_count": null,
      "outputs": []
    },
    {
      "cell_type": "code",
      "source": [
        "product_vect"
      ],
      "metadata": {
        "id": "iKZF2pDTjtAL"
      },
      "execution_count": null,
      "outputs": []
    },
    {
      "cell_type": "code",
      "source": [
        "product_vect['category_code'] = [i.replace('.', ' ') for i in product['category_code']]"
      ],
      "metadata": {
        "id": "gQiwumHRW_JJ"
      },
      "execution_count": null,
      "outputs": []
    },
    {
      "cell_type": "code",
      "source": [
        "product_vect.isnull().sum()"
      ],
      "metadata": {
        "id": "QfVBKjfjYg2F"
      },
      "execution_count": null,
      "outputs": []
    },
    {
      "cell_type": "code",
      "source": [
        "product_vect.fillna('no', inplace = True)"
      ],
      "metadata": {
        "id": "33zEzRFtZA_W"
      },
      "execution_count": null,
      "outputs": []
    },
    {
      "cell_type": "code",
      "source": [
        "product_vect"
      ],
      "metadata": {
        "colab": {
          "base_uri": "https://localhost:8080/",
          "height": 423
        },
        "id": "OhmR5jHwac9O",
        "outputId": "05799622-0f0c-46e0-f2b9-3ba9ad10dffc"
      },
      "execution_count": null,
      "outputs": [
        {
          "output_type": "execute_result",
          "data": {
            "text/plain": [
              "        product_id  product_pur_count           category_code    brand   price\n",
              "0          1000978                 12  electronics smartphone  samsung  333.49\n",
              "12         1001588                 12  electronics smartphone    meizu  128.30\n",
              "24         1002042                  3  electronics smartphone  samsung   77.14\n",
              "27         1002062                 18  electronics smartphone  samsung   77.14\n",
              "45         1002098                 13  electronics smartphone  samsung  370.64\n",
              "...            ...                ...                     ...      ...     ...\n",
              "525856    51600010                  6      electronics clocks   troyka   12.84\n",
              "525862    51600011                  4      electronics clocks       no   12.84\n",
              "525866    51600012                  4      electronics clocks       no   12.84\n",
              "525870    51600018                  2      electronics clocks       no   13.62\n",
              "525872    51600020                  7      electronics clocks       no   13.62\n",
              "\n",
              "[12174 rows x 5 columns]"
            ],
            "text/html": [
              "\n",
              "  <div id=\"df-91c5ad5c-017b-4517-9d07-c1412c31c034\">\n",
              "    <div class=\"colab-df-container\">\n",
              "      <div>\n",
              "<style scoped>\n",
              "    .dataframe tbody tr th:only-of-type {\n",
              "        vertical-align: middle;\n",
              "    }\n",
              "\n",
              "    .dataframe tbody tr th {\n",
              "        vertical-align: top;\n",
              "    }\n",
              "\n",
              "    .dataframe thead th {\n",
              "        text-align: right;\n",
              "    }\n",
              "</style>\n",
              "<table border=\"1\" class=\"dataframe\">\n",
              "  <thead>\n",
              "    <tr style=\"text-align: right;\">\n",
              "      <th></th>\n",
              "      <th>product_id</th>\n",
              "      <th>product_pur_count</th>\n",
              "      <th>category_code</th>\n",
              "      <th>brand</th>\n",
              "      <th>price</th>\n",
              "    </tr>\n",
              "  </thead>\n",
              "  <tbody>\n",
              "    <tr>\n",
              "      <th>0</th>\n",
              "      <td>1000978</td>\n",
              "      <td>12</td>\n",
              "      <td>electronics smartphone</td>\n",
              "      <td>samsung</td>\n",
              "      <td>333.49</td>\n",
              "    </tr>\n",
              "    <tr>\n",
              "      <th>12</th>\n",
              "      <td>1001588</td>\n",
              "      <td>12</td>\n",
              "      <td>electronics smartphone</td>\n",
              "      <td>meizu</td>\n",
              "      <td>128.30</td>\n",
              "    </tr>\n",
              "    <tr>\n",
              "      <th>24</th>\n",
              "      <td>1002042</td>\n",
              "      <td>3</td>\n",
              "      <td>electronics smartphone</td>\n",
              "      <td>samsung</td>\n",
              "      <td>77.14</td>\n",
              "    </tr>\n",
              "    <tr>\n",
              "      <th>27</th>\n",
              "      <td>1002062</td>\n",
              "      <td>18</td>\n",
              "      <td>electronics smartphone</td>\n",
              "      <td>samsung</td>\n",
              "      <td>77.14</td>\n",
              "    </tr>\n",
              "    <tr>\n",
              "      <th>45</th>\n",
              "      <td>1002098</td>\n",
              "      <td>13</td>\n",
              "      <td>electronics smartphone</td>\n",
              "      <td>samsung</td>\n",
              "      <td>370.64</td>\n",
              "    </tr>\n",
              "    <tr>\n",
              "      <th>...</th>\n",
              "      <td>...</td>\n",
              "      <td>...</td>\n",
              "      <td>...</td>\n",
              "      <td>...</td>\n",
              "      <td>...</td>\n",
              "    </tr>\n",
              "    <tr>\n",
              "      <th>525856</th>\n",
              "      <td>51600010</td>\n",
              "      <td>6</td>\n",
              "      <td>electronics clocks</td>\n",
              "      <td>troyka</td>\n",
              "      <td>12.84</td>\n",
              "    </tr>\n",
              "    <tr>\n",
              "      <th>525862</th>\n",
              "      <td>51600011</td>\n",
              "      <td>4</td>\n",
              "      <td>electronics clocks</td>\n",
              "      <td>no</td>\n",
              "      <td>12.84</td>\n",
              "    </tr>\n",
              "    <tr>\n",
              "      <th>525866</th>\n",
              "      <td>51600012</td>\n",
              "      <td>4</td>\n",
              "      <td>electronics clocks</td>\n",
              "      <td>no</td>\n",
              "      <td>12.84</td>\n",
              "    </tr>\n",
              "    <tr>\n",
              "      <th>525870</th>\n",
              "      <td>51600018</td>\n",
              "      <td>2</td>\n",
              "      <td>electronics clocks</td>\n",
              "      <td>no</td>\n",
              "      <td>13.62</td>\n",
              "    </tr>\n",
              "    <tr>\n",
              "      <th>525872</th>\n",
              "      <td>51600020</td>\n",
              "      <td>7</td>\n",
              "      <td>electronics clocks</td>\n",
              "      <td>no</td>\n",
              "      <td>13.62</td>\n",
              "    </tr>\n",
              "  </tbody>\n",
              "</table>\n",
              "<p>12174 rows × 5 columns</p>\n",
              "</div>\n",
              "      <button class=\"colab-df-convert\" onclick=\"convertToInteractive('df-91c5ad5c-017b-4517-9d07-c1412c31c034')\"\n",
              "              title=\"Convert this dataframe to an interactive table.\"\n",
              "              style=\"display:none;\">\n",
              "        \n",
              "  <svg xmlns=\"http://www.w3.org/2000/svg\" height=\"24px\"viewBox=\"0 0 24 24\"\n",
              "       width=\"24px\">\n",
              "    <path d=\"M0 0h24v24H0V0z\" fill=\"none\"/>\n",
              "    <path d=\"M18.56 5.44l.94 2.06.94-2.06 2.06-.94-2.06-.94-.94-2.06-.94 2.06-2.06.94zm-11 1L8.5 8.5l.94-2.06 2.06-.94-2.06-.94L8.5 2.5l-.94 2.06-2.06.94zm10 10l.94 2.06.94-2.06 2.06-.94-2.06-.94-.94-2.06-.94 2.06-2.06.94z\"/><path d=\"M17.41 7.96l-1.37-1.37c-.4-.4-.92-.59-1.43-.59-.52 0-1.04.2-1.43.59L10.3 9.45l-7.72 7.72c-.78.78-.78 2.05 0 2.83L4 21.41c.39.39.9.59 1.41.59.51 0 1.02-.2 1.41-.59l7.78-7.78 2.81-2.81c.8-.78.8-2.07 0-2.86zM5.41 20L4 18.59l7.72-7.72 1.47 1.35L5.41 20z\"/>\n",
              "  </svg>\n",
              "      </button>\n",
              "      \n",
              "  <style>\n",
              "    .colab-df-container {\n",
              "      display:flex;\n",
              "      flex-wrap:wrap;\n",
              "      gap: 12px;\n",
              "    }\n",
              "\n",
              "    .colab-df-convert {\n",
              "      background-color: #E8F0FE;\n",
              "      border: none;\n",
              "      border-radius: 50%;\n",
              "      cursor: pointer;\n",
              "      display: none;\n",
              "      fill: #1967D2;\n",
              "      height: 32px;\n",
              "      padding: 0 0 0 0;\n",
              "      width: 32px;\n",
              "    }\n",
              "\n",
              "    .colab-df-convert:hover {\n",
              "      background-color: #E2EBFA;\n",
              "      box-shadow: 0px 1px 2px rgba(60, 64, 67, 0.3), 0px 1px 3px 1px rgba(60, 64, 67, 0.15);\n",
              "      fill: #174EA6;\n",
              "    }\n",
              "\n",
              "    [theme=dark] .colab-df-convert {\n",
              "      background-color: #3B4455;\n",
              "      fill: #D2E3FC;\n",
              "    }\n",
              "\n",
              "    [theme=dark] .colab-df-convert:hover {\n",
              "      background-color: #434B5C;\n",
              "      box-shadow: 0px 1px 3px 1px rgba(0, 0, 0, 0.15);\n",
              "      filter: drop-shadow(0px 1px 2px rgba(0, 0, 0, 0.3));\n",
              "      fill: #FFFFFF;\n",
              "    }\n",
              "  </style>\n",
              "\n",
              "      <script>\n",
              "        const buttonEl =\n",
              "          document.querySelector('#df-91c5ad5c-017b-4517-9d07-c1412c31c034 button.colab-df-convert');\n",
              "        buttonEl.style.display =\n",
              "          google.colab.kernel.accessAllowed ? 'block' : 'none';\n",
              "\n",
              "        async function convertToInteractive(key) {\n",
              "          const element = document.querySelector('#df-91c5ad5c-017b-4517-9d07-c1412c31c034');\n",
              "          const dataTable =\n",
              "            await google.colab.kernel.invokeFunction('convertToInteractive',\n",
              "                                                     [key], {});\n",
              "          if (!dataTable) return;\n",
              "\n",
              "          const docLinkHtml = 'Like what you see? Visit the ' +\n",
              "            '<a target=\"_blank\" href=https://colab.research.google.com/notebooks/data_table.ipynb>data table notebook</a>'\n",
              "            + ' to learn more about interactive tables.';\n",
              "          element.innerHTML = '';\n",
              "          dataTable['output_type'] = 'display_data';\n",
              "          await google.colab.output.renderOutput(dataTable, element);\n",
              "          const docLink = document.createElement('div');\n",
              "          docLink.innerHTML = docLinkHtml;\n",
              "          element.appendChild(docLink);\n",
              "        }\n",
              "      </script>\n",
              "    </div>\n",
              "  </div>\n",
              "  "
            ]
          },
          "metadata": {},
          "execution_count": 37
        }
      ]
    },
    {
      "cell_type": "code",
      "source": [
        "product_vect['price'] = product_vect['price'].apply(lambda x : str(int(x)))"
      ],
      "metadata": {
        "id": "wOGvwmzzb8Ev"
      },
      "execution_count": null,
      "outputs": []
    },
    {
      "cell_type": "code",
      "source": [
        "product_vect['category_brand'] = product_vect['category_code'] + ' ' +  product_vect['price']"
      ],
      "metadata": {
        "id": "Q3_7CxYqXSZK"
      },
      "execution_count": null,
      "outputs": []
    },
    {
      "cell_type": "code",
      "source": [
        "product_vect.head()"
      ],
      "metadata": {
        "colab": {
          "base_uri": "https://localhost:8080/",
          "height": 206
        },
        "id": "dbeXJ7lFcjHk",
        "outputId": "74f715bf-c077-42dd-eab5-f4ea1a0fb2c5"
      },
      "execution_count": null,
      "outputs": [
        {
          "output_type": "execute_result",
          "data": {
            "text/plain": [
              "    product_id  product_pur_count           category_code    brand price  \\\n",
              "0      1000978                 12  electronics smartphone  samsung   333   \n",
              "12     1001588                 12  electronics smartphone    meizu   128   \n",
              "24     1002042                  3  electronics smartphone  samsung    77   \n",
              "27     1002062                 18  electronics smartphone  samsung    77   \n",
              "45     1002098                 13  electronics smartphone  samsung   370   \n",
              "\n",
              "                category_brand  \n",
              "0   electronics smartphone 333  \n",
              "12  electronics smartphone 128  \n",
              "24   electronics smartphone 77  \n",
              "27   electronics smartphone 77  \n",
              "45  electronics smartphone 370  "
            ],
            "text/html": [
              "\n",
              "  <div id=\"df-1e6f2b60-8415-4272-b9f1-82bdfe6e356c\">\n",
              "    <div class=\"colab-df-container\">\n",
              "      <div>\n",
              "<style scoped>\n",
              "    .dataframe tbody tr th:only-of-type {\n",
              "        vertical-align: middle;\n",
              "    }\n",
              "\n",
              "    .dataframe tbody tr th {\n",
              "        vertical-align: top;\n",
              "    }\n",
              "\n",
              "    .dataframe thead th {\n",
              "        text-align: right;\n",
              "    }\n",
              "</style>\n",
              "<table border=\"1\" class=\"dataframe\">\n",
              "  <thead>\n",
              "    <tr style=\"text-align: right;\">\n",
              "      <th></th>\n",
              "      <th>product_id</th>\n",
              "      <th>product_pur_count</th>\n",
              "      <th>category_code</th>\n",
              "      <th>brand</th>\n",
              "      <th>price</th>\n",
              "      <th>category_brand</th>\n",
              "    </tr>\n",
              "  </thead>\n",
              "  <tbody>\n",
              "    <tr>\n",
              "      <th>0</th>\n",
              "      <td>1000978</td>\n",
              "      <td>12</td>\n",
              "      <td>electronics smartphone</td>\n",
              "      <td>samsung</td>\n",
              "      <td>333</td>\n",
              "      <td>electronics smartphone 333</td>\n",
              "    </tr>\n",
              "    <tr>\n",
              "      <th>12</th>\n",
              "      <td>1001588</td>\n",
              "      <td>12</td>\n",
              "      <td>electronics smartphone</td>\n",
              "      <td>meizu</td>\n",
              "      <td>128</td>\n",
              "      <td>electronics smartphone 128</td>\n",
              "    </tr>\n",
              "    <tr>\n",
              "      <th>24</th>\n",
              "      <td>1002042</td>\n",
              "      <td>3</td>\n",
              "      <td>electronics smartphone</td>\n",
              "      <td>samsung</td>\n",
              "      <td>77</td>\n",
              "      <td>electronics smartphone 77</td>\n",
              "    </tr>\n",
              "    <tr>\n",
              "      <th>27</th>\n",
              "      <td>1002062</td>\n",
              "      <td>18</td>\n",
              "      <td>electronics smartphone</td>\n",
              "      <td>samsung</td>\n",
              "      <td>77</td>\n",
              "      <td>electronics smartphone 77</td>\n",
              "    </tr>\n",
              "    <tr>\n",
              "      <th>45</th>\n",
              "      <td>1002098</td>\n",
              "      <td>13</td>\n",
              "      <td>electronics smartphone</td>\n",
              "      <td>samsung</td>\n",
              "      <td>370</td>\n",
              "      <td>electronics smartphone 370</td>\n",
              "    </tr>\n",
              "  </tbody>\n",
              "</table>\n",
              "</div>\n",
              "      <button class=\"colab-df-convert\" onclick=\"convertToInteractive('df-1e6f2b60-8415-4272-b9f1-82bdfe6e356c')\"\n",
              "              title=\"Convert this dataframe to an interactive table.\"\n",
              "              style=\"display:none;\">\n",
              "        \n",
              "  <svg xmlns=\"http://www.w3.org/2000/svg\" height=\"24px\"viewBox=\"0 0 24 24\"\n",
              "       width=\"24px\">\n",
              "    <path d=\"M0 0h24v24H0V0z\" fill=\"none\"/>\n",
              "    <path d=\"M18.56 5.44l.94 2.06.94-2.06 2.06-.94-2.06-.94-.94-2.06-.94 2.06-2.06.94zm-11 1L8.5 8.5l.94-2.06 2.06-.94-2.06-.94L8.5 2.5l-.94 2.06-2.06.94zm10 10l.94 2.06.94-2.06 2.06-.94-2.06-.94-.94-2.06-.94 2.06-2.06.94z\"/><path d=\"M17.41 7.96l-1.37-1.37c-.4-.4-.92-.59-1.43-.59-.52 0-1.04.2-1.43.59L10.3 9.45l-7.72 7.72c-.78.78-.78 2.05 0 2.83L4 21.41c.39.39.9.59 1.41.59.51 0 1.02-.2 1.41-.59l7.78-7.78 2.81-2.81c.8-.78.8-2.07 0-2.86zM5.41 20L4 18.59l7.72-7.72 1.47 1.35L5.41 20z\"/>\n",
              "  </svg>\n",
              "      </button>\n",
              "      \n",
              "  <style>\n",
              "    .colab-df-container {\n",
              "      display:flex;\n",
              "      flex-wrap:wrap;\n",
              "      gap: 12px;\n",
              "    }\n",
              "\n",
              "    .colab-df-convert {\n",
              "      background-color: #E8F0FE;\n",
              "      border: none;\n",
              "      border-radius: 50%;\n",
              "      cursor: pointer;\n",
              "      display: none;\n",
              "      fill: #1967D2;\n",
              "      height: 32px;\n",
              "      padding: 0 0 0 0;\n",
              "      width: 32px;\n",
              "    }\n",
              "\n",
              "    .colab-df-convert:hover {\n",
              "      background-color: #E2EBFA;\n",
              "      box-shadow: 0px 1px 2px rgba(60, 64, 67, 0.3), 0px 1px 3px 1px rgba(60, 64, 67, 0.15);\n",
              "      fill: #174EA6;\n",
              "    }\n",
              "\n",
              "    [theme=dark] .colab-df-convert {\n",
              "      background-color: #3B4455;\n",
              "      fill: #D2E3FC;\n",
              "    }\n",
              "\n",
              "    [theme=dark] .colab-df-convert:hover {\n",
              "      background-color: #434B5C;\n",
              "      box-shadow: 0px 1px 3px 1px rgba(0, 0, 0, 0.15);\n",
              "      filter: drop-shadow(0px 1px 2px rgba(0, 0, 0, 0.3));\n",
              "      fill: #FFFFFF;\n",
              "    }\n",
              "  </style>\n",
              "\n",
              "      <script>\n",
              "        const buttonEl =\n",
              "          document.querySelector('#df-1e6f2b60-8415-4272-b9f1-82bdfe6e356c button.colab-df-convert');\n",
              "        buttonEl.style.display =\n",
              "          google.colab.kernel.accessAllowed ? 'block' : 'none';\n",
              "\n",
              "        async function convertToInteractive(key) {\n",
              "          const element = document.querySelector('#df-1e6f2b60-8415-4272-b9f1-82bdfe6e356c');\n",
              "          const dataTable =\n",
              "            await google.colab.kernel.invokeFunction('convertToInteractive',\n",
              "                                                     [key], {});\n",
              "          if (!dataTable) return;\n",
              "\n",
              "          const docLinkHtml = 'Like what you see? Visit the ' +\n",
              "            '<a target=\"_blank\" href=https://colab.research.google.com/notebooks/data_table.ipynb>data table notebook</a>'\n",
              "            + ' to learn more about interactive tables.';\n",
              "          element.innerHTML = '';\n",
              "          dataTable['output_type'] = 'display_data';\n",
              "          await google.colab.output.renderOutput(dataTable, element);\n",
              "          const docLink = document.createElement('div');\n",
              "          docLink.innerHTML = docLinkHtml;\n",
              "          element.appendChild(docLink);\n",
              "        }\n",
              "      </script>\n",
              "    </div>\n",
              "  </div>\n",
              "  "
            ]
          },
          "metadata": {},
          "execution_count": 41
        }
      ]
    },
    {
      "cell_type": "code",
      "source": [
        "product_vect.to_csv('product_vect.csv')"
      ],
      "metadata": {
        "id": "fRLpiZs3otFJ"
      },
      "execution_count": null,
      "outputs": []
    }
  ]
}