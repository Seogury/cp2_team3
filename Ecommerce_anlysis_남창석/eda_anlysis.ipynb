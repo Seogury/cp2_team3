{
 "cells": [
  {
   "cell_type": "code",
   "execution_count": 1,
   "metadata": {},
   "outputs": [],
   "source": [
    "import pandas as pd\n",
    "import numpy as np\n",
    "import math\n",
    "\n",
    "import matplotlib.pyplot as plt\n",
    "import seaborn as sns"
   ]
  },
  {
   "cell_type": "code",
   "execution_count": 2,
   "metadata": {},
   "outputs": [],
   "source": [
    "data= pd.read_csv('/Users/namchangseok/Desktop/코드스테이츠/AI_12기/cp2/split_data.csv')\n",
    "df=pd.read_csv('/Users/namchangseok/Desktop/코드스테이츠/AI_12기/cp2/split_data.csv')"
   ]
  },
  {
   "cell_type": "code",
   "execution_count": 3,
   "metadata": {},
   "outputs": [
    {
     "data": {
      "text/plain": [
       "Unnamed: 0         int64\n",
       "event_time        object\n",
       "event_type        object\n",
       "product_id         int64\n",
       "category_id        int64\n",
       "category_code     object\n",
       "brand             object\n",
       "price            float64\n",
       "user_id            int64\n",
       "user_session      object\n",
       "dtype: object"
      ]
     },
     "execution_count": 3,
     "metadata": {},
     "output_type": "execute_result"
    }
   ],
   "source": [
    "data= data.dropna()\n",
    "data.dtypes"
   ]
  },
  {
   "cell_type": "code",
   "execution_count": 4,
   "metadata": {},
   "outputs": [
    {
     "name": "stdout",
     "output_type": "stream",
     "text": [
      "데이터 개수 (1328183, 10) \n",
      "ID 개수 684982 \n",
      "구매 데이터의 개수 27859\n"
     ]
    }
   ],
   "source": [
    "print('데이터 개수' ,data.shape, '\\nID 개수', data['user_id'].nunique(),'\\n구매 데이터의 개수',(data['event_type']=='purchase').sum())"
   ]
  },
  {
   "cell_type": "code",
   "execution_count": 127,
   "metadata": {},
   "outputs": [
    {
     "ename": "KeyError",
     "evalue": "\"['Unnamed: 0'] not found in axis\"",
     "output_type": "error",
     "traceback": [
      "\u001b[0;31m---------------------------------------------------------------------------\u001b[0m",
      "\u001b[0;31mKeyError\u001b[0m                                  Traceback (most recent call last)",
      "\u001b[1;32m/Users/namchangseok/Desktop/코드스테이츠/AI_12기/cp2/eda.ipynb Cell 7'\u001b[0m in \u001b[0;36m<cell line: 1>\u001b[0;34m()\u001b[0m\n\u001b[0;32m----> <a href='vscode-notebook-cell:/Users/namchangseok/Desktop/%EC%BD%94%EB%93%9C%EC%8A%A4%ED%85%8C%EC%9D%B4%EC%B8%A0/AI_12%EA%B8%B0/cp2/eda.ipynb#ch0000004?line=0'>1</a>\u001b[0m data\u001b[39m=\u001b[39mdata\u001b[39m.\u001b[39;49mdrop([\u001b[39m'\u001b[39;49m\u001b[39mUnnamed: 0\u001b[39;49m\u001b[39m'\u001b[39;49m],axis\u001b[39m=\u001b[39;49m\u001b[39m1\u001b[39;49m)\n",
      "File \u001b[0;32m~/opt/anaconda3/envs/cp1/lib/python3.8/site-packages/pandas/util/_decorators.py:311\u001b[0m, in \u001b[0;36mdeprecate_nonkeyword_arguments.<locals>.decorate.<locals>.wrapper\u001b[0;34m(*args, **kwargs)\u001b[0m\n\u001b[1;32m    305\u001b[0m \u001b[39mif\u001b[39;00m \u001b[39mlen\u001b[39m(args) \u001b[39m>\u001b[39m num_allow_args:\n\u001b[1;32m    306\u001b[0m     warnings\u001b[39m.\u001b[39mwarn(\n\u001b[1;32m    307\u001b[0m         msg\u001b[39m.\u001b[39mformat(arguments\u001b[39m=\u001b[39marguments),\n\u001b[1;32m    308\u001b[0m         \u001b[39mFutureWarning\u001b[39;00m,\n\u001b[1;32m    309\u001b[0m         stacklevel\u001b[39m=\u001b[39mstacklevel,\n\u001b[1;32m    310\u001b[0m     )\n\u001b[0;32m--> 311\u001b[0m \u001b[39mreturn\u001b[39;00m func(\u001b[39m*\u001b[39;49margs, \u001b[39m*\u001b[39;49m\u001b[39m*\u001b[39;49mkwargs)\n",
      "File \u001b[0;32m~/opt/anaconda3/envs/cp1/lib/python3.8/site-packages/pandas/core/frame.py:4954\u001b[0m, in \u001b[0;36mDataFrame.drop\u001b[0;34m(self, labels, axis, index, columns, level, inplace, errors)\u001b[0m\n\u001b[1;32m   4806\u001b[0m \u001b[39m@deprecate_nonkeyword_arguments\u001b[39m(version\u001b[39m=\u001b[39m\u001b[39mNone\u001b[39;00m, allowed_args\u001b[39m=\u001b[39m[\u001b[39m\"\u001b[39m\u001b[39mself\u001b[39m\u001b[39m\"\u001b[39m, \u001b[39m\"\u001b[39m\u001b[39mlabels\u001b[39m\u001b[39m\"\u001b[39m])\n\u001b[1;32m   4807\u001b[0m \u001b[39mdef\u001b[39;00m \u001b[39mdrop\u001b[39m(\n\u001b[1;32m   4808\u001b[0m     \u001b[39mself\u001b[39m,\n\u001b[0;32m   (...)\u001b[0m\n\u001b[1;32m   4815\u001b[0m     errors: \u001b[39mstr\u001b[39m \u001b[39m=\u001b[39m \u001b[39m\"\u001b[39m\u001b[39mraise\u001b[39m\u001b[39m\"\u001b[39m,\n\u001b[1;32m   4816\u001b[0m ):\n\u001b[1;32m   4817\u001b[0m     \u001b[39m\"\"\"\u001b[39;00m\n\u001b[1;32m   4818\u001b[0m \u001b[39m    Drop specified labels from rows or columns.\u001b[39;00m\n\u001b[1;32m   4819\u001b[0m \n\u001b[0;32m   (...)\u001b[0m\n\u001b[1;32m   4952\u001b[0m \u001b[39m            weight  1.0     0.8\u001b[39;00m\n\u001b[1;32m   4953\u001b[0m \u001b[39m    \"\"\"\u001b[39;00m\n\u001b[0;32m-> 4954\u001b[0m     \u001b[39mreturn\u001b[39;00m \u001b[39msuper\u001b[39;49m()\u001b[39m.\u001b[39;49mdrop(\n\u001b[1;32m   4955\u001b[0m         labels\u001b[39m=\u001b[39;49mlabels,\n\u001b[1;32m   4956\u001b[0m         axis\u001b[39m=\u001b[39;49maxis,\n\u001b[1;32m   4957\u001b[0m         index\u001b[39m=\u001b[39;49mindex,\n\u001b[1;32m   4958\u001b[0m         columns\u001b[39m=\u001b[39;49mcolumns,\n\u001b[1;32m   4959\u001b[0m         level\u001b[39m=\u001b[39;49mlevel,\n\u001b[1;32m   4960\u001b[0m         inplace\u001b[39m=\u001b[39;49minplace,\n\u001b[1;32m   4961\u001b[0m         errors\u001b[39m=\u001b[39;49merrors,\n\u001b[1;32m   4962\u001b[0m     )\n",
      "File \u001b[0;32m~/opt/anaconda3/envs/cp1/lib/python3.8/site-packages/pandas/core/generic.py:4267\u001b[0m, in \u001b[0;36mNDFrame.drop\u001b[0;34m(self, labels, axis, index, columns, level, inplace, errors)\u001b[0m\n\u001b[1;32m   4265\u001b[0m \u001b[39mfor\u001b[39;00m axis, labels \u001b[39min\u001b[39;00m axes\u001b[39m.\u001b[39mitems():\n\u001b[1;32m   4266\u001b[0m     \u001b[39mif\u001b[39;00m labels \u001b[39mis\u001b[39;00m \u001b[39mnot\u001b[39;00m \u001b[39mNone\u001b[39;00m:\n\u001b[0;32m-> 4267\u001b[0m         obj \u001b[39m=\u001b[39m obj\u001b[39m.\u001b[39;49m_drop_axis(labels, axis, level\u001b[39m=\u001b[39;49mlevel, errors\u001b[39m=\u001b[39;49merrors)\n\u001b[1;32m   4269\u001b[0m \u001b[39mif\u001b[39;00m inplace:\n\u001b[1;32m   4270\u001b[0m     \u001b[39mself\u001b[39m\u001b[39m.\u001b[39m_update_inplace(obj)\n",
      "File \u001b[0;32m~/opt/anaconda3/envs/cp1/lib/python3.8/site-packages/pandas/core/generic.py:4311\u001b[0m, in \u001b[0;36mNDFrame._drop_axis\u001b[0;34m(self, labels, axis, level, errors, consolidate, only_slice)\u001b[0m\n\u001b[1;32m   4309\u001b[0m         new_axis \u001b[39m=\u001b[39m axis\u001b[39m.\u001b[39mdrop(labels, level\u001b[39m=\u001b[39mlevel, errors\u001b[39m=\u001b[39merrors)\n\u001b[1;32m   4310\u001b[0m     \u001b[39melse\u001b[39;00m:\n\u001b[0;32m-> 4311\u001b[0m         new_axis \u001b[39m=\u001b[39m axis\u001b[39m.\u001b[39;49mdrop(labels, errors\u001b[39m=\u001b[39;49merrors)\n\u001b[1;32m   4312\u001b[0m     indexer \u001b[39m=\u001b[39m axis\u001b[39m.\u001b[39mget_indexer(new_axis)\n\u001b[1;32m   4314\u001b[0m \u001b[39m# Case for non-unique axis\u001b[39;00m\n\u001b[1;32m   4315\u001b[0m \u001b[39melse\u001b[39;00m:\n",
      "File \u001b[0;32m~/opt/anaconda3/envs/cp1/lib/python3.8/site-packages/pandas/core/indexes/base.py:6644\u001b[0m, in \u001b[0;36mIndex.drop\u001b[0;34m(self, labels, errors)\u001b[0m\n\u001b[1;32m   6642\u001b[0m \u001b[39mif\u001b[39;00m mask\u001b[39m.\u001b[39many():\n\u001b[1;32m   6643\u001b[0m     \u001b[39mif\u001b[39;00m errors \u001b[39m!=\u001b[39m \u001b[39m\"\u001b[39m\u001b[39mignore\u001b[39m\u001b[39m\"\u001b[39m:\n\u001b[0;32m-> 6644\u001b[0m         \u001b[39mraise\u001b[39;00m \u001b[39mKeyError\u001b[39;00m(\u001b[39mf\u001b[39m\u001b[39m\"\u001b[39m\u001b[39m{\u001b[39;00m\u001b[39mlist\u001b[39m(labels[mask])\u001b[39m}\u001b[39;00m\u001b[39m not found in axis\u001b[39m\u001b[39m\"\u001b[39m)\n\u001b[1;32m   6645\u001b[0m     indexer \u001b[39m=\u001b[39m indexer[\u001b[39m~\u001b[39mmask]\n\u001b[1;32m   6646\u001b[0m \u001b[39mreturn\u001b[39;00m \u001b[39mself\u001b[39m\u001b[39m.\u001b[39mdelete(indexer)\n",
      "\u001b[0;31mKeyError\u001b[0m: \"['Unnamed: 0'] not found in axis\""
     ]
    }
   ],
   "source": [
    "data=data.drop(['Unnamed: 0'],axis=1)"
   ]
  },
  {
   "cell_type": "code",
   "execution_count": null,
   "metadata": {},
   "outputs": [],
   "source": [
    "data"
   ]
  },
  {
   "cell_type": "code",
   "execution_count": 6,
   "metadata": {},
   "outputs": [
    {
     "data": {
      "text/html": [
       "<div>\n",
       "<style scoped>\n",
       "    .dataframe tbody tr th:only-of-type {\n",
       "        vertical-align: middle;\n",
       "    }\n",
       "\n",
       "    .dataframe tbody tr th {\n",
       "        vertical-align: top;\n",
       "    }\n",
       "\n",
       "    .dataframe thead th {\n",
       "        text-align: right;\n",
       "    }\n",
       "</style>\n",
       "<table border=\"1\" class=\"dataframe\">\n",
       "  <thead>\n",
       "    <tr style=\"text-align: right;\">\n",
       "      <th></th>\n",
       "      <th>event_time</th>\n",
       "      <th>event_type</th>\n",
       "      <th>product_id</th>\n",
       "      <th>category_id</th>\n",
       "      <th>category_code</th>\n",
       "      <th>brand</th>\n",
       "      <th>price</th>\n",
       "      <th>user_id</th>\n",
       "      <th>user_session</th>\n",
       "    </tr>\n",
       "  </thead>\n",
       "  <tbody>\n",
       "    <tr>\n",
       "      <th>172</th>\n",
       "      <td>2019-10-18 10:49:20 UTC</td>\n",
       "      <td>purchase</td>\n",
       "      <td>1700718</td>\n",
       "      <td>2053013553031414015</td>\n",
       "      <td>computers.peripherals.monitor</td>\n",
       "      <td>acer</td>\n",
       "      <td>89.84</td>\n",
       "      <td>523013344</td>\n",
       "      <td>954a50eb-125a-47f9-93f9-7ca609a4bda3</td>\n",
       "    </tr>\n",
       "    <tr>\n",
       "      <th>352</th>\n",
       "      <td>2019-10-03 06:32:31 UTC</td>\n",
       "      <td>purchase</td>\n",
       "      <td>1004856</td>\n",
       "      <td>2053013555631882655</td>\n",
       "      <td>electronics.smartphone</td>\n",
       "      <td>samsung</td>\n",
       "      <td>132.31</td>\n",
       "      <td>514696726</td>\n",
       "      <td>5a881108-0b8f-4a29-b9ff-a7b649e1fa6d</td>\n",
       "    </tr>\n",
       "    <tr>\n",
       "      <th>362</th>\n",
       "      <td>2019-10-31 10:59:05 UTC</td>\n",
       "      <td>purchase</td>\n",
       "      <td>1004903</td>\n",
       "      <td>2053013555631882655</td>\n",
       "      <td>electronics.smartphone</td>\n",
       "      <td>huawei</td>\n",
       "      <td>109.00</td>\n",
       "      <td>521699061</td>\n",
       "      <td>9b32d517-e18e-45bd-be35-0e6d4c75dbbe</td>\n",
       "    </tr>\n",
       "    <tr>\n",
       "      <th>592</th>\n",
       "      <td>2019-10-19 16:07:13 UTC</td>\n",
       "      <td>purchase</td>\n",
       "      <td>1801690</td>\n",
       "      <td>2053013554415534427</td>\n",
       "      <td>electronics.video.tv</td>\n",
       "      <td>samsung</td>\n",
       "      <td>369.37</td>\n",
       "      <td>513022404</td>\n",
       "      <td>3b80fe86-516d-451f-8dd6-4a5f6f777fb7</td>\n",
       "    </tr>\n",
       "    <tr>\n",
       "      <th>680</th>\n",
       "      <td>2019-10-02 13:00:25 UTC</td>\n",
       "      <td>purchase</td>\n",
       "      <td>21404275</td>\n",
       "      <td>2053013561579406073</td>\n",
       "      <td>electronics.clocks</td>\n",
       "      <td>casio</td>\n",
       "      <td>15.19</td>\n",
       "      <td>556002836</td>\n",
       "      <td>f26f00a2-6760-47b6-b9bd-3546d6f80750</td>\n",
       "    </tr>\n",
       "    <tr>\n",
       "      <th>...</th>\n",
       "      <td>...</td>\n",
       "      <td>...</td>\n",
       "      <td>...</td>\n",
       "      <td>...</td>\n",
       "      <td>...</td>\n",
       "      <td>...</td>\n",
       "      <td>...</td>\n",
       "      <td>...</td>\n",
       "      <td>...</td>\n",
       "    </tr>\n",
       "    <tr>\n",
       "      <th>2122103</th>\n",
       "      <td>2019-10-17 09:44:27 UTC</td>\n",
       "      <td>purchase</td>\n",
       "      <td>1004258</td>\n",
       "      <td>2053013555631882655</td>\n",
       "      <td>electronics.smartphone</td>\n",
       "      <td>apple</td>\n",
       "      <td>756.65</td>\n",
       "      <td>517548594</td>\n",
       "      <td>c7e49d65-4352-4556-beba-252a3524f0ee</td>\n",
       "    </tr>\n",
       "    <tr>\n",
       "      <th>2122138</th>\n",
       "      <td>2019-10-23 18:35:51 UTC</td>\n",
       "      <td>purchase</td>\n",
       "      <td>1005204</td>\n",
       "      <td>2053013555631882655</td>\n",
       "      <td>electronics.smartphone</td>\n",
       "      <td>xiaomi</td>\n",
       "      <td>156.47</td>\n",
       "      <td>515161163</td>\n",
       "      <td>d132e3eb-cc36-4dae-8adf-1cab98df4012</td>\n",
       "    </tr>\n",
       "    <tr>\n",
       "      <th>2122180</th>\n",
       "      <td>2019-10-05 09:55:44 UTC</td>\n",
       "      <td>purchase</td>\n",
       "      <td>6000094</td>\n",
       "      <td>2053013560807654091</td>\n",
       "      <td>auto.accessories.alarm</td>\n",
       "      <td>starline</td>\n",
       "      <td>121.24</td>\n",
       "      <td>555514716</td>\n",
       "      <td>b2329369-c6e7-4e96-b23d-e39d1395d470</td>\n",
       "    </tr>\n",
       "    <tr>\n",
       "      <th>2122310</th>\n",
       "      <td>2019-10-11 12:42:58 UTC</td>\n",
       "      <td>purchase</td>\n",
       "      <td>5100564</td>\n",
       "      <td>2053013553341792533</td>\n",
       "      <td>electronics.clocks</td>\n",
       "      <td>samsung</td>\n",
       "      <td>259.95</td>\n",
       "      <td>558853576</td>\n",
       "      <td>3c2eaf0d-704b-4587-a16f-572fa1a9f704</td>\n",
       "    </tr>\n",
       "    <tr>\n",
       "      <th>2122426</th>\n",
       "      <td>2019-10-31 16:13:48 UTC</td>\n",
       "      <td>purchase</td>\n",
       "      <td>1005115</td>\n",
       "      <td>2053013555631882655</td>\n",
       "      <td>electronics.smartphone</td>\n",
       "      <td>apple</td>\n",
       "      <td>949.78</td>\n",
       "      <td>512801494</td>\n",
       "      <td>05653777-82b8-4d8e-8e41-d409163b8037</td>\n",
       "    </tr>\n",
       "  </tbody>\n",
       "</table>\n",
       "<p>27859 rows × 9 columns</p>\n",
       "</div>"
      ],
      "text/plain": [
       "                      event_time event_type  product_id          category_id  \\\n",
       "172      2019-10-18 10:49:20 UTC   purchase     1700718  2053013553031414015   \n",
       "352      2019-10-03 06:32:31 UTC   purchase     1004856  2053013555631882655   \n",
       "362      2019-10-31 10:59:05 UTC   purchase     1004903  2053013555631882655   \n",
       "592      2019-10-19 16:07:13 UTC   purchase     1801690  2053013554415534427   \n",
       "680      2019-10-02 13:00:25 UTC   purchase    21404275  2053013561579406073   \n",
       "...                          ...        ...         ...                  ...   \n",
       "2122103  2019-10-17 09:44:27 UTC   purchase     1004258  2053013555631882655   \n",
       "2122138  2019-10-23 18:35:51 UTC   purchase     1005204  2053013555631882655   \n",
       "2122180  2019-10-05 09:55:44 UTC   purchase     6000094  2053013560807654091   \n",
       "2122310  2019-10-11 12:42:58 UTC   purchase     5100564  2053013553341792533   \n",
       "2122426  2019-10-31 16:13:48 UTC   purchase     1005115  2053013555631882655   \n",
       "\n",
       "                         category_code     brand   price    user_id  \\\n",
       "172      computers.peripherals.monitor      acer   89.84  523013344   \n",
       "352             electronics.smartphone   samsung  132.31  514696726   \n",
       "362             electronics.smartphone    huawei  109.00  521699061   \n",
       "592               electronics.video.tv   samsung  369.37  513022404   \n",
       "680                 electronics.clocks     casio   15.19  556002836   \n",
       "...                                ...       ...     ...        ...   \n",
       "2122103         electronics.smartphone     apple  756.65  517548594   \n",
       "2122138         electronics.smartphone    xiaomi  156.47  515161163   \n",
       "2122180         auto.accessories.alarm  starline  121.24  555514716   \n",
       "2122310             electronics.clocks   samsung  259.95  558853576   \n",
       "2122426         electronics.smartphone     apple  949.78  512801494   \n",
       "\n",
       "                                 user_session  \n",
       "172      954a50eb-125a-47f9-93f9-7ca609a4bda3  \n",
       "352      5a881108-0b8f-4a29-b9ff-a7b649e1fa6d  \n",
       "362      9b32d517-e18e-45bd-be35-0e6d4c75dbbe  \n",
       "592      3b80fe86-516d-451f-8dd6-4a5f6f777fb7  \n",
       "680      f26f00a2-6760-47b6-b9bd-3546d6f80750  \n",
       "...                                       ...  \n",
       "2122103  c7e49d65-4352-4556-beba-252a3524f0ee  \n",
       "2122138  d132e3eb-cc36-4dae-8adf-1cab98df4012  \n",
       "2122180  b2329369-c6e7-4e96-b23d-e39d1395d470  \n",
       "2122310  3c2eaf0d-704b-4587-a16f-572fa1a9f704  \n",
       "2122426  05653777-82b8-4d8e-8e41-d409163b8037  \n",
       "\n",
       "[27859 rows x 9 columns]"
      ]
     },
     "execution_count": 6,
     "metadata": {},
     "output_type": "execute_result"
    }
   ],
   "source": [
    "# purchase를 한 데이터만 뽑아보자.\n",
    "data.loc[data['event_type']=='purchase']"
   ]
  },
  {
   "cell_type": "code",
   "execution_count": 7,
   "metadata": {},
   "outputs": [],
   "source": [
    "# 시간 관련된 코딩\n",
    "\n",
    "from datetime import datetime, timedelta, timezone\n",
    "\n",
    "#문자열 → 시간\n",
    "data['event_time']=pd.to_datetime(data['event_time'])\n",
    "\n",
    "#시간대 설정\n",
    "timezone_dubai = timezone(timedelta(hours=4))\n",
    "data['event_time'] = data['event_time'].apply(lambda x : x.astimezone(timezone_dubai))"
   ]
  },
  {
   "cell_type": "code",
   "execution_count": 8,
   "metadata": {},
   "outputs": [],
   "source": [
    "data['event_time']=data['event_time'].apply(lambda x : x.day)"
   ]
  },
  {
   "cell_type": "code",
   "execution_count": 9,
   "metadata": {},
   "outputs": [],
   "source": [
    "#data=data.sort_values(by=['event_time'],ascending=True)"
   ]
  },
  {
   "cell_type": "code",
   "execution_count": 11,
   "metadata": {},
   "outputs": [],
   "source": [
    "only_purchases = data.loc[data.event_type == 'purchase']"
   ]
  },
  {
   "cell_type": "code",
   "execution_count": 12,
   "metadata": {},
   "outputs": [
    {
     "data": {
      "text/plain": [
       "<function matplotlib.pyplot.show(close=None, block=None)>"
      ]
     },
     "execution_count": 12,
     "metadata": {},
     "output_type": "execute_result"
    },
    {
     "data": {
      "image/png": "[encoded data removed]",
      "text/plain": [
       "<Figure size 2160x720 with 1 Axes>"
      ]
     },
     "metadata": {
      "needs_background": "light"
     },
     "output_type": "display_data"
    }
   ],
   "source": [
    "# 팔린 물건들의 가격들의 분포를 파악해보자.\n",
    "price=only_purchases['price']\n",
    "\n",
    "plt.figure(figsize=(30,10))\n",
    "plt.hist(price, bins=100)\n",
    "plt.xlabel('price')\n",
    "'''\n",
    "x_value=[0,100,150,200,250,300,500,1000,2000]\n",
    "y_value=[0,10000,20000,30000,40000,50000,60000,70000,80000]\n",
    "plt.plot(x_value,y_value)\n",
    "'''\n",
    "\n",
    "plt.xticks([0,30,60,100,150,200,250,300,400,500,600,700,800,1000,1200,1500,1700,2000,3000])\n",
    "plt.ylabel('frequency')\n",
    "plt.axvline(x = price.mean(), linewidth = 2, color = 'r')\n",
    "\n",
    "plt.show\n"
   ]
  },
  {
   "cell_type": "code",
   "execution_count": 92,
   "metadata": {},
   "outputs": [
    {
     "data": {
      "text/html": [
       "<div>\n",
       "<style scoped>\n",
       "    .dataframe tbody tr th:only-of-type {\n",
       "        vertical-align: middle;\n",
       "    }\n",
       "\n",
       "    .dataframe tbody tr th {\n",
       "        vertical-align: top;\n",
       "    }\n",
       "\n",
       "    .dataframe thead th {\n",
       "        text-align: right;\n",
       "    }\n",
       "</style>\n",
       "<table border=\"1\" class=\"dataframe\">\n",
       "  <thead>\n",
       "    <tr style=\"text-align: right;\">\n",
       "      <th></th>\n",
       "      <th>event_time</th>\n",
       "      <th>event_type</th>\n",
       "      <th>product_id</th>\n",
       "      <th>category_id</th>\n",
       "      <th>category_code</th>\n",
       "      <th>brand</th>\n",
       "      <th>price</th>\n",
       "      <th>user_id</th>\n",
       "      <th>user_session</th>\n",
       "      <th>category_code_split</th>\n",
       "      <th>main_category</th>\n",
       "      <th>middle_category</th>\n",
       "    </tr>\n",
       "  </thead>\n",
       "  <tbody>\n",
       "    <tr>\n",
       "      <th>0</th>\n",
       "      <td>12</td>\n",
       "      <td>view</td>\n",
       "      <td>21407109</td>\n",
       "      <td>2053013561579406073</td>\n",
       "      <td>electronics.clocks</td>\n",
       "      <td>tissot</td>\n",
       "      <td>226.52</td>\n",
       "      <td>512636824</td>\n",
       "      <td>f45930d0-1807-40a9-815b-e2901d88e87e</td>\n",
       "      <td>[electronics, clocks]</td>\n",
       "      <td>electronics</td>\n",
       "      <td>clocks</td>\n",
       "    </tr>\n",
       "    <tr>\n",
       "      <th>1</th>\n",
       "      <td>11</td>\n",
       "      <td>view</td>\n",
       "      <td>1005169</td>\n",
       "      <td>2053013555631882655</td>\n",
       "      <td>electronics.smartphone</td>\n",
       "      <td>samsung</td>\n",
       "      <td>228.71</td>\n",
       "      <td>554770926</td>\n",
       "      <td>baa8b4b4-74f9-4ed8-a1a4-f9e9ff322a3a</td>\n",
       "      <td>[electronics, smartphone]</td>\n",
       "      <td>electronics</td>\n",
       "      <td>smartphone</td>\n",
       "    </tr>\n",
       "    <tr>\n",
       "      <th>2</th>\n",
       "      <td>16</td>\n",
       "      <td>view</td>\n",
       "      <td>8800048</td>\n",
       "      <td>2053013555573162395</td>\n",
       "      <td>electronics.telephone</td>\n",
       "      <td>nokia</td>\n",
       "      <td>22.19</td>\n",
       "      <td>517857376</td>\n",
       "      <td>84cce548-1021-4286-9a8d-86638d664199</td>\n",
       "      <td>[electronics, telephone]</td>\n",
       "      <td>electronics</td>\n",
       "      <td>telephone</td>\n",
       "    </tr>\n",
       "    <tr>\n",
       "      <th>5</th>\n",
       "      <td>17</td>\n",
       "      <td>view</td>\n",
       "      <td>1004227</td>\n",
       "      <td>2053013555631882655</td>\n",
       "      <td>electronics.smartphone</td>\n",
       "      <td>apple</td>\n",
       "      <td>1003.84</td>\n",
       "      <td>513862246</td>\n",
       "      <td>2cf79802-71df-483b-9d9c-96dd8939957c</td>\n",
       "      <td>[electronics, smartphone]</td>\n",
       "      <td>electronics</td>\n",
       "      <td>smartphone</td>\n",
       "    </tr>\n",
       "    <tr>\n",
       "      <th>6</th>\n",
       "      <td>8</td>\n",
       "      <td>view</td>\n",
       "      <td>4700671</td>\n",
       "      <td>2053013560899928785</td>\n",
       "      <td>auto.accessories.videoregister</td>\n",
       "      <td>xiaomi</td>\n",
       "      <td>48.39</td>\n",
       "      <td>514762265</td>\n",
       "      <td>984d40e4-578e-4459-9f6b-949103f6c628</td>\n",
       "      <td>[auto, accessories, videoregister]</td>\n",
       "      <td>auto</td>\n",
       "      <td>accessories</td>\n",
       "    </tr>\n",
       "    <tr>\n",
       "      <th>...</th>\n",
       "      <td>...</td>\n",
       "      <td>...</td>\n",
       "      <td>...</td>\n",
       "      <td>...</td>\n",
       "      <td>...</td>\n",
       "      <td>...</td>\n",
       "      <td>...</td>\n",
       "      <td>...</td>\n",
       "      <td>...</td>\n",
       "      <td>...</td>\n",
       "      <td>...</td>\n",
       "      <td>...</td>\n",
       "    </tr>\n",
       "    <tr>\n",
       "      <th>2122428</th>\n",
       "      <td>7</td>\n",
       "      <td>view</td>\n",
       "      <td>17800028</td>\n",
       "      <td>2053013559868129947</td>\n",
       "      <td>computers.desktop</td>\n",
       "      <td>dxracer</td>\n",
       "      <td>282.09</td>\n",
       "      <td>543808582</td>\n",
       "      <td>296afd2b-40c0-445c-b478-8d640faf629b</td>\n",
       "      <td>[computers, desktop]</td>\n",
       "      <td>computers</td>\n",
       "      <td>desktop</td>\n",
       "    </tr>\n",
       "    <tr>\n",
       "      <th>2122430</th>\n",
       "      <td>26</td>\n",
       "      <td>view</td>\n",
       "      <td>21407594</td>\n",
       "      <td>2053013561579406073</td>\n",
       "      <td>electronics.clocks</td>\n",
       "      <td>certina</td>\n",
       "      <td>278.00</td>\n",
       "      <td>517470882</td>\n",
       "      <td>b2957414-de14-44fb-b5c0-c3609b0e7ede</td>\n",
       "      <td>[electronics, clocks]</td>\n",
       "      <td>electronics</td>\n",
       "      <td>clocks</td>\n",
       "    </tr>\n",
       "    <tr>\n",
       "      <th>2122431</th>\n",
       "      <td>1</td>\n",
       "      <td>view</td>\n",
       "      <td>1005104</td>\n",
       "      <td>2053013555631882655</td>\n",
       "      <td>electronics.smartphone</td>\n",
       "      <td>apple</td>\n",
       "      <td>975.57</td>\n",
       "      <td>555634406</td>\n",
       "      <td>41d6bf67-a286-4fc5-a2f0-cb682f2d5427</td>\n",
       "      <td>[electronics, smartphone]</td>\n",
       "      <td>electronics</td>\n",
       "      <td>smartphone</td>\n",
       "    </tr>\n",
       "    <tr>\n",
       "      <th>2122432</th>\n",
       "      <td>12</td>\n",
       "      <td>view</td>\n",
       "      <td>1005105</td>\n",
       "      <td>2053013555631882655</td>\n",
       "      <td>electronics.smartphone</td>\n",
       "      <td>apple</td>\n",
       "      <td>1428.31</td>\n",
       "      <td>559365096</td>\n",
       "      <td>f08ae716-1262-409d-9c9f-31ce0ad1821c</td>\n",
       "      <td>[electronics, smartphone]</td>\n",
       "      <td>electronics</td>\n",
       "      <td>smartphone</td>\n",
       "    </tr>\n",
       "    <tr>\n",
       "      <th>2122433</th>\n",
       "      <td>28</td>\n",
       "      <td>view</td>\n",
       "      <td>11200239</td>\n",
       "      <td>2053013562946749253</td>\n",
       "      <td>appliances.personal.scales</td>\n",
       "      <td>elenberg</td>\n",
       "      <td>7.70</td>\n",
       "      <td>551613417</td>\n",
       "      <td>88172c08-7929-4886-a16d-2c6b8f9440dd</td>\n",
       "      <td>[appliances, personal, scales]</td>\n",
       "      <td>appliances</td>\n",
       "      <td>personal</td>\n",
       "    </tr>\n",
       "  </tbody>\n",
       "</table>\n",
       "<p>1260344 rows × 12 columns</p>\n",
       "</div>"
      ],
      "text/plain": [
       "         event_time event_type  product_id          category_id  \\\n",
       "0                12       view    21407109  2053013561579406073   \n",
       "1                11       view     1005169  2053013555631882655   \n",
       "2                16       view     8800048  2053013555573162395   \n",
       "5                17       view     1004227  2053013555631882655   \n",
       "6                 8       view     4700671  2053013560899928785   \n",
       "...             ...        ...         ...                  ...   \n",
       "2122428           7       view    17800028  2053013559868129947   \n",
       "2122430          26       view    21407594  2053013561579406073   \n",
       "2122431           1       view     1005104  2053013555631882655   \n",
       "2122432          12       view     1005105  2053013555631882655   \n",
       "2122433          28       view    11200239  2053013562946749253   \n",
       "\n",
       "                          category_code     brand    price    user_id  \\\n",
       "0                    electronics.clocks    tissot   226.52  512636824   \n",
       "1                electronics.smartphone   samsung   228.71  554770926   \n",
       "2                 electronics.telephone     nokia    22.19  517857376   \n",
       "5                electronics.smartphone     apple  1003.84  513862246   \n",
       "6        auto.accessories.videoregister    xiaomi    48.39  514762265   \n",
       "...                                 ...       ...      ...        ...   \n",
       "2122428               computers.desktop   dxracer   282.09  543808582   \n",
       "2122430              electronics.clocks   certina   278.00  517470882   \n",
       "2122431          electronics.smartphone     apple   975.57  555634406   \n",
       "2122432          electronics.smartphone     apple  1428.31  559365096   \n",
       "2122433      appliances.personal.scales  elenberg     7.70  551613417   \n",
       "\n",
       "                                 user_session  \\\n",
       "0        f45930d0-1807-40a9-815b-e2901d88e87e   \n",
       "1        baa8b4b4-74f9-4ed8-a1a4-f9e9ff322a3a   \n",
       "2        84cce548-1021-4286-9a8d-86638d664199   \n",
       "5        2cf79802-71df-483b-9d9c-96dd8939957c   \n",
       "6        984d40e4-578e-4459-9f6b-949103f6c628   \n",
       "...                                       ...   \n",
       "2122428  296afd2b-40c0-445c-b478-8d640faf629b   \n",
       "2122430  b2957414-de14-44fb-b5c0-c3609b0e7ede   \n",
       "2122431  41d6bf67-a286-4fc5-a2f0-cb682f2d5427   \n",
       "2122432  f08ae716-1262-409d-9c9f-31ce0ad1821c   \n",
       "2122433  88172c08-7929-4886-a16d-2c6b8f9440dd   \n",
       "\n",
       "                        category_code_split main_category middle_category  \n",
       "0                     [electronics, clocks]   electronics          clocks  \n",
       "1                 [electronics, smartphone]   electronics      smartphone  \n",
       "2                  [electronics, telephone]   electronics       telephone  \n",
       "5                 [electronics, smartphone]   electronics      smartphone  \n",
       "6        [auto, accessories, videoregister]          auto     accessories  \n",
       "...                                     ...           ...             ...  \n",
       "2122428                [computers, desktop]     computers         desktop  \n",
       "2122430               [electronics, clocks]   electronics          clocks  \n",
       "2122431           [electronics, smartphone]   electronics      smartphone  \n",
       "2122432           [electronics, smartphone]   electronics      smartphone  \n",
       "2122433      [appliances, personal, scales]    appliances        personal  \n",
       "\n",
       "[1260344 rows x 12 columns]"
      ]
     },
     "execution_count": 92,
     "metadata": {},
     "output_type": "execute_result"
    }
   ],
   "source": [
    "#가격별 구매율을 구해보자. \n",
    "'''\n",
    "위의 표가 가격대별 구매율이니까 view도 구해서 퍼센트로 어떻게 하면 되지 않을까\n",
    "\n",
    "\n",
    "전체 데이터에서 view가 보는 가격대. purchase를 한 가격대. \n",
    "'''\n",
    "\n",
    "view_purchase = data.loc[data.event_type == 'view']\n",
    "only_view"
   ]
  },
  {
   "cell_type": "code",
   "execution_count": 13,
   "metadata": {},
   "outputs": [],
   "source": [
    "#날짜는 조정했으니 이제 어떻게 해야할까? 날짜별 방문자 수와 구매수를 구해보자! \n",
    "\n",
    "#plt로 가능할거같다 날자별 view와 purchase를 라인 그래프로 그려보자 \n",
    "\n",
    "days1=data.loc[data['event_time']==1]\n"
   ]
  },
  {
   "cell_type": "code",
   "execution_count": 14,
   "metadata": {},
   "outputs": [],
   "source": [
    "df=data.groupby(['event_time','event_type'],as_index=False).size()\n"
   ]
  },
  {
   "cell_type": "code",
   "execution_count": 15,
   "metadata": {},
   "outputs": [],
   "source": [
    "cart=df[df['event_type']=='cart']['size'].tolist()\n",
    "view=df[df['event_type']=='view']['size'].tolist()\n",
    "purchase=df[df['event_type']=='purchase']['size'].tolist()"
   ]
  },
  {
   "cell_type": "code",
   "execution_count": 16,
   "metadata": {},
   "outputs": [],
   "source": [
    "df_chart=pd.DataFrame({'cart':cart,'purchase':purchase,'view':view})\n",
    "df_chart.index=df_chart.index+1"
   ]
  },
  {
   "cell_type": "code",
   "execution_count": 17,
   "metadata": {},
   "outputs": [
    {
     "data": {
      "text/plain": [
       "<matplotlib.legend.Legend at 0x7fe60c885dc0>"
      ]
     },
     "execution_count": 17,
     "metadata": {},
     "output_type": "execute_result"
    },
    {
     "data": {
      "image/png": "[encoded data removed]",
      "text/plain": [
       "<Figure size 720x360 with 1 Axes>"
      ]
     },
     "metadata": {
      "needs_background": "light"
     },
     "output_type": "display_data"
    }
   ],
   "source": [
    "\n",
    "\n",
    "fig=plt.figure(figsize=(10,5))\n",
    "ax=fig.add_subplot()\n",
    "\n",
    "ax.plot(df_chart.index,df_chart['view'],label='view')\n",
    "ax.plot(df_chart.index,df_chart['purchase'],label='purchase')\n",
    "ax.plot(df_chart.index,df_chart['cart'],label='cart')\n",
    "\n",
    "plt.title('Each day of View,Purchase,Cart')\n",
    "plt.xlabel('Day')\n",
    "plt.legend(loc='best', ncol=1) "
   ]
  },
  {
   "cell_type": "markdown",
   "metadata": {},
   "source": [
    "각 날짜별 view purchase cart의 숫자\n"
   ]
  },
  {
   "cell_type": "code",
   "execution_count": 18,
   "metadata": {},
   "outputs": [
    {
     "data": {
      "text/plain": [
       "<matplotlib.legend.Legend at 0x7fe62ebece50>"
      ]
     },
     "execution_count": 18,
     "metadata": {},
     "output_type": "execute_result"
    },
    {
     "data": {
      "image/png": "[encoded data removed]",
      "text/plain": [
       "<Figure size 720x360 with 1 Axes>"
      ]
     },
     "metadata": {
      "needs_background": "light"
     },
     "output_type": "display_data"
    }
   ],
   "source": [
    "fig=plt.figure(figsize=(10,5))\n",
    "ax=fig.add_subplot()\n",
    "\n",
    "\n",
    "ax.plot(df_chart.index,df_chart['purchase'],label='purchase')\n",
    "ax.plot(df_chart.index,df_chart['cart'],label='cart')\n",
    "\n",
    "plt.title('Each day of Purchase,Cart')\n",
    "plt.xlabel('Day')\n",
    "plt.legend(loc='best', ncol=1) "
   ]
  },
  {
   "cell_type": "markdown",
   "metadata": {},
   "source": [
    "장바구니에 넣은 상품과 구매한 상품의 추세선이다. 어느정도 연관이 있어 보이긴 하지만 상세한 모델을 파악해봐야 할 것 같다"
   ]
  },
  {
   "cell_type": "code",
   "execution_count": 19,
   "metadata": {},
   "outputs": [],
   "source": [
    "import plotly.express as ex\n",
    "\n",
    "lines = ex.line(df_chart,x=df_chart.index,y=['cart','purchase','view'])"
   ]
  },
  {
   "cell_type": "code",
   "execution_count": 20,
   "metadata": {},
   "outputs": [
    {
     "data": {
      "application/vnd.plotly.v1+json": {
       "config": {
        "plotlyServerURL": "https://plot.ly"
       },
       "data": [
        {
         "hovertemplate": "variable=cart<br>index=%{x}<br>value=%{y}<extra></extra>",
         "legendgroup": "cart",
         "line": {
          "color": "#636efa",
          "dash": "solid"
         },
         "marker": {
          "symbol": "circle"
         },
         "mode": "lines",
         "name": "cart",
         "orientation": "v",
         "showlegend": true,
         "type": "scatter",
         "x": [
          1,
          2,
          3,
          4,
          5,
          6,
          7,
          8,
          9,
          10,
          11,
          12,
          13,
          14,
          15,
          16,
          17,
          18,
          19,
          20,
          21,
          22,
          23,
          24,
          25,
          26,
          27,
          28,
          29,
          30,
          31
         ],
         "xaxis": "x",
         "y": [
          719,
          740,
          867,
          1976,
          1505,
          1429,
          771,
          858,
          785,
          791,
          990,
          874,
          1023,
          1855,
          2035,
          1928,
          1733,
          1661,
          1700,
          1703,
          1592,
          1593,
          1624,
          1585,
          1545,
          1511,
          1461,
          802,
          772,
          728,
          824
         ],
         "yaxis": "y"
        },
        {
         "hovertemplate": "variable=purchase<br>index=%{x}<br>value=%{y}<extra></extra>",
         "legendgroup": "purchase",
         "line": {
          "color": "#EF553B",
          "dash": "solid"
         },
         "marker": {
          "symbol": "circle"
         },
         "mode": "lines",
         "name": "purchase",
         "orientation": "v",
         "showlegend": true,
         "type": "scatter",
         "x": [
          1,
          2,
          3,
          4,
          5,
          6,
          7,
          8,
          9,
          10,
          11,
          12,
          13,
          14,
          15,
          16,
          17,
          18,
          19,
          20,
          21,
          22,
          23,
          24,
          25,
          26,
          27,
          28,
          29,
          30,
          31
         ],
         "xaxis": "x",
         "y": [
          775,
          707,
          706,
          1010,
          918,
          815,
          819,
          826,
          795,
          786,
          1016,
          870,
          1009,
          1104,
          1002,
          1177,
          1126,
          1012,
          962,
          994,
          888,
          933,
          949,
          918,
          915,
          853,
          907,
          786,
          791,
          724,
          766
         ],
         "yaxis": "y"
        },
        {
         "hovertemplate": "variable=view<br>index=%{x}<br>value=%{y}<extra></extra>",
         "legendgroup": "view",
         "line": {
          "color": "#00cc96",
          "dash": "solid"
         },
         "marker": {
          "symbol": "circle"
         },
         "mode": "lines",
         "name": "view",
         "orientation": "v",
         "showlegend": true,
         "type": "scatter",
         "x": [
          1,
          2,
          3,
          4,
          5,
          6,
          7,
          8,
          9,
          10,
          11,
          12,
          13,
          14,
          15,
          16,
          17,
          18,
          19,
          20,
          21,
          22,
          23,
          24,
          25,
          26,
          27,
          28,
          29,
          30,
          31
         ],
         "xaxis": "x",
         "y": [
          37364,
          35968,
          34477,
          43080,
          39400,
          39717,
          35533,
          37356,
          37655,
          37168,
          42344,
          42220,
          46874,
          44464,
          47227,
          45730,
          42266,
          44179,
          44245,
          46242,
          42562,
          42562,
          41348,
          39839,
          41969,
          40362,
          42572,
          36799,
          36221,
          35678,
          36923
         ],
         "yaxis": "y"
        }
       ],
       "layout": {
        "legend": {
         "title": {
          "text": "variable"
         },
         "tracegroupgap": 0
        },
        "margin": {
         "t": 60
        },
        "template": {
         "data": {
          "bar": [
           {
            "error_x": {
             "color": "#2a3f5f"
            },
            "error_y": {
             "color": "#2a3f5f"
            },
            "marker": {
             "line": {
              "color": "#E5ECF6",
              "width": 0.5
             },
             "pattern": {
              "fillmode": "overlay",
              "size": 10,
              "solidity": 0.2
             }
            },
            "type": "bar"
           }
          ],
          "barpolar": [
           {
            "marker": {
             "line": {
              "color": "#E5ECF6",
              "width": 0.5
             },
             "pattern": {
              "fillmode": "overlay",
              "size": 10,
              "solidity": 0.2
             }
            },
            "type": "barpolar"
           }
          ],
          "carpet": [
           {
            "aaxis": {
             "endlinecolor": "#2a3f5f",
             "gridcolor": "white",
             "linecolor": "white",
             "minorgridcolor": "white",
             "startlinecolor": "#2a3f5f"
            },
            "baxis": {
             "endlinecolor": "#2a3f5f",
             "gridcolor": "white",
             "linecolor": "white",
             "minorgridcolor": "white",
             "startlinecolor": "#2a3f5f"
            },
            "type": "carpet"
           }
          ],
          "choropleth": [
           {
            "colorbar": {
             "outlinewidth": 0,
             "ticks": ""
            },
            "type": "choropleth"
           }
          ],
          "contour": [
           {
            "colorbar": {
             "outlinewidth": 0,
             "ticks": ""
            },
            "colorscale": [
             [
              0,
              "#0d0887"
             ],
             [
              0.1111111111111111,
              "#46039f"
             ],
             [
              0.2222222222222222,
              "#7201a8"
             ],
             [
              0.3333333333333333,
              "#9c179e"
             ],
             [
              0.4444444444444444,
              "#bd3786"
             ],
             [
              0.5555555555555556,
              "#d8576b"
             ],
             [
              0.6666666666666666,
              "#ed7953"
             ],
             [
              0.7777777777777778,
              "#fb9f3a"
             ],
             [
              0.8888888888888888,
              "#fdca26"
             ],
             [
              1,
              "#f0f921"
             ]
            ],
            "type": "contour"
           }
          ],
          "contourcarpet": [
           {
            "colorbar": {
             "outlinewidth": 0,
             "ticks": ""
            },
            "type": "contourcarpet"
           }
          ],
          "heatmap": [
           {
            "colorbar": {
             "outlinewidth": 0,
             "ticks": ""
            },
            "colorscale": [
             [
              0,
              "#0d0887"
             ],
             [
              0.1111111111111111,
              "#46039f"
             ],
             [
              0.2222222222222222,
              "#7201a8"
             ],
             [
              0.3333333333333333,
              "#9c179e"
             ],
             [
              0.4444444444444444,
              "#bd3786"
             ],
             [
              0.5555555555555556,
              "#d8576b"
             ],
             [
              0.6666666666666666,
              "#ed7953"
             ],
             [
              0.7777777777777778,
              "#fb9f3a"
             ],
             [
              0.8888888888888888,
              "#fdca26"
             ],
             [
              1,
              "#f0f921"
             ]
            ],
            "type": "heatmap"
           }
          ],
          "heatmapgl": [
           {
            "colorbar": {
             "outlinewidth": 0,
             "ticks": ""
            },
            "colorscale": [
             [
              0,
              "#0d0887"
             ],
             [
              0.1111111111111111,
              "#46039f"
             ],
             [
              0.2222222222222222,
              "#7201a8"
             ],
             [
              0.3333333333333333,
              "#9c179e"
             ],
             [
              0.4444444444444444,
              "#bd3786"
             ],
             [
              0.5555555555555556,
              "#d8576b"
             ],
             [
              0.6666666666666666,
              "#ed7953"
             ],
             [
              0.7777777777777778,
              "#fb9f3a"
             ],
             [
              0.8888888888888888,
              "#fdca26"
             ],
             [
              1,
              "#f0f921"
             ]
            ],
            "type": "heatmapgl"
           }
          ],
          "histogram": [
           {
            "marker": {
             "pattern": {
              "fillmode": "overlay",
              "size": 10,
              "solidity": 0.2
             }
            },
            "type": "histogram"
           }
          ],
          "histogram2d": [
           {
            "colorbar": {
             "outlinewidth": 0,
             "ticks": ""
            },
            "colorscale": [
             [
              0,
              "#0d0887"
             ],
             [
              0.1111111111111111,
              "#46039f"
             ],
             [
              0.2222222222222222,
              "#7201a8"
             ],
             [
              0.3333333333333333,
              "#9c179e"
             ],
             [
              0.4444444444444444,
              "#bd3786"
             ],
             [
              0.5555555555555556,
              "#d8576b"
             ],
             [
              0.6666666666666666,
              "#ed7953"
             ],
             [
              0.7777777777777778,
              "#fb9f3a"
             ],
             [
              0.8888888888888888,
              "#fdca26"
             ],
             [
              1,
              "#f0f921"
             ]
            ],
            "type": "histogram2d"
           }
          ],
          "histogram2dcontour": [
           {
            "colorbar": {
             "outlinewidth": 0,
             "ticks": ""
            },
            "colorscale": [
             [
              0,
              "#0d0887"
             ],
             [
              0.1111111111111111,
              "#46039f"
             ],
             [
              0.2222222222222222,
              "#7201a8"
             ],
             [
              0.3333333333333333,
              "#9c179e"
             ],
             [
              0.4444444444444444,
              "#bd3786"
             ],
             [
              0.5555555555555556,
              "#d8576b"
             ],
             [
              0.6666666666666666,
              "#ed7953"
             ],
             [
              0.7777777777777778,
              "#fb9f3a"
             ],
             [
              0.8888888888888888,
              "#fdca26"
             ],
             [
              1,
              "#f0f921"
             ]
            ],
            "type": "histogram2dcontour"
           }
          ],
          "mesh3d": [
           {
            "colorbar": {
             "outlinewidth": 0,
             "ticks": ""
            },
            "type": "mesh3d"
           }
          ],
          "parcoords": [
           {
            "line": {
             "colorbar": {
              "outlinewidth": 0,
              "ticks": ""
             }
            },
            "type": "parcoords"
           }
          ],
          "pie": [
           {
            "automargin": true,
            "type": "pie"
           }
          ],
          "scatter": [
           {
            "fillpattern": {
             "fillmode": "overlay",
             "size": 10,
             "solidity": 0.2
            },
            "type": "scatter"
           }
          ],
          "scatter3d": [
           {
            "line": {
             "colorbar": {
              "outlinewidth": 0,
              "ticks": ""
             }
            },
            "marker": {
             "colorbar": {
              "outlinewidth": 0,
              "ticks": ""
             }
            },
            "type": "scatter3d"
           }
          ],
          "scattercarpet": [
           {
            "marker": {
             "colorbar": {
              "outlinewidth": 0,
              "ticks": ""
             }
            },
            "type": "scattercarpet"
           }
          ],
          "scattergeo": [
           {
            "marker": {
             "colorbar": {
              "outlinewidth": 0,
              "ticks": ""
             }
            },
            "type": "scattergeo"
           }
          ],
          "scattergl": [
           {
            "marker": {
             "colorbar": {
              "outlinewidth": 0,
              "ticks": ""
             }
            },
            "type": "scattergl"
           }
          ],
          "scattermapbox": [
           {
            "marker": {
             "colorbar": {
              "outlinewidth": 0,
              "ticks": ""
             }
            },
            "type": "scattermapbox"
           }
          ],
          "scatterpolar": [
           {
            "marker": {
             "colorbar": {
              "outlinewidth": 0,
              "ticks": ""
             }
            },
            "type": "scatterpolar"
           }
          ],
          "scatterpolargl": [
           {
            "marker": {
             "colorbar": {
              "outlinewidth": 0,
              "ticks": ""
             }
            },
            "type": "scatterpolargl"
           }
          ],
          "scatterternary": [
           {
            "marker": {
             "colorbar": {
              "outlinewidth": 0,
              "ticks": ""
             }
            },
            "type": "scatterternary"
           }
          ],
          "surface": [
           {
            "colorbar": {
             "outlinewidth": 0,
             "ticks": ""
            },
            "colorscale": [
             [
              0,
              "#0d0887"
             ],
             [
              0.1111111111111111,
              "#46039f"
             ],
             [
              0.2222222222222222,
              "#7201a8"
             ],
             [
              0.3333333333333333,
              "#9c179e"
             ],
             [
              0.4444444444444444,
              "#bd3786"
             ],
             [
              0.5555555555555556,
              "#d8576b"
             ],
             [
              0.6666666666666666,
              "#ed7953"
             ],
             [
              0.7777777777777778,
              "#fb9f3a"
             ],
             [
              0.8888888888888888,
              "#fdca26"
             ],
             [
              1,
              "#f0f921"
             ]
            ],
            "type": "surface"
           }
          ],
          "table": [
           {
            "cells": {
             "fill": {
              "color": "#EBF0F8"
             },
             "line": {
              "color": "white"
             }
            },
            "header": {
             "fill": {
              "color": "#C8D4E3"
             },
             "line": {
              "color": "white"
             }
            },
            "type": "table"
           }
          ]
         },
         "layout": {
          "annotationdefaults": {
           "arrowcolor": "#2a3f5f",
           "arrowhead": 0,
           "arrowwidth": 1
          },
          "autotypenumbers": "strict",
          "coloraxis": {
           "colorbar": {
            "outlinewidth": 0,
            "ticks": ""
           }
          },
          "colorscale": {
           "diverging": [
            [
             0,
             "#8e0152"
            ],
            [
             0.1,
             "#c51b7d"
            ],
            [
             0.2,
             "#de77ae"
            ],
            [
             0.3,
             "#f1b6da"
            ],
            [
             0.4,
             "#fde0ef"
            ],
            [
             0.5,
             "#f7f7f7"
            ],
            [
             0.6,
             "#e6f5d0"
            ],
            [
             0.7,
             "#b8e186"
            ],
            [
             0.8,
             "#7fbc41"
            ],
            [
             0.9,
             "#4d9221"
            ],
            [
             1,
             "#276419"
            ]
           ],
           "sequential": [
            [
             0,
             "#0d0887"
            ],
            [
             0.1111111111111111,
             "#46039f"
            ],
            [
             0.2222222222222222,
             "#7201a8"
            ],
            [
             0.3333333333333333,
             "#9c179e"
            ],
            [
             0.4444444444444444,
             "#bd3786"
            ],
            [
             0.5555555555555556,
             "#d8576b"
            ],
            [
             0.6666666666666666,
             "#ed7953"
            ],
            [
             0.7777777777777778,
             "#fb9f3a"
            ],
            [
             0.8888888888888888,
             "#fdca26"
            ],
            [
             1,
             "#f0f921"
            ]
           ],
           "sequentialminus": [
            [
             0,
             "#0d0887"
            ],
            [
             0.1111111111111111,
             "#46039f"
            ],
            [
             0.2222222222222222,
             "#7201a8"
            ],
            [
             0.3333333333333333,
             "#9c179e"
            ],
            [
             0.4444444444444444,
             "#bd3786"
            ],
            [
             0.5555555555555556,
             "#d8576b"
            ],
            [
             0.6666666666666666,
             "#ed7953"
            ],
            [
             0.7777777777777778,
             "#fb9f3a"
            ],
            [
             0.8888888888888888,
             "#fdca26"
            ],
            [
             1,
             "#f0f921"
            ]
           ]
          },
          "colorway": [
           "#636efa",
           "#EF553B",
           "#00cc96",
           "#ab63fa",
           "#FFA15A",
           "#19d3f3",
           "#FF6692",
           "#B6E880",
           "#FF97FF",
           "#FECB52"
          ],
          "font": {
           "color": "#2a3f5f"
          },
          "geo": {
           "bgcolor": "white",
           "lakecolor": "white",
           "landcolor": "#E5ECF6",
           "showlakes": true,
           "showland": true,
           "subunitcolor": "white"
          },
          "hoverlabel": {
           "align": "left"
          },
          "hovermode": "closest",
          "mapbox": {
           "style": "light"
          },
          "paper_bgcolor": "white",
          "plot_bgcolor": "#E5ECF6",
          "polar": {
           "angularaxis": {
            "gridcolor": "white",
            "linecolor": "white",
            "ticks": ""
           },
           "bgcolor": "#E5ECF6",
           "radialaxis": {
            "gridcolor": "white",
            "linecolor": "white",
            "ticks": ""
           }
          },
          "scene": {
           "xaxis": {
            "backgroundcolor": "#E5ECF6",
            "gridcolor": "white",
            "gridwidth": 2,
            "linecolor": "white",
            "showbackground": true,
            "ticks": "",
            "zerolinecolor": "white"
           },
           "yaxis": {
            "backgroundcolor": "#E5ECF6",
            "gridcolor": "white",
            "gridwidth": 2,
            "linecolor": "white",
            "showbackground": true,
            "ticks": "",
            "zerolinecolor": "white"
           },
           "zaxis": {
            "backgroundcolor": "#E5ECF6",
            "gridcolor": "white",
            "gridwidth": 2,
            "linecolor": "white",
            "showbackground": true,
            "ticks": "",
            "zerolinecolor": "white"
           }
          },
          "shapedefaults": {
           "line": {
            "color": "#2a3f5f"
           }
          },
          "ternary": {
           "aaxis": {
            "gridcolor": "white",
            "linecolor": "white",
            "ticks": ""
           },
           "baxis": {
            "gridcolor": "white",
            "linecolor": "white",
            "ticks": ""
           },
           "bgcolor": "#E5ECF6",
           "caxis": {
            "gridcolor": "white",
            "linecolor": "white",
            "ticks": ""
           }
          },
          "title": {
           "x": 0.05
          },
          "xaxis": {
           "automargin": true,
           "gridcolor": "white",
           "linecolor": "white",
           "ticks": "",
           "title": {
            "standoff": 15
           },
           "zerolinecolor": "white",
           "zerolinewidth": 2
          },
          "yaxis": {
           "automargin": true,
           "gridcolor": "white",
           "linecolor": "white",
           "ticks": "",
           "title": {
            "standoff": 15
           },
           "zerolinecolor": "white",
           "zerolinewidth": 2
          }
         }
        },
        "xaxis": {
         "anchor": "y",
         "domain": [
          0,
          1
         ],
         "title": {
          "text": "index"
         }
        },
        "yaxis": {
         "anchor": "x",
         "domain": [
          0,
          1
         ],
         "title": {
          "text": "value"
         }
        }
       }
      }
     },
     "metadata": {},
     "output_type": "display_data"
    }
   ],
   "source": [
    "lines"
   ]
  },
  {
   "cell_type": "code",
   "execution_count": 21,
   "metadata": {},
   "outputs": [],
   "source": [
    "# 방문주기가 많은걸 어덯게 표현해야할까 id랑 세션? 한아이디에 세션을 그룹화하면 아이디당 방문을 알수 있지 않을까\n",
    "# 아이디당 view에 따른 판매량? \n",
    "# 유저마다 여러 세션이 있을텐데 \n",
    "\n",
    "#df=data.groupby(['event_time','event_type'],as_index=False).size()\n",
    "\n",
    "df1=data"
   ]
  },
  {
   "cell_type": "code",
   "execution_count": 22,
   "metadata": {},
   "outputs": [
    {
     "data": {
      "text/plain": [
       "684982"
      ]
     },
     "execution_count": 22,
     "metadata": {},
     "output_type": "execute_result"
    }
   ],
   "source": [
    "visitor=df1['user_id'].nunique()\n",
    "visitor"
   ]
  },
  {
   "cell_type": "code",
   "execution_count": 23,
   "metadata": {},
   "outputs": [],
   "source": [
    "d=df1.loc[:,['event_time','user_id']]"
   ]
  },
  {
   "cell_type": "code",
   "execution_count": 24,
   "metadata": {},
   "outputs": [],
   "source": [
    "vister_by_date=d.groupby(['event_time'])['user_id'].size()"
   ]
  },
  {
   "cell_type": "code",
   "execution_count": 25,
   "metadata": {},
   "outputs": [
    {
     "data": {
      "image/png": "[encoded data removed]",
      "text/plain": [
       "<Figure size 1080x360 with 1 Axes>"
      ]
     },
     "metadata": {
      "needs_background": "light"
     },
     "output_type": "display_data"
    }
   ],
   "source": [
    "# 하루 방문자수를 표현해보았다. \n",
    "plt.rcParams['figure.figsize'] = (15,5)\n",
    "\n",
    "plt.plot(vister_by_date)\n",
    "plt.show()"
   ]
  },
  {
   "cell_type": "code",
   "execution_count": 26,
   "metadata": {},
   "outputs": [
    {
     "data": {
      "text/plain": [
       "<matplotlib.legend.Legend at 0x7fe63763b250>"
      ]
     },
     "execution_count": 26,
     "metadata": {},
     "output_type": "execute_result"
    },
    {
     "data": {
      "image/png": "[encoded data removed]",
      "text/plain": [
       "<Figure size 720x360 with 1 Axes>"
      ]
     },
     "metadata": {
      "needs_background": "light"
     },
     "output_type": "display_data"
    }
   ],
   "source": [
    "#방문 주기가 더 많을수록 더 많은 상품을 살까?\n",
    "\n",
    "fig=plt.figure(figsize=(10,5))\n",
    "ax=fig.add_subplot()\n",
    "\n",
    "ax.plot(vister_by_date,label='Visitor')\n",
    "ax.plot(df_chart.index,df_chart['view'],label='view')\n",
    "\n",
    "\n",
    "plt.title('Each day of visitor, view')\n",
    "plt.xlabel('Day')\n",
    "plt.legend(loc='best', ncol=1) "
   ]
  },
  {
   "cell_type": "markdown",
   "metadata": {},
   "source": [
    "방문자 수와 view수는 큰 차이를 보이지 않아보인다. 그러니 view의 숫자로 구매율을 파악하거나 방문자수로 구매율을 예측해도 큰 문제가 되 보이지 않는다."
   ]
  },
  {
   "cell_type": "markdown",
   "metadata": {},
   "source": [
    "또하나 발견한건 vistor와 view수가 거의 비슷한 날에는 cart에 물건이 늘어가는 양도 증가한다는 점이다. 왜 그럴까?"
   ]
  },
  {
   "cell_type": "code",
   "execution_count": 27,
   "metadata": {},
   "outputs": [],
   "source": [
    "#카테고리 나누기\n",
    "data['category_code_split']=data['category_code'].apply(lambda x : x.split('.'))"
   ]
  },
  {
   "cell_type": "code",
   "execution_count": 28,
   "metadata": {},
   "outputs": [],
   "source": [
    "brand_purchased= only_purchases.loc[only_purchases.brand.notnull()]"
   ]
  },
  {
   "cell_type": "code",
   "execution_count": 29,
   "metadata": {},
   "outputs": [
    {
     "data": {
      "text/html": [
       "<div>\n",
       "<style scoped>\n",
       "    .dataframe tbody tr th:only-of-type {\n",
       "        vertical-align: middle;\n",
       "    }\n",
       "\n",
       "    .dataframe tbody tr th {\n",
       "        vertical-align: top;\n",
       "    }\n",
       "\n",
       "    .dataframe thead th {\n",
       "        text-align: right;\n",
       "    }\n",
       "</style>\n",
       "<table border=\"1\" class=\"dataframe\">\n",
       "  <thead>\n",
       "    <tr style=\"text-align: right;\">\n",
       "      <th></th>\n",
       "      <th>event_time</th>\n",
       "      <th>event_type</th>\n",
       "      <th>product_id</th>\n",
       "      <th>category_id</th>\n",
       "      <th>category_code</th>\n",
       "      <th>brand</th>\n",
       "      <th>price</th>\n",
       "      <th>user_id</th>\n",
       "      <th>user_session</th>\n",
       "    </tr>\n",
       "  </thead>\n",
       "  <tbody>\n",
       "    <tr>\n",
       "      <th>172</th>\n",
       "      <td>18</td>\n",
       "      <td>purchase</td>\n",
       "      <td>1700718</td>\n",
       "      <td>2053013553031414015</td>\n",
       "      <td>computers.peripherals.monitor</td>\n",
       "      <td>acer</td>\n",
       "      <td>89.84</td>\n",
       "      <td>523013344</td>\n",
       "      <td>954a50eb-125a-47f9-93f9-7ca609a4bda3</td>\n",
       "    </tr>\n",
       "    <tr>\n",
       "      <th>352</th>\n",
       "      <td>3</td>\n",
       "      <td>purchase</td>\n",
       "      <td>1004856</td>\n",
       "      <td>2053013555631882655</td>\n",
       "      <td>electronics.smartphone</td>\n",
       "      <td>samsung</td>\n",
       "      <td>132.31</td>\n",
       "      <td>514696726</td>\n",
       "      <td>5a881108-0b8f-4a29-b9ff-a7b649e1fa6d</td>\n",
       "    </tr>\n",
       "    <tr>\n",
       "      <th>362</th>\n",
       "      <td>31</td>\n",
       "      <td>purchase</td>\n",
       "      <td>1004903</td>\n",
       "      <td>2053013555631882655</td>\n",
       "      <td>electronics.smartphone</td>\n",
       "      <td>huawei</td>\n",
       "      <td>109.00</td>\n",
       "      <td>521699061</td>\n",
       "      <td>9b32d517-e18e-45bd-be35-0e6d4c75dbbe</td>\n",
       "    </tr>\n",
       "    <tr>\n",
       "      <th>592</th>\n",
       "      <td>19</td>\n",
       "      <td>purchase</td>\n",
       "      <td>1801690</td>\n",
       "      <td>2053013554415534427</td>\n",
       "      <td>electronics.video.tv</td>\n",
       "      <td>samsung</td>\n",
       "      <td>369.37</td>\n",
       "      <td>513022404</td>\n",
       "      <td>3b80fe86-516d-451f-8dd6-4a5f6f777fb7</td>\n",
       "    </tr>\n",
       "    <tr>\n",
       "      <th>680</th>\n",
       "      <td>2</td>\n",
       "      <td>purchase</td>\n",
       "      <td>21404275</td>\n",
       "      <td>2053013561579406073</td>\n",
       "      <td>electronics.clocks</td>\n",
       "      <td>casio</td>\n",
       "      <td>15.19</td>\n",
       "      <td>556002836</td>\n",
       "      <td>f26f00a2-6760-47b6-b9bd-3546d6f80750</td>\n",
       "    </tr>\n",
       "    <tr>\n",
       "      <th>...</th>\n",
       "      <td>...</td>\n",
       "      <td>...</td>\n",
       "      <td>...</td>\n",
       "      <td>...</td>\n",
       "      <td>...</td>\n",
       "      <td>...</td>\n",
       "      <td>...</td>\n",
       "      <td>...</td>\n",
       "      <td>...</td>\n",
       "    </tr>\n",
       "    <tr>\n",
       "      <th>2122103</th>\n",
       "      <td>17</td>\n",
       "      <td>purchase</td>\n",
       "      <td>1004258</td>\n",
       "      <td>2053013555631882655</td>\n",
       "      <td>electronics.smartphone</td>\n",
       "      <td>apple</td>\n",
       "      <td>756.65</td>\n",
       "      <td>517548594</td>\n",
       "      <td>c7e49d65-4352-4556-beba-252a3524f0ee</td>\n",
       "    </tr>\n",
       "    <tr>\n",
       "      <th>2122138</th>\n",
       "      <td>23</td>\n",
       "      <td>purchase</td>\n",
       "      <td>1005204</td>\n",
       "      <td>2053013555631882655</td>\n",
       "      <td>electronics.smartphone</td>\n",
       "      <td>xiaomi</td>\n",
       "      <td>156.47</td>\n",
       "      <td>515161163</td>\n",
       "      <td>d132e3eb-cc36-4dae-8adf-1cab98df4012</td>\n",
       "    </tr>\n",
       "    <tr>\n",
       "      <th>2122180</th>\n",
       "      <td>5</td>\n",
       "      <td>purchase</td>\n",
       "      <td>6000094</td>\n",
       "      <td>2053013560807654091</td>\n",
       "      <td>auto.accessories.alarm</td>\n",
       "      <td>starline</td>\n",
       "      <td>121.24</td>\n",
       "      <td>555514716</td>\n",
       "      <td>b2329369-c6e7-4e96-b23d-e39d1395d470</td>\n",
       "    </tr>\n",
       "    <tr>\n",
       "      <th>2122310</th>\n",
       "      <td>11</td>\n",
       "      <td>purchase</td>\n",
       "      <td>5100564</td>\n",
       "      <td>2053013553341792533</td>\n",
       "      <td>electronics.clocks</td>\n",
       "      <td>samsung</td>\n",
       "      <td>259.95</td>\n",
       "      <td>558853576</td>\n",
       "      <td>3c2eaf0d-704b-4587-a16f-572fa1a9f704</td>\n",
       "    </tr>\n",
       "    <tr>\n",
       "      <th>2122426</th>\n",
       "      <td>31</td>\n",
       "      <td>purchase</td>\n",
       "      <td>1005115</td>\n",
       "      <td>2053013555631882655</td>\n",
       "      <td>electronics.smartphone</td>\n",
       "      <td>apple</td>\n",
       "      <td>949.78</td>\n",
       "      <td>512801494</td>\n",
       "      <td>05653777-82b8-4d8e-8e41-d409163b8037</td>\n",
       "    </tr>\n",
       "  </tbody>\n",
       "</table>\n",
       "<p>27859 rows × 9 columns</p>\n",
       "</div>"
      ],
      "text/plain": [
       "         event_time event_type  product_id          category_id  \\\n",
       "172              18   purchase     1700718  2053013553031414015   \n",
       "352               3   purchase     1004856  2053013555631882655   \n",
       "362              31   purchase     1004903  2053013555631882655   \n",
       "592              19   purchase     1801690  2053013554415534427   \n",
       "680               2   purchase    21404275  2053013561579406073   \n",
       "...             ...        ...         ...                  ...   \n",
       "2122103          17   purchase     1004258  2053013555631882655   \n",
       "2122138          23   purchase     1005204  2053013555631882655   \n",
       "2122180           5   purchase     6000094  2053013560807654091   \n",
       "2122310          11   purchase     5100564  2053013553341792533   \n",
       "2122426          31   purchase     1005115  2053013555631882655   \n",
       "\n",
       "                         category_code     brand   price    user_id  \\\n",
       "172      computers.peripherals.monitor      acer   89.84  523013344   \n",
       "352             electronics.smartphone   samsung  132.31  514696726   \n",
       "362             electronics.smartphone    huawei  109.00  521699061   \n",
       "592               electronics.video.tv   samsung  369.37  513022404   \n",
       "680                 electronics.clocks     casio   15.19  556002836   \n",
       "...                                ...       ...     ...        ...   \n",
       "2122103         electronics.smartphone     apple  756.65  517548594   \n",
       "2122138         electronics.smartphone    xiaomi  156.47  515161163   \n",
       "2122180         auto.accessories.alarm  starline  121.24  555514716   \n",
       "2122310             electronics.clocks   samsung  259.95  558853576   \n",
       "2122426         electronics.smartphone     apple  949.78  512801494   \n",
       "\n",
       "                                 user_session  \n",
       "172      954a50eb-125a-47f9-93f9-7ca609a4bda3  \n",
       "352      5a881108-0b8f-4a29-b9ff-a7b649e1fa6d  \n",
       "362      9b32d517-e18e-45bd-be35-0e6d4c75dbbe  \n",
       "592      3b80fe86-516d-451f-8dd6-4a5f6f777fb7  \n",
       "680      f26f00a2-6760-47b6-b9bd-3546d6f80750  \n",
       "...                                       ...  \n",
       "2122103  c7e49d65-4352-4556-beba-252a3524f0ee  \n",
       "2122138  d132e3eb-cc36-4dae-8adf-1cab98df4012  \n",
       "2122180  b2329369-c6e7-4e96-b23d-e39d1395d470  \n",
       "2122310  3c2eaf0d-704b-4587-a16f-572fa1a9f704  \n",
       "2122426  05653777-82b8-4d8e-8e41-d409163b8037  \n",
       "\n",
       "[27859 rows x 9 columns]"
      ]
     },
     "execution_count": 29,
     "metadata": {},
     "output_type": "execute_result"
    }
   ],
   "source": [
    "brand_purchased"
   ]
  },
  {
   "cell_type": "code",
   "execution_count": 30,
   "metadata": {},
   "outputs": [
    {
     "data": {
      "text/html": [
       "<div>\n",
       "<style scoped>\n",
       "    .dataframe tbody tr th:only-of-type {\n",
       "        vertical-align: middle;\n",
       "    }\n",
       "\n",
       "    .dataframe tbody tr th {\n",
       "        vertical-align: top;\n",
       "    }\n",
       "\n",
       "    .dataframe thead th {\n",
       "        text-align: right;\n",
       "    }\n",
       "</style>\n",
       "<table border=\"1\" class=\"dataframe\">\n",
       "  <thead>\n",
       "    <tr style=\"text-align: right;\">\n",
       "      <th></th>\n",
       "      <th>len</th>\n",
       "    </tr>\n",
       "    <tr>\n",
       "      <th>brand</th>\n",
       "      <th></th>\n",
       "    </tr>\n",
       "  </thead>\n",
       "  <tbody>\n",
       "    <tr>\n",
       "      <th>samsung</th>\n",
       "      <td>8654</td>\n",
       "    </tr>\n",
       "    <tr>\n",
       "      <th>apple</th>\n",
       "      <td>7163</td>\n",
       "    </tr>\n",
       "    <tr>\n",
       "      <th>xiaomi</th>\n",
       "      <td>2384</td>\n",
       "    </tr>\n",
       "    <tr>\n",
       "      <th>huawei</th>\n",
       "      <td>1172</td>\n",
       "    </tr>\n",
       "    <tr>\n",
       "      <th>oppo</th>\n",
       "      <td>543</td>\n",
       "    </tr>\n",
       "    <tr>\n",
       "      <th>lg</th>\n",
       "      <td>419</td>\n",
       "    </tr>\n",
       "    <tr>\n",
       "      <th>acer</th>\n",
       "      <td>356</td>\n",
       "    </tr>\n",
       "    <tr>\n",
       "      <th>elenberg</th>\n",
       "      <td>295</td>\n",
       "    </tr>\n",
       "    <tr>\n",
       "      <th>indesit</th>\n",
       "      <td>293</td>\n",
       "    </tr>\n",
       "    <tr>\n",
       "      <th>lenovo</th>\n",
       "      <td>231</td>\n",
       "    </tr>\n",
       "  </tbody>\n",
       "</table>\n",
       "</div>"
      ],
      "text/plain": [
       "           len\n",
       "brand         \n",
       "samsung   8654\n",
       "apple     7163\n",
       "xiaomi    2384\n",
       "huawei    1172\n",
       "oppo       543\n",
       "lg         419\n",
       "acer       356\n",
       "elenberg   295\n",
       "indesit    293\n",
       "lenovo     231"
      ]
     },
     "execution_count": 30,
     "metadata": {},
     "output_type": "execute_result"
    }
   ],
   "source": [
    "#agg는 \n",
    "top_seller=brand_purchased.groupby('brand').brand.agg([len]).sort_values(by='len',ascending=False)\n",
    "top_seller.head(10)"
   ]
  },
  {
   "cell_type": "code",
   "execution_count": 31,
   "metadata": {},
   "outputs": [
    {
     "data": {
      "text/plain": [
       "event_time             258511\n",
       "event_type             258511\n",
       "product_id             258511\n",
       "category_id            258511\n",
       "category_code          258511\n",
       "brand                  258511\n",
       "price                  258511\n",
       "user_id                258511\n",
       "user_session           258511\n",
       "category_code_split    258511\n",
       "dtype: int64"
      ]
     },
     "execution_count": 31,
     "metadata": {},
     "output_type": "execute_result"
    }
   ],
   "source": [
    "data.loc[data['brand']=='samsung'].count()"
   ]
  },
  {
   "cell_type": "code",
   "execution_count": 32,
   "metadata": {},
   "outputs": [
    {
     "ename": "KeyError",
     "evalue": "\"['user_id'] not in index\"",
     "output_type": "error",
     "traceback": [
      "\u001b[0;31m---------------------------------------------------------------------------\u001b[0m",
      "\u001b[0;31mKeyError\u001b[0m                                  Traceback (most recent call last)",
      "\u001b[1;32m/Users/namchangseok/Desktop/코드스테이츠/AI_12기/cp2/eda.ipynb Cell 36'\u001b[0m in \u001b[0;36m<cell line: 1>\u001b[0;34m()\u001b[0m\n\u001b[0;32m----> <a href='vscode-notebook-cell:/Users/namchangseok/Desktop/%EC%BD%94%EB%93%9C%EC%8A%A4%ED%85%8C%EC%9D%B4%EC%B8%A0/AI_12%EA%B8%B0/cp2/eda.ipynb#ch0000035?line=0'>1</a>\u001b[0m d\u001b[39m=\u001b[39mdf\u001b[39m.\u001b[39;49mloc[:,[\u001b[39m'\u001b[39;49m\u001b[39mevent_time\u001b[39;49m\u001b[39m'\u001b[39;49m,\u001b[39m'\u001b[39;49m\u001b[39muser_id\u001b[39;49m\u001b[39m'\u001b[39;49m]]\n\u001b[1;32m      <a href='vscode-notebook-cell:/Users/namchangseok/Desktop/%EC%BD%94%EB%93%9C%EC%8A%A4%ED%85%8C%EC%9D%B4%EC%B8%A0/AI_12%EA%B8%B0/cp2/eda.ipynb#ch0000035?line=1'>2</a>\u001b[0m d[\u001b[39m'\u001b[39m\u001b[39mevent_time\u001b[39m\u001b[39m'\u001b[39m] \u001b[39m=\u001b[39m d[\u001b[39m'\u001b[39m\u001b[39mevent_time\u001b[39m\u001b[39m'\u001b[39m]\u001b[39m.\u001b[39mapply(\u001b[39mlambda\u001b[39;00m s: \u001b[39mstr\u001b[39m(s)[\u001b[39m0\u001b[39m:\u001b[39m10\u001b[39m])\n",
      "File \u001b[0;32m~/opt/anaconda3/envs/cp1/lib/python3.8/site-packages/pandas/core/indexing.py:961\u001b[0m, in \u001b[0;36m_LocationIndexer.__getitem__\u001b[0;34m(self, key)\u001b[0m\n\u001b[1;32m    959\u001b[0m     \u001b[39mif\u001b[39;00m \u001b[39mself\u001b[39m\u001b[39m.\u001b[39m_is_scalar_access(key):\n\u001b[1;32m    960\u001b[0m         \u001b[39mreturn\u001b[39;00m \u001b[39mself\u001b[39m\u001b[39m.\u001b[39mobj\u001b[39m.\u001b[39m_get_value(\u001b[39m*\u001b[39mkey, takeable\u001b[39m=\u001b[39m\u001b[39mself\u001b[39m\u001b[39m.\u001b[39m_takeable)\n\u001b[0;32m--> 961\u001b[0m     \u001b[39mreturn\u001b[39;00m \u001b[39mself\u001b[39;49m\u001b[39m.\u001b[39;49m_getitem_tuple(key)\n\u001b[1;32m    962\u001b[0m \u001b[39melse\u001b[39;00m:\n\u001b[1;32m    963\u001b[0m     \u001b[39m# we by definition only have the 0th axis\u001b[39;00m\n\u001b[1;32m    964\u001b[0m     axis \u001b[39m=\u001b[39m \u001b[39mself\u001b[39m\u001b[39m.\u001b[39maxis \u001b[39mor\u001b[39;00m \u001b[39m0\u001b[39m\n",
      "File \u001b[0;32m~/opt/anaconda3/envs/cp1/lib/python3.8/site-packages/pandas/core/indexing.py:1149\u001b[0m, in \u001b[0;36m_LocIndexer._getitem_tuple\u001b[0;34m(self, tup)\u001b[0m\n\u001b[1;32m   1146\u001b[0m \u001b[39mif\u001b[39;00m \u001b[39mself\u001b[39m\u001b[39m.\u001b[39m_multi_take_opportunity(tup):\n\u001b[1;32m   1147\u001b[0m     \u001b[39mreturn\u001b[39;00m \u001b[39mself\u001b[39m\u001b[39m.\u001b[39m_multi_take(tup)\n\u001b[0;32m-> 1149\u001b[0m \u001b[39mreturn\u001b[39;00m \u001b[39mself\u001b[39;49m\u001b[39m.\u001b[39;49m_getitem_tuple_same_dim(tup)\n",
      "File \u001b[0;32m~/opt/anaconda3/envs/cp1/lib/python3.8/site-packages/pandas/core/indexing.py:827\u001b[0m, in \u001b[0;36m_LocationIndexer._getitem_tuple_same_dim\u001b[0;34m(self, tup)\u001b[0m\n\u001b[1;32m    824\u001b[0m \u001b[39mif\u001b[39;00m com\u001b[39m.\u001b[39mis_null_slice(key):\n\u001b[1;32m    825\u001b[0m     \u001b[39mcontinue\u001b[39;00m\n\u001b[0;32m--> 827\u001b[0m retval \u001b[39m=\u001b[39m \u001b[39mgetattr\u001b[39;49m(retval, \u001b[39mself\u001b[39;49m\u001b[39m.\u001b[39;49mname)\u001b[39m.\u001b[39;49m_getitem_axis(key, axis\u001b[39m=\u001b[39;49mi)\n\u001b[1;32m    828\u001b[0m \u001b[39m# We should never have retval.ndim < self.ndim, as that should\u001b[39;00m\n\u001b[1;32m    829\u001b[0m \u001b[39m#  be handled by the _getitem_lowerdim call above.\u001b[39;00m\n\u001b[1;32m    830\u001b[0m \u001b[39massert\u001b[39;00m retval\u001b[39m.\u001b[39mndim \u001b[39m==\u001b[39m \u001b[39mself\u001b[39m\u001b[39m.\u001b[39mndim\n",
      "File \u001b[0;32m~/opt/anaconda3/envs/cp1/lib/python3.8/site-packages/pandas/core/indexing.py:1191\u001b[0m, in \u001b[0;36m_LocIndexer._getitem_axis\u001b[0;34m(self, key, axis)\u001b[0m\n\u001b[1;32m   1188\u001b[0m     \u001b[39mif\u001b[39;00m \u001b[39mhasattr\u001b[39m(key, \u001b[39m\"\u001b[39m\u001b[39mndim\u001b[39m\u001b[39m\"\u001b[39m) \u001b[39mand\u001b[39;00m key\u001b[39m.\u001b[39mndim \u001b[39m>\u001b[39m \u001b[39m1\u001b[39m:\n\u001b[1;32m   1189\u001b[0m         \u001b[39mraise\u001b[39;00m \u001b[39mValueError\u001b[39;00m(\u001b[39m\"\u001b[39m\u001b[39mCannot index with multidimensional key\u001b[39m\u001b[39m\"\u001b[39m)\n\u001b[0;32m-> 1191\u001b[0m     \u001b[39mreturn\u001b[39;00m \u001b[39mself\u001b[39;49m\u001b[39m.\u001b[39;49m_getitem_iterable(key, axis\u001b[39m=\u001b[39;49maxis)\n\u001b[1;32m   1193\u001b[0m \u001b[39m# nested tuple slicing\u001b[39;00m\n\u001b[1;32m   1194\u001b[0m \u001b[39mif\u001b[39;00m is_nested_tuple(key, labels):\n",
      "File \u001b[0;32m~/opt/anaconda3/envs/cp1/lib/python3.8/site-packages/pandas/core/indexing.py:1132\u001b[0m, in \u001b[0;36m_LocIndexer._getitem_iterable\u001b[0;34m(self, key, axis)\u001b[0m\n\u001b[1;32m   1129\u001b[0m \u001b[39mself\u001b[39m\u001b[39m.\u001b[39m_validate_key(key, axis)\n\u001b[1;32m   1131\u001b[0m \u001b[39m# A collection of keys\u001b[39;00m\n\u001b[0;32m-> 1132\u001b[0m keyarr, indexer \u001b[39m=\u001b[39m \u001b[39mself\u001b[39;49m\u001b[39m.\u001b[39;49m_get_listlike_indexer(key, axis)\n\u001b[1;32m   1133\u001b[0m \u001b[39mreturn\u001b[39;00m \u001b[39mself\u001b[39m\u001b[39m.\u001b[39mobj\u001b[39m.\u001b[39m_reindex_with_indexers(\n\u001b[1;32m   1134\u001b[0m     {axis: [keyarr, indexer]}, copy\u001b[39m=\u001b[39m\u001b[39mTrue\u001b[39;00m, allow_dups\u001b[39m=\u001b[39m\u001b[39mTrue\u001b[39;00m\n\u001b[1;32m   1135\u001b[0m )\n",
      "File \u001b[0;32m~/opt/anaconda3/envs/cp1/lib/python3.8/site-packages/pandas/core/indexing.py:1327\u001b[0m, in \u001b[0;36m_LocIndexer._get_listlike_indexer\u001b[0;34m(self, key, axis)\u001b[0m\n\u001b[1;32m   1324\u001b[0m ax \u001b[39m=\u001b[39m \u001b[39mself\u001b[39m\u001b[39m.\u001b[39mobj\u001b[39m.\u001b[39m_get_axis(axis)\n\u001b[1;32m   1325\u001b[0m axis_name \u001b[39m=\u001b[39m \u001b[39mself\u001b[39m\u001b[39m.\u001b[39mobj\u001b[39m.\u001b[39m_get_axis_name(axis)\n\u001b[0;32m-> 1327\u001b[0m keyarr, indexer \u001b[39m=\u001b[39m ax\u001b[39m.\u001b[39;49m_get_indexer_strict(key, axis_name)\n\u001b[1;32m   1329\u001b[0m \u001b[39mreturn\u001b[39;00m keyarr, indexer\n",
      "File \u001b[0;32m~/opt/anaconda3/envs/cp1/lib/python3.8/site-packages/pandas/core/indexes/base.py:5782\u001b[0m, in \u001b[0;36mIndex._get_indexer_strict\u001b[0;34m(self, key, axis_name)\u001b[0m\n\u001b[1;32m   5779\u001b[0m \u001b[39melse\u001b[39;00m:\n\u001b[1;32m   5780\u001b[0m     keyarr, indexer, new_indexer \u001b[39m=\u001b[39m \u001b[39mself\u001b[39m\u001b[39m.\u001b[39m_reindex_non_unique(keyarr)\n\u001b[0;32m-> 5782\u001b[0m \u001b[39mself\u001b[39;49m\u001b[39m.\u001b[39;49m_raise_if_missing(keyarr, indexer, axis_name)\n\u001b[1;32m   5784\u001b[0m keyarr \u001b[39m=\u001b[39m \u001b[39mself\u001b[39m\u001b[39m.\u001b[39mtake(indexer)\n\u001b[1;32m   5785\u001b[0m \u001b[39mif\u001b[39;00m \u001b[39misinstance\u001b[39m(key, Index):\n\u001b[1;32m   5786\u001b[0m     \u001b[39m# GH 42790 - Preserve name from an Index\u001b[39;00m\n",
      "File \u001b[0;32m~/opt/anaconda3/envs/cp1/lib/python3.8/site-packages/pandas/core/indexes/base.py:5845\u001b[0m, in \u001b[0;36mIndex._raise_if_missing\u001b[0;34m(self, key, indexer, axis_name)\u001b[0m\n\u001b[1;32m   5842\u001b[0m     \u001b[39mraise\u001b[39;00m \u001b[39mKeyError\u001b[39;00m(\u001b[39mf\u001b[39m\u001b[39m\"\u001b[39m\u001b[39mNone of [\u001b[39m\u001b[39m{\u001b[39;00mkey\u001b[39m}\u001b[39;00m\u001b[39m] are in the [\u001b[39m\u001b[39m{\u001b[39;00maxis_name\u001b[39m}\u001b[39;00m\u001b[39m]\u001b[39m\u001b[39m\"\u001b[39m)\n\u001b[1;32m   5844\u001b[0m not_found \u001b[39m=\u001b[39m \u001b[39mlist\u001b[39m(ensure_index(key)[missing_mask\u001b[39m.\u001b[39mnonzero()[\u001b[39m0\u001b[39m]]\u001b[39m.\u001b[39munique())\n\u001b[0;32m-> 5845\u001b[0m \u001b[39mraise\u001b[39;00m \u001b[39mKeyError\u001b[39;00m(\u001b[39mf\u001b[39m\u001b[39m\"\u001b[39m\u001b[39m{\u001b[39;00mnot_found\u001b[39m}\u001b[39;00m\u001b[39m not in index\u001b[39m\u001b[39m\"\u001b[39m)\n",
      "\u001b[0;31mKeyError\u001b[0m: \"['user_id'] not in index\""
     ]
    }
   ],
   "source": [
    "d=df.loc[:,['event_time','user_id']]\n",
    "d['event_time'] = d['event_time'].apply(lambda s: str(s)[0:10])"
   ]
  },
  {
   "cell_type": "code",
   "execution_count": null,
   "metadata": {},
   "outputs": [
    {
     "data": {
      "text/html": [
       "<div>\n",
       "<style scoped>\n",
       "    .dataframe tbody tr th:only-of-type {\n",
       "        vertical-align: middle;\n",
       "    }\n",
       "\n",
       "    .dataframe tbody tr th {\n",
       "        vertical-align: top;\n",
       "    }\n",
       "\n",
       "    .dataframe thead th {\n",
       "        text-align: right;\n",
       "    }\n",
       "</style>\n",
       "<table border=\"1\" class=\"dataframe\">\n",
       "  <thead>\n",
       "    <tr style=\"text-align: right;\">\n",
       "      <th></th>\n",
       "      <th>count</th>\n",
       "    </tr>\n",
       "    <tr>\n",
       "      <th>event_time</th>\n",
       "      <th></th>\n",
       "    </tr>\n",
       "  </thead>\n",
       "  <tbody>\n",
       "    <tr>\n",
       "      <th>2019-10-01</th>\n",
       "      <td>43370</td>\n",
       "    </tr>\n",
       "    <tr>\n",
       "      <th>2019-10-02</th>\n",
       "      <td>41529</td>\n",
       "    </tr>\n",
       "    <tr>\n",
       "      <th>2019-10-03</th>\n",
       "      <td>38891</td>\n",
       "    </tr>\n",
       "    <tr>\n",
       "      <th>2019-10-04</th>\n",
       "      <td>48939</td>\n",
       "    </tr>\n",
       "    <tr>\n",
       "      <th>2019-10-05</th>\n",
       "      <td>45597</td>\n",
       "    </tr>\n",
       "    <tr>\n",
       "      <th>2019-10-06</th>\n",
       "      <td>45323</td>\n",
       "    </tr>\n",
       "    <tr>\n",
       "      <th>2019-10-07</th>\n",
       "      <td>42177</td>\n",
       "    </tr>\n",
       "    <tr>\n",
       "      <th>2019-10-08</th>\n",
       "      <td>48896</td>\n",
       "    </tr>\n",
       "    <tr>\n",
       "      <th>2019-10-09</th>\n",
       "      <td>47446</td>\n",
       "    </tr>\n",
       "    <tr>\n",
       "      <th>2019-10-10</th>\n",
       "      <td>45196</td>\n",
       "    </tr>\n",
       "    <tr>\n",
       "      <th>2019-10-11</th>\n",
       "      <td>51865</td>\n",
       "    </tr>\n",
       "    <tr>\n",
       "      <th>2019-10-12</th>\n",
       "      <td>50197</td>\n",
       "    </tr>\n",
       "    <tr>\n",
       "      <th>2019-10-13</th>\n",
       "      <td>54489</td>\n",
       "    </tr>\n",
       "    <tr>\n",
       "      <th>2019-10-14</th>\n",
       "      <td>49870</td>\n",
       "    </tr>\n",
       "    <tr>\n",
       "      <th>2019-10-15</th>\n",
       "      <td>53288</td>\n",
       "    </tr>\n",
       "    <tr>\n",
       "      <th>2019-10-16</th>\n",
       "      <td>52893</td>\n",
       "    </tr>\n",
       "    <tr>\n",
       "      <th>2019-10-17</th>\n",
       "      <td>48579</td>\n",
       "    </tr>\n",
       "    <tr>\n",
       "      <th>2019-10-18</th>\n",
       "      <td>51751</td>\n",
       "    </tr>\n",
       "    <tr>\n",
       "      <th>2019-10-19</th>\n",
       "      <td>50057</td>\n",
       "    </tr>\n",
       "    <tr>\n",
       "      <th>2019-10-20</th>\n",
       "      <td>52282</td>\n",
       "    </tr>\n",
       "    <tr>\n",
       "      <th>2019-10-21</th>\n",
       "      <td>49549</td>\n",
       "    </tr>\n",
       "    <tr>\n",
       "      <th>2019-10-22</th>\n",
       "      <td>49417</td>\n",
       "    </tr>\n",
       "    <tr>\n",
       "      <th>2019-10-23</th>\n",
       "      <td>48197</td>\n",
       "    </tr>\n",
       "    <tr>\n",
       "      <th>2019-10-24</th>\n",
       "      <td>46279</td>\n",
       "    </tr>\n",
       "    <tr>\n",
       "      <th>2019-10-25</th>\n",
       "      <td>49713</td>\n",
       "    </tr>\n",
       "    <tr>\n",
       "      <th>2019-10-26</th>\n",
       "      <td>46194</td>\n",
       "    </tr>\n",
       "    <tr>\n",
       "      <th>2019-10-27</th>\n",
       "      <td>47323</td>\n",
       "    </tr>\n",
       "    <tr>\n",
       "      <th>2019-10-28</th>\n",
       "      <td>43893</td>\n",
       "    </tr>\n",
       "    <tr>\n",
       "      <th>2019-10-29</th>\n",
       "      <td>42812</td>\n",
       "    </tr>\n",
       "    <tr>\n",
       "      <th>2019-10-30</th>\n",
       "      <td>42679</td>\n",
       "    </tr>\n",
       "    <tr>\n",
       "      <th>2019-10-31</th>\n",
       "      <td>44031</td>\n",
       "    </tr>\n",
       "  </tbody>\n",
       "</table>\n",
       "</div>"
      ],
      "text/plain": [
       "            count\n",
       "event_time       \n",
       "2019-10-01  43370\n",
       "2019-10-02  41529\n",
       "2019-10-03  38891\n",
       "2019-10-04  48939\n",
       "2019-10-05  45597\n",
       "2019-10-06  45323\n",
       "2019-10-07  42177\n",
       "2019-10-08  48896\n",
       "2019-10-09  47446\n",
       "2019-10-10  45196\n",
       "2019-10-11  51865\n",
       "2019-10-12  50197\n",
       "2019-10-13  54489\n",
       "2019-10-14  49870\n",
       "2019-10-15  53288\n",
       "2019-10-16  52893\n",
       "2019-10-17  48579\n",
       "2019-10-18  51751\n",
       "2019-10-19  50057\n",
       "2019-10-20  52282\n",
       "2019-10-21  49549\n",
       "2019-10-22  49417\n",
       "2019-10-23  48197\n",
       "2019-10-24  46279\n",
       "2019-10-25  49713\n",
       "2019-10-26  46194\n",
       "2019-10-27  47323\n",
       "2019-10-28  43893\n",
       "2019-10-29  42812\n",
       "2019-10-30  42679\n",
       "2019-10-31  44031"
      ]
     },
     "execution_count": 83,
     "metadata": {},
     "output_type": "execute_result"
    }
   ],
   "source": [
    "# 날짜별 방문하는 숫자.\n",
    "visitor_by_date = d.drop_duplicates().groupby(['event_time'])['user_id'].agg(['count']).sort_values(by=['event_time'], ascending=True)\n",
    "visitor_by_date"
   ]
  },
  {
   "cell_type": "code",
   "execution_count": null,
   "metadata": {},
   "outputs": [
    {
     "data": {
      "image/png": "[encoded data removed]",
      "text/plain": [
       "<Figure size 1440x576 with 1 Axes>"
      ]
     },
     "metadata": {
      "needs_background": "light"
     },
     "output_type": "display_data"
    }
   ],
   "source": [
    "x = pd.Series(visitor_by_date.index.values).apply(lambda s: datetime.strptime(s, '%Y-%m-%d').date())\n",
    "y = visitor_by_date['count']\n",
    "plt.rcParams['figure.figsize'] = (20,8)\n",
    "\n",
    "plt.plot(x,y)\n",
    "plt.show()"
   ]
  },
  {
   "cell_type": "code",
   "execution_count": null,
   "metadata": {},
   "outputs": [
    {
     "data": {
      "image/png": "[encoded data removed]",
      "text/plain": [
       "<Figure size 1440x576 with 1 Axes>"
      ]
     },
     "metadata": {
      "needs_background": "light"
     },
     "output_type": "display_data"
    }
   ],
   "source": [
    "top_category_n = 30\n",
    "top_category = df.loc[:,'category_code'].value_counts()[:top_category_n].sort_values(ascending=False)\n",
    "squarify.plot(sizes=top_category, label=top_category.index.array, color=[\"red\",\"cyan\",\"green\",\"orange\",\"blue\",\"grey\"], alpha=.7  )\n",
    "plt.axis('off')\n",
    "plt.show()"
   ]
  },
  {
   "cell_type": "code",
   "execution_count": null,
   "metadata": {},
   "outputs": [
    {
     "data": {
      "image/png": "[encoded data removed]",
      "text/plain": [
       "<Figure size 576x576 with 1 Axes>"
      ]
     },
     "metadata": {},
     "output_type": "display_data"
    }
   ],
   "source": [
    "labels = ['view', 'cart','purchase']\n",
    "size = df['event_type'].value_counts()\n",
    "colors = ['yellowgreen', 'lightskyblue','lightcoral']\n",
    "explode = [0, 0.1,0.1]\n",
    "\n",
    "plt.rcParams['figure.figsize'] = (8, 8)\n",
    "plt.pie(size, colors = colors, explode = explode, labels = labels, shadow = True, autopct = '%.2f%%')\n",
    "plt.title('Event_Type', fontsize = 20)\n",
    "plt.axis('off')\n",
    "plt.legend()\n",
    "plt.show()"
   ]
  },
  {
   "cell_type": "code",
   "execution_count": 94,
   "metadata": {},
   "outputs": [
    {
     "data": {
      "text/plain": [
       "(    event_time event_type  size\n",
       " 0            1       cart   291\n",
       " 1            1   purchase   211\n",
       " 2            1       view  6652\n",
       " 3            2       cart   313\n",
       " 4            2   purchase   206\n",
       " ..         ...        ...   ...\n",
       " 88          30   purchase   205\n",
       " 89          30       view  6530\n",
       " 90          31       cart   320\n",
       " 91          31   purchase   260\n",
       " 92          31       view  6652\n",
       " \n",
       " [93 rows x 3 columns],\n",
       "     event_time event_type  size\n",
       " 0            1       cart   215\n",
       " 1            1   purchase   216\n",
       " 2            1       view  5952\n",
       " 3            2       cart   215\n",
       " 4            2   purchase   189\n",
       " ..         ...        ...   ...\n",
       " 88          30   purchase   219\n",
       " 89          30       view  5168\n",
       " 90          31       cart   260\n",
       " 91          31   purchase   196\n",
       " 92          31       view  5329\n",
       " \n",
       " [93 rows x 3 columns])"
      ]
     },
     "execution_count": 94,
     "metadata": {},
     "output_type": "execute_result"
    }
   ],
   "source": [
    "#삼성 제품의 view cart purchase 현황을 확인해보자.\n",
    "\n",
    "samsung=data[data['brand']=='samsung']\n",
    "apple=data[data['brand']=='apple']\n",
    "apple_df=apple.groupby(['event_time','event_type'],as_index=False).size()\n",
    "samsung_df=samsung.groupby(['event_time','event_type'],as_index=False).size()\n",
    "\n",
    "samsung_df,apple_df\n"
   ]
  },
  {
   "cell_type": "code",
   "execution_count": 95,
   "metadata": {},
   "outputs": [],
   "source": [
    "samsung_cart=samsung_df[samsung_df['event_type']=='cart']['size'].tolist()\n",
    "samsung_view=samsung_df[samsung_df['event_type']=='view']['size'].tolist()\n",
    "samsung_purchase=samsung_df[samsung_df['event_type']=='purchase']['size'].tolist()\n",
    "\n",
    "apple_cart=apple_df[apple_df['event_type']=='cart']['size'].tolist()\n",
    "apple_view=apple_df[apple_df['event_type']=='view']['size'].tolist()\n",
    "apple_purchase=apple_df[apple_df['event_type']=='purchase']['size'].tolist()\n",
    "\n"
   ]
  },
  {
   "cell_type": "code",
   "execution_count": 98,
   "metadata": {},
   "outputs": [],
   "source": [
    "samsung_chart=pd.DataFrame({'samsung_cart':samsung_cart,'samsung_view':samsung_view,'samsung_purchase':samsung_purchase})\n",
    "apple_chart=pd.DataFrame({'apple_cart':apple_cart,'apple_view':apple_view,'apple_purchase':apple_purchase})\n",
    "samsung_chart.index=samsung_chart.index+1\n"
   ]
  },
  {
   "cell_type": "code",
   "execution_count": null,
   "metadata": {},
   "outputs": [
    {
     "data": {
      "text/plain": [
       "<matplotlib.legend.Legend at 0x7f8d20645640>"
      ]
     },
     "execution_count": 113,
     "metadata": {},
     "output_type": "execute_result"
    },
    {
     "data": {
      "image/png": "[encoded data removed]",
      "text/plain": [
       "<Figure size 720x360 with 1 Axes>"
      ]
     },
     "metadata": {
      "needs_background": "light"
     },
     "output_type": "display_data"
    }
   ],
   "source": [
    "fig=plt.figure(figsize=(10,5))\n",
    "ax=fig.add_subplot()\n",
    "\n",
    "ax.plot(samsung_chart.index,samsung_chart['samsung_view'],label='view')\n",
    "ax.plot(samsung_chart.index,samsung_chart['samsung_purchase'],label='purchase')\n",
    "ax.plot(samsung_chart.index,samsung_chart['samsung_cart'],label='cart')\n",
    "\n",
    "plt.title('Each day of Samsung View,Purchase,Cart')\n",
    "plt.xlabel('Day')\n",
    "plt.legend(loc='best', ncol=1) "
   ]
  },
  {
   "cell_type": "code",
   "execution_count": 112,
   "metadata": {},
   "outputs": [
    {
     "data": {
      "image/png": "[encoded data removed]",
      "text/plain": [
       "<Figure size 1000x400 with 1 Axes>"
      ]
     },
     "metadata": {},
     "output_type": "display_data"
    }
   ],
   "source": [
    "fig, ax = plt.subplots(figsize=(10,4))\n",
    "b1 = plt.bar(samsung_chart.index, samsung_chart['samsung_view'], alpha=0.4, color='red', label='View')\n",
    "b2 = plt.bar(samsung_chart.index, samsung_chart['samsung_cart'], alpha=0.4, color='blue', label='Cart')\n",
    "b3 = plt.bar(samsung_chart.index, samsung_chart['samsung_purchase'], alpha=0.4, color='green', label='purchase')\n",
    "\n",
    "\n",
    "# x축, y축 이름 및 범례 설정\n",
    "plt.xlabel('month', size = 13)\n",
    "plt.ylabel('Result', size = 13)\n",
    "plt.title('Samsung_Data')\n",
    "plt.legend()\n",
    "plt.show()"
   ]
  },
  {
   "cell_type": "code",
   "execution_count": 110,
   "metadata": {},
   "outputs": [
    {
     "data": {
      "image/png": "[encoded data removed]",
      "text/plain": [
       "<Figure size 1000x400 with 1 Axes>"
      ]
     },
     "metadata": {},
     "output_type": "display_data"
    }
   ],
   "source": [
    "fig, ax = plt.subplots(figsize=(10,4))\n",
    "b1 = plt.bar(apple_chart.index+1, apple_chart['apple_view'], alpha=0.4, color='red', label='View')\n",
    "b2 = plt.bar(apple_chart.index+1, apple_chart['apple_cart'], alpha=0.4, color='blue', label='Cart')\n",
    "b3 = plt.bar(apple_chart.index+1, apple_chart['apple_purchase'], alpha=0.4, color='green', label='purchase')\n",
    "\n",
    "# x축, y축 이름 및 범례 설정\n",
    "plt.xlabel('month', size = 13)\n",
    "plt.ylabel('Result', size = 13)\n",
    "plt.title('Apple_Data')\n",
    "plt.legend()\n",
    "plt.show()"
   ]
  },
  {
   "cell_type": "code",
   "execution_count": null,
   "metadata": {},
   "outputs": [
    {
     "data": {
      "text/html": [
       "<div>\n",
       "<style scoped>\n",
       "    .dataframe tbody tr th:only-of-type {\n",
       "        vertical-align: middle;\n",
       "    }\n",
       "\n",
       "    .dataframe tbody tr th {\n",
       "        vertical-align: top;\n",
       "    }\n",
       "\n",
       "    .dataframe thead th {\n",
       "        text-align: right;\n",
       "    }\n",
       "</style>\n",
       "<table border=\"1\" class=\"dataframe\">\n",
       "  <thead>\n",
       "    <tr style=\"text-align: right;\">\n",
       "      <th></th>\n",
       "      <th>cart</th>\n",
       "      <th>purchase</th>\n",
       "      <th>view</th>\n",
       "      <th>visitor_count</th>\n",
       "    </tr>\n",
       "  </thead>\n",
       "  <tbody>\n",
       "    <tr>\n",
       "      <th>1</th>\n",
       "      <td>719</td>\n",
       "      <td>775</td>\n",
       "      <td>37364</td>\n",
       "      <td>43370</td>\n",
       "    </tr>\n",
       "    <tr>\n",
       "      <th>2</th>\n",
       "      <td>740</td>\n",
       "      <td>707</td>\n",
       "      <td>35968</td>\n",
       "      <td>41529</td>\n",
       "    </tr>\n",
       "    <tr>\n",
       "      <th>3</th>\n",
       "      <td>867</td>\n",
       "      <td>706</td>\n",
       "      <td>34477</td>\n",
       "      <td>38891</td>\n",
       "    </tr>\n",
       "    <tr>\n",
       "      <th>4</th>\n",
       "      <td>1976</td>\n",
       "      <td>1010</td>\n",
       "      <td>43080</td>\n",
       "      <td>48939</td>\n",
       "    </tr>\n",
       "    <tr>\n",
       "      <th>5</th>\n",
       "      <td>1505</td>\n",
       "      <td>918</td>\n",
       "      <td>39400</td>\n",
       "      <td>45597</td>\n",
       "    </tr>\n",
       "    <tr>\n",
       "      <th>6</th>\n",
       "      <td>1429</td>\n",
       "      <td>815</td>\n",
       "      <td>39717</td>\n",
       "      <td>45323</td>\n",
       "    </tr>\n",
       "    <tr>\n",
       "      <th>7</th>\n",
       "      <td>771</td>\n",
       "      <td>819</td>\n",
       "      <td>35533</td>\n",
       "      <td>42177</td>\n",
       "    </tr>\n",
       "    <tr>\n",
       "      <th>8</th>\n",
       "      <td>858</td>\n",
       "      <td>826</td>\n",
       "      <td>37356</td>\n",
       "      <td>48896</td>\n",
       "    </tr>\n",
       "    <tr>\n",
       "      <th>9</th>\n",
       "      <td>785</td>\n",
       "      <td>795</td>\n",
       "      <td>37655</td>\n",
       "      <td>47446</td>\n",
       "    </tr>\n",
       "    <tr>\n",
       "      <th>10</th>\n",
       "      <td>791</td>\n",
       "      <td>786</td>\n",
       "      <td>37168</td>\n",
       "      <td>45196</td>\n",
       "    </tr>\n",
       "    <tr>\n",
       "      <th>11</th>\n",
       "      <td>990</td>\n",
       "      <td>1016</td>\n",
       "      <td>42344</td>\n",
       "      <td>51865</td>\n",
       "    </tr>\n",
       "    <tr>\n",
       "      <th>12</th>\n",
       "      <td>874</td>\n",
       "      <td>870</td>\n",
       "      <td>42220</td>\n",
       "      <td>50197</td>\n",
       "    </tr>\n",
       "    <tr>\n",
       "      <th>13</th>\n",
       "      <td>1023</td>\n",
       "      <td>1009</td>\n",
       "      <td>46874</td>\n",
       "      <td>54489</td>\n",
       "    </tr>\n",
       "    <tr>\n",
       "      <th>14</th>\n",
       "      <td>1855</td>\n",
       "      <td>1104</td>\n",
       "      <td>44464</td>\n",
       "      <td>49870</td>\n",
       "    </tr>\n",
       "    <tr>\n",
       "      <th>15</th>\n",
       "      <td>2035</td>\n",
       "      <td>1002</td>\n",
       "      <td>47227</td>\n",
       "      <td>53288</td>\n",
       "    </tr>\n",
       "    <tr>\n",
       "      <th>16</th>\n",
       "      <td>1928</td>\n",
       "      <td>1177</td>\n",
       "      <td>45730</td>\n",
       "      <td>52893</td>\n",
       "    </tr>\n",
       "    <tr>\n",
       "      <th>17</th>\n",
       "      <td>1733</td>\n",
       "      <td>1126</td>\n",
       "      <td>42266</td>\n",
       "      <td>48579</td>\n",
       "    </tr>\n",
       "    <tr>\n",
       "      <th>18</th>\n",
       "      <td>1661</td>\n",
       "      <td>1012</td>\n",
       "      <td>44179</td>\n",
       "      <td>51751</td>\n",
       "    </tr>\n",
       "    <tr>\n",
       "      <th>19</th>\n",
       "      <td>1700</td>\n",
       "      <td>962</td>\n",
       "      <td>44245</td>\n",
       "      <td>50057</td>\n",
       "    </tr>\n",
       "    <tr>\n",
       "      <th>20</th>\n",
       "      <td>1703</td>\n",
       "      <td>994</td>\n",
       "      <td>46242</td>\n",
       "      <td>52282</td>\n",
       "    </tr>\n",
       "    <tr>\n",
       "      <th>21</th>\n",
       "      <td>1592</td>\n",
       "      <td>888</td>\n",
       "      <td>42562</td>\n",
       "      <td>49549</td>\n",
       "    </tr>\n",
       "    <tr>\n",
       "      <th>22</th>\n",
       "      <td>1593</td>\n",
       "      <td>933</td>\n",
       "      <td>42562</td>\n",
       "      <td>49417</td>\n",
       "    </tr>\n",
       "    <tr>\n",
       "      <th>23</th>\n",
       "      <td>1624</td>\n",
       "      <td>949</td>\n",
       "      <td>41348</td>\n",
       "      <td>48197</td>\n",
       "    </tr>\n",
       "    <tr>\n",
       "      <th>24</th>\n",
       "      <td>1585</td>\n",
       "      <td>918</td>\n",
       "      <td>39839</td>\n",
       "      <td>46279</td>\n",
       "    </tr>\n",
       "    <tr>\n",
       "      <th>25</th>\n",
       "      <td>1545</td>\n",
       "      <td>915</td>\n",
       "      <td>41969</td>\n",
       "      <td>49713</td>\n",
       "    </tr>\n",
       "    <tr>\n",
       "      <th>26</th>\n",
       "      <td>1511</td>\n",
       "      <td>853</td>\n",
       "      <td>40362</td>\n",
       "      <td>46194</td>\n",
       "    </tr>\n",
       "    <tr>\n",
       "      <th>27</th>\n",
       "      <td>1461</td>\n",
       "      <td>907</td>\n",
       "      <td>42572</td>\n",
       "      <td>47323</td>\n",
       "    </tr>\n",
       "    <tr>\n",
       "      <th>28</th>\n",
       "      <td>802</td>\n",
       "      <td>786</td>\n",
       "      <td>36799</td>\n",
       "      <td>43893</td>\n",
       "    </tr>\n",
       "    <tr>\n",
       "      <th>29</th>\n",
       "      <td>772</td>\n",
       "      <td>791</td>\n",
       "      <td>36221</td>\n",
       "      <td>42812</td>\n",
       "    </tr>\n",
       "    <tr>\n",
       "      <th>30</th>\n",
       "      <td>728</td>\n",
       "      <td>724</td>\n",
       "      <td>35678</td>\n",
       "      <td>42679</td>\n",
       "    </tr>\n",
       "    <tr>\n",
       "      <th>31</th>\n",
       "      <td>824</td>\n",
       "      <td>766</td>\n",
       "      <td>36923</td>\n",
       "      <td>44031</td>\n",
       "    </tr>\n",
       "  </tbody>\n",
       "</table>\n",
       "</div>"
      ],
      "text/plain": [
       "    cart  purchase   view  visitor_count\n",
       "1    719       775  37364          43370\n",
       "2    740       707  35968          41529\n",
       "3    867       706  34477          38891\n",
       "4   1976      1010  43080          48939\n",
       "5   1505       918  39400          45597\n",
       "6   1429       815  39717          45323\n",
       "7    771       819  35533          42177\n",
       "8    858       826  37356          48896\n",
       "9    785       795  37655          47446\n",
       "10   791       786  37168          45196\n",
       "11   990      1016  42344          51865\n",
       "12   874       870  42220          50197\n",
       "13  1023      1009  46874          54489\n",
       "14  1855      1104  44464          49870\n",
       "15  2035      1002  47227          53288\n",
       "16  1928      1177  45730          52893\n",
       "17  1733      1126  42266          48579\n",
       "18  1661      1012  44179          51751\n",
       "19  1700       962  44245          50057\n",
       "20  1703       994  46242          52282\n",
       "21  1592       888  42562          49549\n",
       "22  1593       933  42562          49417\n",
       "23  1624       949  41348          48197\n",
       "24  1585       918  39839          46279\n",
       "25  1545       915  41969          49713\n",
       "26  1511       853  40362          46194\n",
       "27  1461       907  42572          47323\n",
       "28   802       786  36799          43893\n",
       "29   772       791  36221          42812\n",
       "30   728       724  35678          42679\n",
       "31   824       766  36923          44031"
      ]
     },
     "execution_count": 184,
     "metadata": {},
     "output_type": "execute_result"
    }
   ],
   "source": [
    "#일별 구매율 구하기 df_chart를 이용하자 일별방문자수는 위에서한듯\n",
    "#방문자수 대비 구매율과, view 수 대비 구매율을 보여주자,\n",
    "visitor_count=visitor_by_date['count'].tolist()\n",
    "\n",
    "'''\n",
    "df_chart=pd.DataFrame({'cart':cart,'purchase':purchase,'view':view})\n",
    "df_chart.index=df_chart.index+1\n",
    "df_chart\n",
    "'''\n",
    "df_chart['visitor_count']=(visitor_count)\n",
    "df_chart"
   ]
  },
  {
   "cell_type": "code",
   "execution_count": null,
   "metadata": {},
   "outputs": [
    {
     "data": {
      "image/png": "[encoded data removed]",
      "text/plain": [
       "<Figure size 1440x360 with 1 Axes>"
      ]
     },
     "metadata": {
      "needs_background": "light"
     },
     "output_type": "display_data"
    }
   ],
   "source": [
    "#방문자수 대비 구매율\n",
    "plt.subplots(figsize=(20,5))\n",
    "x=df_chart.index\n",
    "y=round((df_chart['purchase']/df_chart['visitor_count'])*100,1)\n",
    "bar = plt.bar(x, y, color = 'pink')\n",
    "plt.title('Purchase rate Number of Visitors ')\n",
    "\n",
    "for rect in bar:\n",
    "    height = rect.get_height()\n",
    "    plt.text(rect.get_x() + rect.get_width()/2.0 , height, '%.1f' % height+'%', ha='center', va='bottom', size = 10)\n",
    "\n",
    "\n",
    "\n",
    "plt.show()"
   ]
  },
  {
   "cell_type": "code",
   "execution_count": null,
   "metadata": {},
   "outputs": [
    {
     "data": {
      "image/png": "[encoded data removed]",
      "text/plain": [
       "<Figure size 1440x360 with 1 Axes>"
      ]
     },
     "metadata": {
      "needs_background": "light"
     },
     "output_type": "display_data"
    }
   ],
   "source": [
    "x = pd.Series(visitor_by_date.index.values).apply(lambda s: datetime.strptime(s, '%Y-%m-%d').date())\n",
    "y = visitor_by_date['count']\n",
    "plt.rcParams['figure.figsize'] = (20,5)\n",
    "\n",
    "\n",
    "\n",
    "plt.bar(x,y ,color='dodgerblue')\n",
    "plt.title('Day Count')\n",
    "for i, v in enumerate(x):\n",
    "    plt.text(v, y[i], y[i],                 # 좌표 (x축 = v, y축 = y[0]..y[1], 표시 = y[0]..y[1])\n",
    "             fontsize = 9, \n",
    "             color='blue',\n",
    "             horizontalalignment='center',  # horizontalalignment (left, center, right)\n",
    "             verticalalignment='bottom') \n",
    "\n",
    "plt.show()"
   ]
  },
  {
   "cell_type": "code",
   "execution_count": null,
   "metadata": {},
   "outputs": [
    {
     "data": {
      "text/plain": [
       "''"
      ]
     },
     "execution_count": 234,
     "metadata": {},
     "output_type": "execute_result"
    }
   ],
   "source": [
    "'''\n",
    "Action plan 1. 경하님께서 언급하신 컴퓨터 교체를 5년 주기로 가정한다면 이번달에 컴퓨터를 구매한 사람에게는 컴퓨터 관련 제품들은 보여주지 않는 방향으로  \n",
    "→ 하지만 혹시 컴퓨터를 구매한 사람이 또 컴퓨터를 보거나 관심이 있는지는 파악해보자.\n",
    "혹시 컴퓨터를 또 사는 사람이 있다면 \n",
    "\n",
    "카테고리를 나누고 소분류로 컴퓨터라는 항목까지 찾은 후 \n",
    "컴퓨터를 구매한 손님이 또 컴퓨터를 보거나 구매하는지 파악해보자. \n",
    "\n",
    "'''"
   ]
  },
  {
   "cell_type": "code",
   "execution_count": null,
   "metadata": {},
   "outputs": [],
   "source": [
    "data=data.dropna()"
   ]
  },
  {
   "cell_type": "code",
   "execution_count": null,
   "metadata": {},
   "outputs": [
    {
     "name": "stderr",
     "output_type": "stream",
     "text": [
      "/var/folders/z3/56kysp1d32z1yg2cpszy0h1h0000gn/T/ipykernel_1319/3340773869.py:2: SettingWithCopyWarning:\n",
      "\n",
      "\n",
      "A value is trying to be set on a copy of a slice from a DataFrame.\n",
      "Try using .loc[row_indexer,col_indexer] = value instead\n",
      "\n",
      "See the caveats in the documentation: https://pandas.pydata.org/pandas-docs/stable/user_guide/indexing.html#returning-a-view-versus-a-copy\n",
      "\n"
     ]
    },
    {
     "data": {
      "text/html": [
       "<div>\n",
       "<style scoped>\n",
       "    .dataframe tbody tr th:only-of-type {\n",
       "        vertical-align: middle;\n",
       "    }\n",
       "\n",
       "    .dataframe tbody tr th {\n",
       "        vertical-align: top;\n",
       "    }\n",
       "\n",
       "    .dataframe thead th {\n",
       "        text-align: right;\n",
       "    }\n",
       "</style>\n",
       "<table border=\"1\" class=\"dataframe\">\n",
       "  <thead>\n",
       "    <tr style=\"text-align: right;\">\n",
       "      <th></th>\n",
       "      <th>Unnamed: 0</th>\n",
       "      <th>event_time</th>\n",
       "      <th>event_type</th>\n",
       "      <th>product_id</th>\n",
       "      <th>category_id</th>\n",
       "      <th>category_code</th>\n",
       "      <th>brand</th>\n",
       "      <th>price</th>\n",
       "      <th>user_id</th>\n",
       "      <th>user_session</th>\n",
       "      <th>category_code_split</th>\n",
       "    </tr>\n",
       "  </thead>\n",
       "  <tbody>\n",
       "    <tr>\n",
       "      <th>0</th>\n",
       "      <td>14726418</td>\n",
       "      <td>12</td>\n",
       "      <td>view</td>\n",
       "      <td>21407109</td>\n",
       "      <td>2053013561579406073</td>\n",
       "      <td>electronics.clocks</td>\n",
       "      <td>tissot</td>\n",
       "      <td>226.52</td>\n",
       "      <td>512636824</td>\n",
       "      <td>f45930d0-1807-40a9-815b-e2901d88e87e</td>\n",
       "      <td>[electronics, clocks]</td>\n",
       "    </tr>\n",
       "    <tr>\n",
       "      <th>1</th>\n",
       "      <td>13097134</td>\n",
       "      <td>11</td>\n",
       "      <td>view</td>\n",
       "      <td>1005169</td>\n",
       "      <td>2053013555631882655</td>\n",
       "      <td>electronics.smartphone</td>\n",
       "      <td>samsung</td>\n",
       "      <td>228.71</td>\n",
       "      <td>554770926</td>\n",
       "      <td>baa8b4b4-74f9-4ed8-a1a4-f9e9ff322a3a</td>\n",
       "      <td>[electronics, smartphone]</td>\n",
       "    </tr>\n",
       "    <tr>\n",
       "      <th>2</th>\n",
       "      <td>21014814</td>\n",
       "      <td>16</td>\n",
       "      <td>view</td>\n",
       "      <td>8800048</td>\n",
       "      <td>2053013555573162395</td>\n",
       "      <td>electronics.telephone</td>\n",
       "      <td>nokia</td>\n",
       "      <td>22.19</td>\n",
       "      <td>517857376</td>\n",
       "      <td>84cce548-1021-4286-9a8d-86638d664199</td>\n",
       "      <td>[electronics, telephone]</td>\n",
       "    </tr>\n",
       "    <tr>\n",
       "      <th>5</th>\n",
       "      <td>22447288</td>\n",
       "      <td>17</td>\n",
       "      <td>view</td>\n",
       "      <td>1004227</td>\n",
       "      <td>2053013555631882655</td>\n",
       "      <td>electronics.smartphone</td>\n",
       "      <td>apple</td>\n",
       "      <td>1003.84</td>\n",
       "      <td>513862246</td>\n",
       "      <td>2cf79802-71df-483b-9d9c-96dd8939957c</td>\n",
       "      <td>[electronics, smartphone]</td>\n",
       "    </tr>\n",
       "    <tr>\n",
       "      <th>6</th>\n",
       "      <td>9979914</td>\n",
       "      <td>8</td>\n",
       "      <td>view</td>\n",
       "      <td>4700671</td>\n",
       "      <td>2053013560899928785</td>\n",
       "      <td>auto.accessories.videoregister</td>\n",
       "      <td>xiaomi</td>\n",
       "      <td>48.39</td>\n",
       "      <td>514762265</td>\n",
       "      <td>984d40e4-578e-4459-9f6b-949103f6c628</td>\n",
       "      <td>[auto, accessories, videoregister]</td>\n",
       "    </tr>\n",
       "    <tr>\n",
       "      <th>...</th>\n",
       "      <td>...</td>\n",
       "      <td>...</td>\n",
       "      <td>...</td>\n",
       "      <td>...</td>\n",
       "      <td>...</td>\n",
       "      <td>...</td>\n",
       "      <td>...</td>\n",
       "      <td>...</td>\n",
       "      <td>...</td>\n",
       "      <td>...</td>\n",
       "      <td>...</td>\n",
       "    </tr>\n",
       "    <tr>\n",
       "      <th>2122428</th>\n",
       "      <td>7635659</td>\n",
       "      <td>7</td>\n",
       "      <td>view</td>\n",
       "      <td>17800028</td>\n",
       "      <td>2053013559868129947</td>\n",
       "      <td>computers.desktop</td>\n",
       "      <td>dxracer</td>\n",
       "      <td>282.09</td>\n",
       "      <td>543808582</td>\n",
       "      <td>296afd2b-40c0-445c-b478-8d640faf629b</td>\n",
       "      <td>[computers, desktop]</td>\n",
       "    </tr>\n",
       "    <tr>\n",
       "      <th>2122430</th>\n",
       "      <td>35668184</td>\n",
       "      <td>26</td>\n",
       "      <td>view</td>\n",
       "      <td>21407594</td>\n",
       "      <td>2053013561579406073</td>\n",
       "      <td>electronics.clocks</td>\n",
       "      <td>certina</td>\n",
       "      <td>278.00</td>\n",
       "      <td>517470882</td>\n",
       "      <td>b2957414-de14-44fb-b5c0-c3609b0e7ede</td>\n",
       "      <td>[electronics, clocks]</td>\n",
       "    </tr>\n",
       "    <tr>\n",
       "      <th>2122431</th>\n",
       "      <td>667814</td>\n",
       "      <td>1</td>\n",
       "      <td>view</td>\n",
       "      <td>1005104</td>\n",
       "      <td>2053013555631882655</td>\n",
       "      <td>electronics.smartphone</td>\n",
       "      <td>apple</td>\n",
       "      <td>975.57</td>\n",
       "      <td>555634406</td>\n",
       "      <td>41d6bf67-a286-4fc5-a2f0-cb682f2d5427</td>\n",
       "      <td>[electronics, smartphone]</td>\n",
       "    </tr>\n",
       "    <tr>\n",
       "      <th>2122432</th>\n",
       "      <td>14546305</td>\n",
       "      <td>12</td>\n",
       "      <td>view</td>\n",
       "      <td>1005105</td>\n",
       "      <td>2053013555631882655</td>\n",
       "      <td>electronics.smartphone</td>\n",
       "      <td>apple</td>\n",
       "      <td>1428.31</td>\n",
       "      <td>559365096</td>\n",
       "      <td>f08ae716-1262-409d-9c9f-31ce0ad1821c</td>\n",
       "      <td>[electronics, smartphone]</td>\n",
       "    </tr>\n",
       "    <tr>\n",
       "      <th>2122433</th>\n",
       "      <td>38242774</td>\n",
       "      <td>28</td>\n",
       "      <td>view</td>\n",
       "      <td>11200239</td>\n",
       "      <td>2053013562946749253</td>\n",
       "      <td>appliances.personal.scales</td>\n",
       "      <td>elenberg</td>\n",
       "      <td>7.70</td>\n",
       "      <td>551613417</td>\n",
       "      <td>88172c08-7929-4886-a16d-2c6b8f9440dd</td>\n",
       "      <td>[appliances, personal, scales]</td>\n",
       "    </tr>\n",
       "  </tbody>\n",
       "</table>\n",
       "<p>1328183 rows × 11 columns</p>\n",
       "</div>"
      ],
      "text/plain": [
       "         Unnamed: 0  event_time event_type  product_id          category_id  \\\n",
       "0          14726418          12       view    21407109  2053013561579406073   \n",
       "1          13097134          11       view     1005169  2053013555631882655   \n",
       "2          21014814          16       view     8800048  2053013555573162395   \n",
       "5          22447288          17       view     1004227  2053013555631882655   \n",
       "6           9979914           8       view     4700671  2053013560899928785   \n",
       "...             ...         ...        ...         ...                  ...   \n",
       "2122428     7635659           7       view    17800028  2053013559868129947   \n",
       "2122430    35668184          26       view    21407594  2053013561579406073   \n",
       "2122431      667814           1       view     1005104  2053013555631882655   \n",
       "2122432    14546305          12       view     1005105  2053013555631882655   \n",
       "2122433    38242774          28       view    11200239  2053013562946749253   \n",
       "\n",
       "                          category_code     brand    price    user_id  \\\n",
       "0                    electronics.clocks    tissot   226.52  512636824   \n",
       "1                electronics.smartphone   samsung   228.71  554770926   \n",
       "2                 electronics.telephone     nokia    22.19  517857376   \n",
       "5                electronics.smartphone     apple  1003.84  513862246   \n",
       "6        auto.accessories.videoregister    xiaomi    48.39  514762265   \n",
       "...                                 ...       ...      ...        ...   \n",
       "2122428               computers.desktop   dxracer   282.09  543808582   \n",
       "2122430              electronics.clocks   certina   278.00  517470882   \n",
       "2122431          electronics.smartphone     apple   975.57  555634406   \n",
       "2122432          electronics.smartphone     apple  1428.31  559365096   \n",
       "2122433      appliances.personal.scales  elenberg     7.70  551613417   \n",
       "\n",
       "                                 user_session  \\\n",
       "0        f45930d0-1807-40a9-815b-e2901d88e87e   \n",
       "1        baa8b4b4-74f9-4ed8-a1a4-f9e9ff322a3a   \n",
       "2        84cce548-1021-4286-9a8d-86638d664199   \n",
       "5        2cf79802-71df-483b-9d9c-96dd8939957c   \n",
       "6        984d40e4-578e-4459-9f6b-949103f6c628   \n",
       "...                                       ...   \n",
       "2122428  296afd2b-40c0-445c-b478-8d640faf629b   \n",
       "2122430  b2957414-de14-44fb-b5c0-c3609b0e7ede   \n",
       "2122431  41d6bf67-a286-4fc5-a2f0-cb682f2d5427   \n",
       "2122432  f08ae716-1262-409d-9c9f-31ce0ad1821c   \n",
       "2122433  88172c08-7929-4886-a16d-2c6b8f9440dd   \n",
       "\n",
       "                        category_code_split  \n",
       "0                     [electronics, clocks]  \n",
       "1                 [electronics, smartphone]  \n",
       "2                  [electronics, telephone]  \n",
       "5                 [electronics, smartphone]  \n",
       "6        [auto, accessories, videoregister]  \n",
       "...                                     ...  \n",
       "2122428                [computers, desktop]  \n",
       "2122430               [electronics, clocks]  \n",
       "2122431           [electronics, smartphone]  \n",
       "2122432           [electronics, smartphone]  \n",
       "2122433      [appliances, personal, scales]  \n",
       "\n",
       "[1328183 rows x 11 columns]"
      ]
     },
     "execution_count": 248,
     "metadata": {},
     "output_type": "execute_result"
    }
   ],
   "source": [
    "#카테고리 나누기 널값 제거해야함 \n",
    "data['category_code_split']=data['category_code'].apply(lambda x : x.split('.'))\n",
    "data"
   ]
  },
  {
   "cell_type": "code",
   "execution_count": 38,
   "metadata": {},
   "outputs": [
    {
     "data": {
      "text/html": [
       "<div>\n",
       "<style scoped>\n",
       "    .dataframe tbody tr th:only-of-type {\n",
       "        vertical-align: middle;\n",
       "    }\n",
       "\n",
       "    .dataframe tbody tr th {\n",
       "        vertical-align: top;\n",
       "    }\n",
       "\n",
       "    .dataframe thead th {\n",
       "        text-align: right;\n",
       "    }\n",
       "</style>\n",
       "<table border=\"1\" class=\"dataframe\">\n",
       "  <thead>\n",
       "    <tr style=\"text-align: right;\">\n",
       "      <th></th>\n",
       "      <th>event_time</th>\n",
       "      <th>event_type</th>\n",
       "      <th>product_id</th>\n",
       "      <th>category_id</th>\n",
       "      <th>category_code</th>\n",
       "      <th>brand</th>\n",
       "      <th>price</th>\n",
       "      <th>user_id</th>\n",
       "      <th>user_session</th>\n",
       "      <th>category_code_split</th>\n",
       "      <th>main_category</th>\n",
       "      <th>middle_category</th>\n",
       "    </tr>\n",
       "  </thead>\n",
       "  <tbody>\n",
       "    <tr>\n",
       "      <th>0</th>\n",
       "      <td>12</td>\n",
       "      <td>view</td>\n",
       "      <td>21407109</td>\n",
       "      <td>2053013561579406073</td>\n",
       "      <td>electronics.clocks</td>\n",
       "      <td>tissot</td>\n",
       "      <td>226.52</td>\n",
       "      <td>512636824</td>\n",
       "      <td>f45930d0-1807-40a9-815b-e2901d88e87e</td>\n",
       "      <td>[electronics, clocks]</td>\n",
       "      <td>electronics</td>\n",
       "      <td>clocks</td>\n",
       "    </tr>\n",
       "    <tr>\n",
       "      <th>1</th>\n",
       "      <td>11</td>\n",
       "      <td>view</td>\n",
       "      <td>1005169</td>\n",
       "      <td>2053013555631882655</td>\n",
       "      <td>electronics.smartphone</td>\n",
       "      <td>samsung</td>\n",
       "      <td>228.71</td>\n",
       "      <td>554770926</td>\n",
       "      <td>baa8b4b4-74f9-4ed8-a1a4-f9e9ff322a3a</td>\n",
       "      <td>[electronics, smartphone]</td>\n",
       "      <td>electronics</td>\n",
       "      <td>smartphone</td>\n",
       "    </tr>\n",
       "    <tr>\n",
       "      <th>2</th>\n",
       "      <td>16</td>\n",
       "      <td>view</td>\n",
       "      <td>8800048</td>\n",
       "      <td>2053013555573162395</td>\n",
       "      <td>electronics.telephone</td>\n",
       "      <td>nokia</td>\n",
       "      <td>22.19</td>\n",
       "      <td>517857376</td>\n",
       "      <td>84cce548-1021-4286-9a8d-86638d664199</td>\n",
       "      <td>[electronics, telephone]</td>\n",
       "      <td>electronics</td>\n",
       "      <td>telephone</td>\n",
       "    </tr>\n",
       "    <tr>\n",
       "      <th>5</th>\n",
       "      <td>17</td>\n",
       "      <td>view</td>\n",
       "      <td>1004227</td>\n",
       "      <td>2053013555631882655</td>\n",
       "      <td>electronics.smartphone</td>\n",
       "      <td>apple</td>\n",
       "      <td>1003.84</td>\n",
       "      <td>513862246</td>\n",
       "      <td>2cf79802-71df-483b-9d9c-96dd8939957c</td>\n",
       "      <td>[electronics, smartphone]</td>\n",
       "      <td>electronics</td>\n",
       "      <td>smartphone</td>\n",
       "    </tr>\n",
       "    <tr>\n",
       "      <th>6</th>\n",
       "      <td>8</td>\n",
       "      <td>view</td>\n",
       "      <td>4700671</td>\n",
       "      <td>2053013560899928785</td>\n",
       "      <td>auto.accessories.videoregister</td>\n",
       "      <td>xiaomi</td>\n",
       "      <td>48.39</td>\n",
       "      <td>514762265</td>\n",
       "      <td>984d40e4-578e-4459-9f6b-949103f6c628</td>\n",
       "      <td>[auto, accessories, videoregister]</td>\n",
       "      <td>auto</td>\n",
       "      <td>accessories</td>\n",
       "    </tr>\n",
       "    <tr>\n",
       "      <th>...</th>\n",
       "      <td>...</td>\n",
       "      <td>...</td>\n",
       "      <td>...</td>\n",
       "      <td>...</td>\n",
       "      <td>...</td>\n",
       "      <td>...</td>\n",
       "      <td>...</td>\n",
       "      <td>...</td>\n",
       "      <td>...</td>\n",
       "      <td>...</td>\n",
       "      <td>...</td>\n",
       "      <td>...</td>\n",
       "    </tr>\n",
       "    <tr>\n",
       "      <th>2122428</th>\n",
       "      <td>7</td>\n",
       "      <td>view</td>\n",
       "      <td>17800028</td>\n",
       "      <td>2053013559868129947</td>\n",
       "      <td>computers.desktop</td>\n",
       "      <td>dxracer</td>\n",
       "      <td>282.09</td>\n",
       "      <td>543808582</td>\n",
       "      <td>296afd2b-40c0-445c-b478-8d640faf629b</td>\n",
       "      <td>[computers, desktop]</td>\n",
       "      <td>computers</td>\n",
       "      <td>desktop</td>\n",
       "    </tr>\n",
       "    <tr>\n",
       "      <th>2122430</th>\n",
       "      <td>26</td>\n",
       "      <td>view</td>\n",
       "      <td>21407594</td>\n",
       "      <td>2053013561579406073</td>\n",
       "      <td>electronics.clocks</td>\n",
       "      <td>certina</td>\n",
       "      <td>278.00</td>\n",
       "      <td>517470882</td>\n",
       "      <td>b2957414-de14-44fb-b5c0-c3609b0e7ede</td>\n",
       "      <td>[electronics, clocks]</td>\n",
       "      <td>electronics</td>\n",
       "      <td>clocks</td>\n",
       "    </tr>\n",
       "    <tr>\n",
       "      <th>2122431</th>\n",
       "      <td>1</td>\n",
       "      <td>view</td>\n",
       "      <td>1005104</td>\n",
       "      <td>2053013555631882655</td>\n",
       "      <td>electronics.smartphone</td>\n",
       "      <td>apple</td>\n",
       "      <td>975.57</td>\n",
       "      <td>555634406</td>\n",
       "      <td>41d6bf67-a286-4fc5-a2f0-cb682f2d5427</td>\n",
       "      <td>[electronics, smartphone]</td>\n",
       "      <td>electronics</td>\n",
       "      <td>smartphone</td>\n",
       "    </tr>\n",
       "    <tr>\n",
       "      <th>2122432</th>\n",
       "      <td>12</td>\n",
       "      <td>view</td>\n",
       "      <td>1005105</td>\n",
       "      <td>2053013555631882655</td>\n",
       "      <td>electronics.smartphone</td>\n",
       "      <td>apple</td>\n",
       "      <td>1428.31</td>\n",
       "      <td>559365096</td>\n",
       "      <td>f08ae716-1262-409d-9c9f-31ce0ad1821c</td>\n",
       "      <td>[electronics, smartphone]</td>\n",
       "      <td>electronics</td>\n",
       "      <td>smartphone</td>\n",
       "    </tr>\n",
       "    <tr>\n",
       "      <th>2122433</th>\n",
       "      <td>28</td>\n",
       "      <td>view</td>\n",
       "      <td>11200239</td>\n",
       "      <td>2053013562946749253</td>\n",
       "      <td>appliances.personal.scales</td>\n",
       "      <td>elenberg</td>\n",
       "      <td>7.70</td>\n",
       "      <td>551613417</td>\n",
       "      <td>88172c08-7929-4886-a16d-2c6b8f9440dd</td>\n",
       "      <td>[appliances, personal, scales]</td>\n",
       "      <td>appliances</td>\n",
       "      <td>personal</td>\n",
       "    </tr>\n",
       "  </tbody>\n",
       "</table>\n",
       "<p>1328183 rows × 12 columns</p>\n",
       "</div>"
      ],
      "text/plain": [
       "         event_time event_type  product_id          category_id  \\\n",
       "0                12       view    21407109  2053013561579406073   \n",
       "1                11       view     1005169  2053013555631882655   \n",
       "2                16       view     8800048  2053013555573162395   \n",
       "5                17       view     1004227  2053013555631882655   \n",
       "6                 8       view     4700671  2053013560899928785   \n",
       "...             ...        ...         ...                  ...   \n",
       "2122428           7       view    17800028  2053013559868129947   \n",
       "2122430          26       view    21407594  2053013561579406073   \n",
       "2122431           1       view     1005104  2053013555631882655   \n",
       "2122432          12       view     1005105  2053013555631882655   \n",
       "2122433          28       view    11200239  2053013562946749253   \n",
       "\n",
       "                          category_code     brand    price    user_id  \\\n",
       "0                    electronics.clocks    tissot   226.52  512636824   \n",
       "1                electronics.smartphone   samsung   228.71  554770926   \n",
       "2                 electronics.telephone     nokia    22.19  517857376   \n",
       "5                electronics.smartphone     apple  1003.84  513862246   \n",
       "6        auto.accessories.videoregister    xiaomi    48.39  514762265   \n",
       "...                                 ...       ...      ...        ...   \n",
       "2122428               computers.desktop   dxracer   282.09  543808582   \n",
       "2122430              electronics.clocks   certina   278.00  517470882   \n",
       "2122431          electronics.smartphone     apple   975.57  555634406   \n",
       "2122432          electronics.smartphone     apple  1428.31  559365096   \n",
       "2122433      appliances.personal.scales  elenberg     7.70  551613417   \n",
       "\n",
       "                                 user_session  \\\n",
       "0        f45930d0-1807-40a9-815b-e2901d88e87e   \n",
       "1        baa8b4b4-74f9-4ed8-a1a4-f9e9ff322a3a   \n",
       "2        84cce548-1021-4286-9a8d-86638d664199   \n",
       "5        2cf79802-71df-483b-9d9c-96dd8939957c   \n",
       "6        984d40e4-578e-4459-9f6b-949103f6c628   \n",
       "...                                       ...   \n",
       "2122428  296afd2b-40c0-445c-b478-8d640faf629b   \n",
       "2122430  b2957414-de14-44fb-b5c0-c3609b0e7ede   \n",
       "2122431  41d6bf67-a286-4fc5-a2f0-cb682f2d5427   \n",
       "2122432  f08ae716-1262-409d-9c9f-31ce0ad1821c   \n",
       "2122433  88172c08-7929-4886-a16d-2c6b8f9440dd   \n",
       "\n",
       "                        category_code_split main_category middle_category  \n",
       "0                     [electronics, clocks]   electronics          clocks  \n",
       "1                 [electronics, smartphone]   electronics      smartphone  \n",
       "2                  [electronics, telephone]   electronics       telephone  \n",
       "5                 [electronics, smartphone]   electronics      smartphone  \n",
       "6        [auto, accessories, videoregister]          auto     accessories  \n",
       "...                                     ...           ...             ...  \n",
       "2122428                [computers, desktop]     computers         desktop  \n",
       "2122430               [electronics, clocks]   electronics          clocks  \n",
       "2122431           [electronics, smartphone]   electronics      smartphone  \n",
       "2122432           [electronics, smartphone]   electronics      smartphone  \n",
       "2122433      [appliances, personal, scales]    appliances        personal  \n",
       "\n",
       "[1328183 rows x 12 columns]"
      ]
     },
     "execution_count": 38,
     "metadata": {},
     "output_type": "execute_result"
    }
   ],
   "source": [
    "data['main_category'] = [x[0] for x in data['category_code_split']]\n",
    "data['middle_category'] = [x[1] for x in data['category_code_split']]\n",
    "data"
   ]
  },
  {
   "cell_type": "code",
   "execution_count": 47,
   "metadata": {},
   "outputs": [
    {
     "data": {
      "text/plain": [
       "event_time             1378\n",
       "event_type             1378\n",
       "product_id             1378\n",
       "category_id            1378\n",
       "category_code          1378\n",
       "brand                  1378\n",
       "price                  1378\n",
       "user_id                1378\n",
       "user_session           1378\n",
       "category_code_split    1378\n",
       "main_category          1378\n",
       "middle_category        1378\n",
       "dtype: int64"
      ]
     },
     "execution_count": 47,
     "metadata": {},
     "output_type": "execute_result"
    }
   ],
   "source": [
    "#컴퓨터를 구매한 사람의 숫자.\n",
    "computer_purchase=data.loc[(data['main_category']=='computers') & (data['event_type']=='purchase')]\n",
    "computer_purchase.count()"
   ]
  },
  {
   "cell_type": "code",
   "execution_count": 82,
   "metadata": {},
   "outputs": [
    {
     "data": {
      "text/plain": [
       "event_time             802\n",
       "event_type             802\n",
       "product_id             802\n",
       "category_id            802\n",
       "category_code          802\n",
       "brand                  802\n",
       "price                  802\n",
       "user_id                802\n",
       "user_session           802\n",
       "category_code_split    802\n",
       "main_category          802\n",
       "middle_category        802\n",
       "dtype: int64"
      ]
     },
     "execution_count": 82,
     "metadata": {},
     "output_type": "execute_result"
    }
   ],
   "source": [
    "computer_duplicate=computer_purchase.loc[computer_purchase['product_id'].duplicated()]\n",
    "computer_duplicate.count()\n"
   ]
  },
  {
   "cell_type": "code",
   "execution_count": 90,
   "metadata": {},
   "outputs": [
    {
     "data": {
      "image/png": "[encoded data removed]",
      "text/plain": [
       "<Figure size 640x480 with 1 Axes>"
      ]
     },
     "metadata": {},
     "output_type": "display_data"
    }
   ],
   "source": [
    "# 컴퓨터 카테고리에서 금번달 또 컴퓨터 카테고리를 구매한 사람 비율\n",
    "import matplotlib.pyplot as plt\n",
    "\n",
    "ratio=[576,802]\n",
    "labels=['not duplicate','duplicate']\n",
    "\n",
    "plt.pie(ratio, labels=labels, autopct='%.1f%%')\n",
    "plt.title('Ratio of duplicate purchase or not purchase of computer category')\n",
    "plt.show()\n",
    "\n"
   ]
  },
  {
   "cell_type": "code",
   "execution_count": 113,
   "metadata": {},
   "outputs": [
    {
     "data": {
      "text/html": [
       "<div>\n",
       "<style scoped>\n",
       "    .dataframe tbody tr th:only-of-type {\n",
       "        vertical-align: middle;\n",
       "    }\n",
       "\n",
       "    .dataframe tbody tr th {\n",
       "        vertical-align: top;\n",
       "    }\n",
       "\n",
       "    .dataframe thead th {\n",
       "        text-align: right;\n",
       "    }\n",
       "</style>\n",
       "<table border=\"1\" class=\"dataframe\">\n",
       "  <thead>\n",
       "    <tr style=\"text-align: right;\">\n",
       "      <th></th>\n",
       "      <th>event_time</th>\n",
       "      <th>event_type</th>\n",
       "      <th>product_id</th>\n",
       "      <th>category_id</th>\n",
       "      <th>category_code</th>\n",
       "      <th>brand</th>\n",
       "      <th>price</th>\n",
       "      <th>user_id</th>\n",
       "      <th>user_session</th>\n",
       "      <th>category_code_split</th>\n",
       "      <th>main_category</th>\n",
       "      <th>middle_category</th>\n",
       "    </tr>\n",
       "  </thead>\n",
       "  <tbody>\n",
       "    <tr>\n",
       "      <th>12324</th>\n",
       "      <td>27</td>\n",
       "      <td>purchase</td>\n",
       "      <td>1307310</td>\n",
       "      <td>2053013558920217191</td>\n",
       "      <td>computers.notebook</td>\n",
       "      <td>acer</td>\n",
       "      <td>283.10</td>\n",
       "      <td>547802915</td>\n",
       "      <td>3b91e065-6c35-4eef-b4e2-ad44ca62a7f3</td>\n",
       "      <td>[computers, notebook]</td>\n",
       "      <td>computers</td>\n",
       "      <td>notebook</td>\n",
       "    </tr>\n",
       "    <tr>\n",
       "      <th>28450</th>\n",
       "      <td>15</td>\n",
       "      <td>purchase</td>\n",
       "      <td>1306650</td>\n",
       "      <td>2053013558920217191</td>\n",
       "      <td>computers.notebook</td>\n",
       "      <td>acer</td>\n",
       "      <td>411.08</td>\n",
       "      <td>512396283</td>\n",
       "      <td>0422dce8-600f-4b9a-80d9-1b60f92845f6</td>\n",
       "      <td>[computers, notebook]</td>\n",
       "      <td>computers</td>\n",
       "      <td>notebook</td>\n",
       "    </tr>\n",
       "    <tr>\n",
       "      <th>35952</th>\n",
       "      <td>4</td>\n",
       "      <td>purchase</td>\n",
       "      <td>1307067</td>\n",
       "      <td>2053013558920217191</td>\n",
       "      <td>computers.notebook</td>\n",
       "      <td>lenovo</td>\n",
       "      <td>252.23</td>\n",
       "      <td>523597438</td>\n",
       "      <td>844d2174-35a4-4249-ae8d-a6a3e8b8c21c</td>\n",
       "      <td>[computers, notebook]</td>\n",
       "      <td>computers</td>\n",
       "      <td>notebook</td>\n",
       "    </tr>\n",
       "    <tr>\n",
       "      <th>36180</th>\n",
       "      <td>15</td>\n",
       "      <td>purchase</td>\n",
       "      <td>1480163</td>\n",
       "      <td>2053013561092866779</td>\n",
       "      <td>computers.desktop</td>\n",
       "      <td>acer</td>\n",
       "      <td>617.00</td>\n",
       "      <td>523156746</td>\n",
       "      <td>dba9a0cb-36bb-43ef-b534-6e5e993af5b1</td>\n",
       "      <td>[computers, desktop]</td>\n",
       "      <td>computers</td>\n",
       "      <td>desktop</td>\n",
       "    </tr>\n",
       "    <tr>\n",
       "      <th>36798</th>\n",
       "      <td>28</td>\n",
       "      <td>purchase</td>\n",
       "      <td>1307310</td>\n",
       "      <td>2053013558920217191</td>\n",
       "      <td>computers.notebook</td>\n",
       "      <td>acer</td>\n",
       "      <td>283.10</td>\n",
       "      <td>543509628</td>\n",
       "      <td>33997e8c-a5c0-4694-bde3-cafac0330744</td>\n",
       "      <td>[computers, notebook]</td>\n",
       "      <td>computers</td>\n",
       "      <td>notebook</td>\n",
       "    </tr>\n",
       "    <tr>\n",
       "      <th>...</th>\n",
       "      <td>...</td>\n",
       "      <td>...</td>\n",
       "      <td>...</td>\n",
       "      <td>...</td>\n",
       "      <td>...</td>\n",
       "      <td>...</td>\n",
       "      <td>...</td>\n",
       "      <td>...</td>\n",
       "      <td>...</td>\n",
       "      <td>...</td>\n",
       "      <td>...</td>\n",
       "      <td>...</td>\n",
       "    </tr>\n",
       "    <tr>\n",
       "      <th>2107240</th>\n",
       "      <td>23</td>\n",
       "      <td>purchase</td>\n",
       "      <td>1307342</td>\n",
       "      <td>2053013558920217191</td>\n",
       "      <td>computers.notebook</td>\n",
       "      <td>acer</td>\n",
       "      <td>823.68</td>\n",
       "      <td>535856057</td>\n",
       "      <td>0bed403d-314f-43ab-8557-7b745519ebb7</td>\n",
       "      <td>[computers, notebook]</td>\n",
       "      <td>computers</td>\n",
       "      <td>notebook</td>\n",
       "    </tr>\n",
       "    <tr>\n",
       "      <th>2108986</th>\n",
       "      <td>13</td>\n",
       "      <td>purchase</td>\n",
       "      <td>1306659</td>\n",
       "      <td>2053013558920217191</td>\n",
       "      <td>computers.notebook</td>\n",
       "      <td>hp</td>\n",
       "      <td>321.73</td>\n",
       "      <td>541857804</td>\n",
       "      <td>c8e1b78c-ae7a-4fc1-9ea5-c1ca10fee6d4</td>\n",
       "      <td>[computers, notebook]</td>\n",
       "      <td>computers</td>\n",
       "      <td>notebook</td>\n",
       "    </tr>\n",
       "    <tr>\n",
       "      <th>2109239</th>\n",
       "      <td>16</td>\n",
       "      <td>purchase</td>\n",
       "      <td>1306650</td>\n",
       "      <td>2053013558920217191</td>\n",
       "      <td>computers.notebook</td>\n",
       "      <td>acer</td>\n",
       "      <td>437.57</td>\n",
       "      <td>544689206</td>\n",
       "      <td>33870f15-7a6a-470d-a5fd-3c193432a86e</td>\n",
       "      <td>[computers, notebook]</td>\n",
       "      <td>computers</td>\n",
       "      <td>notebook</td>\n",
       "    </tr>\n",
       "    <tr>\n",
       "      <th>2115658</th>\n",
       "      <td>9</td>\n",
       "      <td>purchase</td>\n",
       "      <td>5200128</td>\n",
       "      <td>2053013553316626707</td>\n",
       "      <td>computers.ebooks</td>\n",
       "      <td>pocketbook</td>\n",
       "      <td>254.58</td>\n",
       "      <td>528131141</td>\n",
       "      <td>446a0c53-a0d3-411e-a5ba-b0429b004c85</td>\n",
       "      <td>[computers, ebooks]</td>\n",
       "      <td>computers</td>\n",
       "      <td>ebooks</td>\n",
       "    </tr>\n",
       "    <tr>\n",
       "      <th>2121685</th>\n",
       "      <td>11</td>\n",
       "      <td>purchase</td>\n",
       "      <td>1307377</td>\n",
       "      <td>2053013558920217191</td>\n",
       "      <td>computers.notebook</td>\n",
       "      <td>lenovo</td>\n",
       "      <td>434.99</td>\n",
       "      <td>552323296</td>\n",
       "      <td>eee8a606-38fa-c65a-e509-981b7e67f1d2</td>\n",
       "      <td>[computers, notebook]</td>\n",
       "      <td>computers</td>\n",
       "      <td>notebook</td>\n",
       "    </tr>\n",
       "  </tbody>\n",
       "</table>\n",
       "<p>802 rows × 12 columns</p>\n",
       "</div>"
      ],
      "text/plain": [
       "         event_time event_type  product_id          category_id  \\\n",
       "12324            27   purchase     1307310  2053013558920217191   \n",
       "28450            15   purchase     1306650  2053013558920217191   \n",
       "35952             4   purchase     1307067  2053013558920217191   \n",
       "36180            15   purchase     1480163  2053013561092866779   \n",
       "36798            28   purchase     1307310  2053013558920217191   \n",
       "...             ...        ...         ...                  ...   \n",
       "2107240          23   purchase     1307342  2053013558920217191   \n",
       "2108986          13   purchase     1306659  2053013558920217191   \n",
       "2109239          16   purchase     1306650  2053013558920217191   \n",
       "2115658           9   purchase     5200128  2053013553316626707   \n",
       "2121685          11   purchase     1307377  2053013558920217191   \n",
       "\n",
       "              category_code       brand   price    user_id  \\\n",
       "12324    computers.notebook        acer  283.10  547802915   \n",
       "28450    computers.notebook        acer  411.08  512396283   \n",
       "35952    computers.notebook      lenovo  252.23  523597438   \n",
       "36180     computers.desktop        acer  617.00  523156746   \n",
       "36798    computers.notebook        acer  283.10  543509628   \n",
       "...                     ...         ...     ...        ...   \n",
       "2107240  computers.notebook        acer  823.68  535856057   \n",
       "2108986  computers.notebook          hp  321.73  541857804   \n",
       "2109239  computers.notebook        acer  437.57  544689206   \n",
       "2115658    computers.ebooks  pocketbook  254.58  528131141   \n",
       "2121685  computers.notebook      lenovo  434.99  552323296   \n",
       "\n",
       "                                 user_session    category_code_split  \\\n",
       "12324    3b91e065-6c35-4eef-b4e2-ad44ca62a7f3  [computers, notebook]   \n",
       "28450    0422dce8-600f-4b9a-80d9-1b60f92845f6  [computers, notebook]   \n",
       "35952    844d2174-35a4-4249-ae8d-a6a3e8b8c21c  [computers, notebook]   \n",
       "36180    dba9a0cb-36bb-43ef-b534-6e5e993af5b1   [computers, desktop]   \n",
       "36798    33997e8c-a5c0-4694-bde3-cafac0330744  [computers, notebook]   \n",
       "...                                       ...                    ...   \n",
       "2107240  0bed403d-314f-43ab-8557-7b745519ebb7  [computers, notebook]   \n",
       "2108986  c8e1b78c-ae7a-4fc1-9ea5-c1ca10fee6d4  [computers, notebook]   \n",
       "2109239  33870f15-7a6a-470d-a5fd-3c193432a86e  [computers, notebook]   \n",
       "2115658  446a0c53-a0d3-411e-a5ba-b0429b004c85    [computers, ebooks]   \n",
       "2121685  eee8a606-38fa-c65a-e509-981b7e67f1d2  [computers, notebook]   \n",
       "\n",
       "        main_category middle_category  \n",
       "12324       computers        notebook  \n",
       "28450       computers        notebook  \n",
       "35952       computers        notebook  \n",
       "36180       computers         desktop  \n",
       "36798       computers        notebook  \n",
       "...               ...             ...  \n",
       "2107240     computers        notebook  \n",
       "2108986     computers        notebook  \n",
       "2109239     computers        notebook  \n",
       "2115658     computers          ebooks  \n",
       "2121685     computers        notebook  \n",
       "\n",
       "[802 rows x 12 columns]"
      ]
     },
     "execution_count": 113,
     "metadata": {},
     "output_type": "execute_result"
    }
   ],
   "source": [
    "computer_duplicate"
   ]
  },
  {
   "cell_type": "code",
   "execution_count": 116,
   "metadata": {},
   "outputs": [
    {
     "data": {
      "image/png": "[encoded data removed]",
      "text/plain": [
       "<Figure size 640x480 with 1 Axes>"
      ]
     },
     "metadata": {},
     "output_type": "display_data"
    }
   ],
   "source": [
    "import squarify\n",
    "\n",
    "\n",
    "#컴퓨터 카테고리를 산 사람들이 또 어떤 카테고리의 물건을 사는지 시각화 해보자.\n",
    "\n",
    "n =7\n",
    "com_dup =computer_duplicate['middle_category'].value_counts()[:n].sort_values(ascending=False)\n",
    "\n",
    "plt.style.use('default')\n",
    "plt.rcParams['font.size'] = 10\n",
    "\n",
    "\n",
    "\n",
    "squarify.plot(com_dup,label=com_dup.index.array,color=[\"red\",\"cyan\",\"green\",\"orange\",\"blue\",\"grey\"], alpha=.7 )\n",
    "plt.axis('off')\n",
    "plt.title('Duplicate purchase in the computer category')\n",
    "plt.show()\n"
   ]
  },
  {
   "cell_type": "code",
   "execution_count": 125,
   "metadata": {},
   "outputs": [
    {
     "data": {
      "text/html": [
       "<div>\n",
       "<style scoped>\n",
       "    .dataframe tbody tr th:only-of-type {\n",
       "        vertical-align: middle;\n",
       "    }\n",
       "\n",
       "    .dataframe tbody tr th {\n",
       "        vertical-align: top;\n",
       "    }\n",
       "\n",
       "    .dataframe thead th {\n",
       "        text-align: right;\n",
       "    }\n",
       "</style>\n",
       "<table border=\"1\" class=\"dataframe\">\n",
       "  <thead>\n",
       "    <tr style=\"text-align: right;\">\n",
       "      <th></th>\n",
       "      <th>event_time</th>\n",
       "      <th>event_type</th>\n",
       "      <th>product_id</th>\n",
       "      <th>category_id</th>\n",
       "      <th>category_code</th>\n",
       "      <th>brand</th>\n",
       "      <th>price</th>\n",
       "      <th>user_id</th>\n",
       "      <th>user_session</th>\n",
       "      <th>category_code_split</th>\n",
       "      <th>main_category</th>\n",
       "      <th>middle_category</th>\n",
       "    </tr>\n",
       "  </thead>\n",
       "  <tbody>\n",
       "    <tr>\n",
       "      <th>124</th>\n",
       "      <td>21</td>\n",
       "      <td>view</td>\n",
       "      <td>3601427</td>\n",
       "      <td>2053013563810775923</td>\n",
       "      <td>appliances.kitchen.washer</td>\n",
       "      <td>lg</td>\n",
       "      <td>336.95</td>\n",
       "      <td>519048342</td>\n",
       "      <td>1e9c1c3a-50c2-4402-a66d-4e90d620eef0</td>\n",
       "      <td>[appliances, kitchen, washer]</td>\n",
       "      <td>appliances</td>\n",
       "      <td>kitchen</td>\n",
       "    </tr>\n",
       "    <tr>\n",
       "      <th>199</th>\n",
       "      <td>1</td>\n",
       "      <td>view</td>\n",
       "      <td>2702339</td>\n",
       "      <td>2053013563911439225</td>\n",
       "      <td>appliances.kitchen.refrigerators</td>\n",
       "      <td>lg</td>\n",
       "      <td>573.81</td>\n",
       "      <td>534115518</td>\n",
       "      <td>d0b64146-9cf3-4573-8606-2c641346250f</td>\n",
       "      <td>[appliances, kitchen, refrigerators]</td>\n",
       "      <td>appliances</td>\n",
       "      <td>kitchen</td>\n",
       "    </tr>\n",
       "    <tr>\n",
       "      <th>241</th>\n",
       "      <td>4</td>\n",
       "      <td>view</td>\n",
       "      <td>3700039</td>\n",
       "      <td>2053013565983425517</td>\n",
       "      <td>appliances.environment.vacuum</td>\n",
       "      <td>lg</td>\n",
       "      <td>183.43</td>\n",
       "      <td>556573943</td>\n",
       "      <td>679b9ae3-e3b7-49ca-92a1-2913d6fd724d</td>\n",
       "      <td>[appliances, environment, vacuum]</td>\n",
       "      <td>appliances</td>\n",
       "      <td>environment</td>\n",
       "    </tr>\n",
       "    <tr>\n",
       "      <th>277</th>\n",
       "      <td>30</td>\n",
       "      <td>view</td>\n",
       "      <td>1802005</td>\n",
       "      <td>2053013554415534427</td>\n",
       "      <td>electronics.video.tv</td>\n",
       "      <td>lg</td>\n",
       "      <td>437.20</td>\n",
       "      <td>512968871</td>\n",
       "      <td>c3b3cdb8-6ee6-4ccd-aa38-8483ebeb1e27</td>\n",
       "      <td>[electronics, video, tv]</td>\n",
       "      <td>electronics</td>\n",
       "      <td>video</td>\n",
       "    </tr>\n",
       "    <tr>\n",
       "      <th>317</th>\n",
       "      <td>30</td>\n",
       "      <td>view</td>\n",
       "      <td>3601485</td>\n",
       "      <td>2053013563810775923</td>\n",
       "      <td>appliances.kitchen.washer</td>\n",
       "      <td>lg</td>\n",
       "      <td>329.98</td>\n",
       "      <td>555525800</td>\n",
       "      <td>2949d78b-4f53-40b2-a98e-2a4511c18180</td>\n",
       "      <td>[appliances, kitchen, washer]</td>\n",
       "      <td>appliances</td>\n",
       "      <td>kitchen</td>\n",
       "    </tr>\n",
       "    <tr>\n",
       "      <th>...</th>\n",
       "      <td>...</td>\n",
       "      <td>...</td>\n",
       "      <td>...</td>\n",
       "      <td>...</td>\n",
       "      <td>...</td>\n",
       "      <td>...</td>\n",
       "      <td>...</td>\n",
       "      <td>...</td>\n",
       "      <td>...</td>\n",
       "      <td>...</td>\n",
       "      <td>...</td>\n",
       "      <td>...</td>\n",
       "    </tr>\n",
       "    <tr>\n",
       "      <th>2121919</th>\n",
       "      <td>18</td>\n",
       "      <td>view</td>\n",
       "      <td>3601485</td>\n",
       "      <td>2053013563810775923</td>\n",
       "      <td>appliances.kitchen.washer</td>\n",
       "      <td>lg</td>\n",
       "      <td>297.73</td>\n",
       "      <td>560344931</td>\n",
       "      <td>84464397-685e-424e-961d-9fe65e58ff7e</td>\n",
       "      <td>[appliances, kitchen, washer]</td>\n",
       "      <td>appliances</td>\n",
       "      <td>kitchen</td>\n",
       "    </tr>\n",
       "    <tr>\n",
       "      <th>2122095</th>\n",
       "      <td>8</td>\n",
       "      <td>view</td>\n",
       "      <td>2702277</td>\n",
       "      <td>2053013563911439225</td>\n",
       "      <td>appliances.kitchen.refrigerators</td>\n",
       "      <td>lg</td>\n",
       "      <td>463.31</td>\n",
       "      <td>519698828</td>\n",
       "      <td>1ba0dd51-260e-4303-9c47-45832a66fd34</td>\n",
       "      <td>[appliances, kitchen, refrigerators]</td>\n",
       "      <td>appliances</td>\n",
       "      <td>kitchen</td>\n",
       "    </tr>\n",
       "    <tr>\n",
       "      <th>2122156</th>\n",
       "      <td>14</td>\n",
       "      <td>view</td>\n",
       "      <td>1801961</td>\n",
       "      <td>2053013554415534427</td>\n",
       "      <td>electronics.video.tv</td>\n",
       "      <td>lg</td>\n",
       "      <td>1801.57</td>\n",
       "      <td>548420635</td>\n",
       "      <td>7d572526-dbb7-4f5e-9eca-17044d352964</td>\n",
       "      <td>[electronics, video, tv]</td>\n",
       "      <td>electronics</td>\n",
       "      <td>video</td>\n",
       "    </tr>\n",
       "    <tr>\n",
       "      <th>2122157</th>\n",
       "      <td>24</td>\n",
       "      <td>view</td>\n",
       "      <td>1802037</td>\n",
       "      <td>2053013554415534427</td>\n",
       "      <td>electronics.video.tv</td>\n",
       "      <td>lg</td>\n",
       "      <td>300.75</td>\n",
       "      <td>561848315</td>\n",
       "      <td>b20a49ca-b170-441e-bfc9-8baabc07627e</td>\n",
       "      <td>[electronics, video, tv]</td>\n",
       "      <td>electronics</td>\n",
       "      <td>video</td>\n",
       "    </tr>\n",
       "    <tr>\n",
       "      <th>2122185</th>\n",
       "      <td>4</td>\n",
       "      <td>view</td>\n",
       "      <td>3700127</td>\n",
       "      <td>2053013565983425517</td>\n",
       "      <td>appliances.environment.vacuum</td>\n",
       "      <td>lg</td>\n",
       "      <td>189.15</td>\n",
       "      <td>523569794</td>\n",
       "      <td>1b5ac6d0-5b60-4ae8-ab44-4fafb8835d6d</td>\n",
       "      <td>[appliances, environment, vacuum]</td>\n",
       "      <td>appliances</td>\n",
       "      <td>environment</td>\n",
       "    </tr>\n",
       "  </tbody>\n",
       "</table>\n",
       "<p>25724 rows × 12 columns</p>\n",
       "</div>"
      ],
      "text/plain": [
       "         event_time event_type  product_id          category_id  \\\n",
       "124              21       view     3601427  2053013563810775923   \n",
       "199               1       view     2702339  2053013563911439225   \n",
       "241               4       view     3700039  2053013565983425517   \n",
       "277              30       view     1802005  2053013554415534427   \n",
       "317              30       view     3601485  2053013563810775923   \n",
       "...             ...        ...         ...                  ...   \n",
       "2121919          18       view     3601485  2053013563810775923   \n",
       "2122095           8       view     2702277  2053013563911439225   \n",
       "2122156          14       view     1801961  2053013554415534427   \n",
       "2122157          24       view     1802037  2053013554415534427   \n",
       "2122185           4       view     3700127  2053013565983425517   \n",
       "\n",
       "                            category_code brand    price    user_id  \\\n",
       "124             appliances.kitchen.washer    lg   336.95  519048342   \n",
       "199      appliances.kitchen.refrigerators    lg   573.81  534115518   \n",
       "241         appliances.environment.vacuum    lg   183.43  556573943   \n",
       "277                  electronics.video.tv    lg   437.20  512968871   \n",
       "317             appliances.kitchen.washer    lg   329.98  555525800   \n",
       "...                                   ...   ...      ...        ...   \n",
       "2121919         appliances.kitchen.washer    lg   297.73  560344931   \n",
       "2122095  appliances.kitchen.refrigerators    lg   463.31  519698828   \n",
       "2122156              electronics.video.tv    lg  1801.57  548420635   \n",
       "2122157              electronics.video.tv    lg   300.75  561848315   \n",
       "2122185     appliances.environment.vacuum    lg   189.15  523569794   \n",
       "\n",
       "                                 user_session  \\\n",
       "124      1e9c1c3a-50c2-4402-a66d-4e90d620eef0   \n",
       "199      d0b64146-9cf3-4573-8606-2c641346250f   \n",
       "241      679b9ae3-e3b7-49ca-92a1-2913d6fd724d   \n",
       "277      c3b3cdb8-6ee6-4ccd-aa38-8483ebeb1e27   \n",
       "317      2949d78b-4f53-40b2-a98e-2a4511c18180   \n",
       "...                                       ...   \n",
       "2121919  84464397-685e-424e-961d-9fe65e58ff7e   \n",
       "2122095  1ba0dd51-260e-4303-9c47-45832a66fd34   \n",
       "2122156  7d572526-dbb7-4f5e-9eca-17044d352964   \n",
       "2122157  b20a49ca-b170-441e-bfc9-8baabc07627e   \n",
       "2122185  1b5ac6d0-5b60-4ae8-ab44-4fafb8835d6d   \n",
       "\n",
       "                          category_code_split main_category middle_category  \n",
       "124             [appliances, kitchen, washer]    appliances         kitchen  \n",
       "199      [appliances, kitchen, refrigerators]    appliances         kitchen  \n",
       "241         [appliances, environment, vacuum]    appliances     environment  \n",
       "277                  [electronics, video, tv]   electronics           video  \n",
       "317             [appliances, kitchen, washer]    appliances         kitchen  \n",
       "...                                       ...           ...             ...  \n",
       "2121919         [appliances, kitchen, washer]    appliances         kitchen  \n",
       "2122095  [appliances, kitchen, refrigerators]    appliances         kitchen  \n",
       "2122156              [electronics, video, tv]   electronics           video  \n",
       "2122157              [electronics, video, tv]   electronics           video  \n",
       "2122185     [appliances, environment, vacuum]    appliances     environment  \n",
       "\n",
       "[25724 rows x 12 columns]"
      ]
     },
     "execution_count": 125,
     "metadata": {},
     "output_type": "execute_result"
    }
   ],
   "source": [
    "data.loc[data['brand']=='lg']\n"
   ]
  },
  {
   "cell_type": "code",
   "execution_count": 129,
   "metadata": {},
   "outputs": [],
   "source": [
    "from mlxtend.preprocessing import TransactionEncoder\n",
    "from mlxtend.frequent_patterns import apriori, association_rules"
   ]
  },
  {
   "cell_type": "code",
   "execution_count": 130,
   "metadata": {},
   "outputs": [],
   "source": [
    "# 연관규칙 추천 아록리즘 모델 구현 "
   ]
  },
  {
   "cell_type": "code",
   "execution_count": 134,
   "metadata": {},
   "outputs": [
    {
     "data": {
      "text/plain": [
       "event_time               int64\n",
       "event_type              object\n",
       "product_id               int64\n",
       "category_id              int64\n",
       "category_code           object\n",
       "brand                   object\n",
       "price                  float64\n",
       "user_id                  int64\n",
       "user_session            object\n",
       "category_code_split     object\n",
       "main_category           object\n",
       "middle_category         object\n",
       "dtype: object"
      ]
     },
     "execution_count": 134,
     "metadata": {},
     "output_type": "execute_result"
    }
   ],
   "source": [
    "data.dtypes"
   ]
  },
  {
   "cell_type": "code",
   "execution_count": 137,
   "metadata": {},
   "outputs": [],
   "source": [
    "purchase_user=list(only_purchases['user_id'].unique())\n",
    "\n",
    "monetary_df = pd.DataFrame() ## 구매금액 데이터 초기화\n",
    "monetary_df['user_id'] = purchase_user\n",
    "\n",
    "monetary_data=[]"
   ]
  },
  {
   "cell_type": "code",
   "execution_count": 138,
   "metadata": {},
   "outputs": [
    {
     "name": "stderr",
     "output_type": "stream",
     "text": [
      "Calculating amount of individual customer: 100%|██████████| 24731/24731 [00:26<00:00, 948.04it/s] \n"
     ]
    }
   ],
   "source": [
    "from tqdm import tqdm\n",
    " \n",
    " \n",
    "monetary_data = [] ## 구매금액을 담을 리스트\n",
    "for i in tqdm(purchase_user,position=0,desc='Calculating amount of individual customer'):\n",
    "    temp = only_purchases.query('user_id==@i') ## 해당 아이디의 고객데이터 추출\n",
    "    amount = sum(temp['price']) ## 해당 고객 구매금액\n",
    "    monetary_data.append(amount)\n",
    "    \n",
    "monetary_df['Monetary'] = monetary_data ## 구매금액 데이터 삽"
   ]
  },
  {
   "cell_type": "code",
   "execution_count": 139,
   "metadata": {},
   "outputs": [
    {
     "data": {
      "text/html": [
       "<div>\n",
       "<style scoped>\n",
       "    .dataframe tbody tr th:only-of-type {\n",
       "        vertical-align: middle;\n",
       "    }\n",
       "\n",
       "    .dataframe tbody tr th {\n",
       "        vertical-align: top;\n",
       "    }\n",
       "\n",
       "    .dataframe thead th {\n",
       "        text-align: right;\n",
       "    }\n",
       "</style>\n",
       "<table border=\"1\" class=\"dataframe\">\n",
       "  <thead>\n",
       "    <tr style=\"text-align: right;\">\n",
       "      <th></th>\n",
       "      <th>user_id</th>\n",
       "      <th>Monetary</th>\n",
       "    </tr>\n",
       "  </thead>\n",
       "  <tbody>\n",
       "    <tr>\n",
       "      <th>0</th>\n",
       "      <td>523013344</td>\n",
       "      <td>89.84</td>\n",
       "    </tr>\n",
       "    <tr>\n",
       "      <th>1</th>\n",
       "      <td>514696726</td>\n",
       "      <td>263.07</td>\n",
       "    </tr>\n",
       "    <tr>\n",
       "      <th>2</th>\n",
       "      <td>521699061</td>\n",
       "      <td>109.00</td>\n",
       "    </tr>\n",
       "    <tr>\n",
       "      <th>3</th>\n",
       "      <td>513022404</td>\n",
       "      <td>369.37</td>\n",
       "    </tr>\n",
       "    <tr>\n",
       "      <th>4</th>\n",
       "      <td>556002836</td>\n",
       "      <td>15.19</td>\n",
       "    </tr>\n",
       "    <tr>\n",
       "      <th>...</th>\n",
       "      <td>...</td>\n",
       "      <td>...</td>\n",
       "    </tr>\n",
       "    <tr>\n",
       "      <th>24726</th>\n",
       "      <td>516634081</td>\n",
       "      <td>473.27</td>\n",
       "    </tr>\n",
       "    <tr>\n",
       "      <th>24727</th>\n",
       "      <td>513816727</td>\n",
       "      <td>514.50</td>\n",
       "    </tr>\n",
       "    <tr>\n",
       "      <th>24728</th>\n",
       "      <td>517548594</td>\n",
       "      <td>756.65</td>\n",
       "    </tr>\n",
       "    <tr>\n",
       "      <th>24729</th>\n",
       "      <td>555514716</td>\n",
       "      <td>121.24</td>\n",
       "    </tr>\n",
       "    <tr>\n",
       "      <th>24730</th>\n",
       "      <td>512801494</td>\n",
       "      <td>949.78</td>\n",
       "    </tr>\n",
       "  </tbody>\n",
       "</table>\n",
       "<p>24731 rows × 2 columns</p>\n",
       "</div>"
      ],
      "text/plain": [
       "         user_id  Monetary\n",
       "0      523013344     89.84\n",
       "1      514696726    263.07\n",
       "2      521699061    109.00\n",
       "3      513022404    369.37\n",
       "4      556002836     15.19\n",
       "...          ...       ...\n",
       "24726  516634081    473.27\n",
       "24727  513816727    514.50\n",
       "24728  517548594    756.65\n",
       "24729  555514716    121.24\n",
       "24730  512801494    949.78\n",
       "\n",
       "[24731 rows x 2 columns]"
      ]
     },
     "execution_count": 139,
     "metadata": {},
     "output_type": "execute_result"
    }
   ],
   "source": [
    "monetary_df"
   ]
  },
  {
   "cell_type": "code",
   "execution_count": null,
   "metadata": {},
   "outputs": [],
   "source": []
  }
 ],
 "metadata": {
  "kernelspec": {
   "display_name": "Python 3.8.13 ('cp1')",
   "language": "python",
   "name": "python3"
  },
  "language_info": {
   "codemirror_mode": {
    "name": "ipython",
    "version": 3
   },
   "file_extension": ".py",
   "mimetype": "text/x-python",
   "name": "python",
   "nbconvert_exporter": "python",
   "pygments_lexer": "ipython3",
   "version": "3.8.13"
  },
  "orig_nbformat": 4,
  "vscode": {
   "interpreter": {
    "hash": "fadcd62c86c60d3ab4047e246e9aa4a618618af65e19bb28d1b136b2e19c0ca4"
   }
  }
 },
 "nbformat": 4,
 "nbformat_minor": 2
}
