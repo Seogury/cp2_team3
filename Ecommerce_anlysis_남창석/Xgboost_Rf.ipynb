{
 "cells": [
  {
   "cell_type": "code",
   "execution_count": 1,
   "metadata": {},
   "outputs": [],
   "source": [
    "import pandas as pd\n",
    "import numpy as np\n",
    "import math\n",
    "import matplotlib.pyplot as plt\n",
    "import seaborn as sns\n",
    "from datetime import datetime\n",
    "from sklearn.preprocessing import LabelEncoder\n",
    "from sklearn.preprocessing import MinMaxScaler\n",
    "from sklearn.model_selection import train_test_split\n",
    "from xgboost import plot_importance\n",
    "from sklearn.utils import resample\n",
    "from sklearn import metrics\n"
   ]
  },
  {
   "cell_type": "code",
   "execution_count": 2,
   "metadata": {},
   "outputs": [],
   "source": [
    "df=pd.read_csv('/Users/namchangseok/Desktop/코드스테이츠/AI_12기/cp2/split_data.csv')"
   ]
  },
  {
   "cell_type": "code",
   "execution_count": 3,
   "metadata": {},
   "outputs": [],
   "source": [
    "# 데이터 전처리 \n",
    "df_targets = df.loc[df[\"event_type\"].isin([\"cart\",\"purchase\"])].drop_duplicates(subset=['event_type', 'product_id','price', 'user_id','user_session'])\n",
    "df_targets[\"is_purchased\"] = np.where(df_targets[\"event_type\"]==\"purchase\",1,0)\n",
    "df_targets[\"is_purchased\"] = df_targets.groupby([\"user_session\",\"product_id\"])[\"is_purchased\"].transform(\"max\")\n",
    "df_targets = df_targets.loc[df_targets[\"event_type\"]==\"cart\"].drop_duplicates([\"user_session\",\"product_id\",\"is_purchased\"])\n",
    "df_targets['event_weekday'] = df_targets['event_time'].apply(lambda s: str(datetime.strptime(str(s)[0:10], \"%Y-%m-%d\").weekday()))\n",
    "df_targets['main_category'] =df_targets['category_code'].str.split('.',expand=True)[0].astype('category')\n",
    "df_targets['middle_category'] =df_targets['category_code'].str.split('.',expand=True)[1].astype('category')"
   ]
  },
  {
   "cell_type": "code",
   "execution_count": 4,
   "metadata": {},
   "outputs": [],
   "source": [
    "df_targets.dropna(how='any', inplace=True)"
   ]
  },
  {
   "cell_type": "code",
   "execution_count": 7,
   "metadata": {},
   "outputs": [],
   "source": [
    "df_targets = df_targets.loc[df_targets[\"event_type\"]==\"cart\"].drop_duplicates([\"user_session\",\"product_id\",\"is_purchased\"])"
   ]
  },
  {
   "cell_type": "code",
   "execution_count": 8,
   "metadata": {},
   "outputs": [],
   "source": [
    "cart_purchase_users = df.loc[df[\"event_type\"].isin([\"cart\",\"purchase\"])].drop_duplicates(subset=['user_id'])\n",
    "cart_purchase_users.dropna(how='any', inplace=True)\n",
    "cart_purchase_users_all_activity = df.loc[df['user_id'].isin(cart_purchase_users['user_id'])]"
   ]
  },
  {
   "cell_type": "code",
   "execution_count": 9,
   "metadata": {},
   "outputs": [],
   "source": [
    "# session 활동 개수 합치기 \n",
    "activity_in_session = cart_purchase_users_all_activity.groupby(['user_session'])['event_type'].count().reset_index()\n",
    "activity_in_session = activity_in_session.rename(columns={\"event_type\": \"activity_count\"})"
   ]
  },
  {
   "cell_type": "code",
   "execution_count": 9,
   "metadata": {},
   "outputs": [
    {
     "data": {
      "text/html": [
       "<div>\n",
       "<style scoped>\n",
       "    .dataframe tbody tr th:only-of-type {\n",
       "        vertical-align: middle;\n",
       "    }\n",
       "\n",
       "    .dataframe tbody tr th {\n",
       "        vertical-align: top;\n",
       "    }\n",
       "\n",
       "    .dataframe thead th {\n",
       "        text-align: right;\n",
       "    }\n",
       "</style>\n",
       "<table border=\"1\" class=\"dataframe\">\n",
       "  <thead>\n",
       "    <tr style=\"text-align: right;\">\n",
       "      <th></th>\n",
       "      <th>user_session</th>\n",
       "      <th>activity_count</th>\n",
       "    </tr>\n",
       "  </thead>\n",
       "  <tbody>\n",
       "    <tr>\n",
       "      <th>0</th>\n",
       "      <td>00000083-8816-4d58-a9b8-f52f54186edc</td>\n",
       "      <td>18</td>\n",
       "    </tr>\n",
       "    <tr>\n",
       "      <th>1</th>\n",
       "      <td>000001fd-1f89-45e8-a3ce-fe3218cabfad</td>\n",
       "      <td>11</td>\n",
       "    </tr>\n",
       "    <tr>\n",
       "      <th>2</th>\n",
       "      <td>000003eb-b63e-45d9-9f26-f229057c654a</td>\n",
       "      <td>1</td>\n",
       "    </tr>\n",
       "    <tr>\n",
       "      <th>3</th>\n",
       "      <td>00000809-9101-4e4b-9795-e6cbafccfe19</td>\n",
       "      <td>4</td>\n",
       "    </tr>\n",
       "    <tr>\n",
       "      <th>4</th>\n",
       "      <td>00000aaa-d774-49bc-9c31-0c9f6e1c2f0a</td>\n",
       "      <td>1</td>\n",
       "    </tr>\n",
       "    <tr>\n",
       "      <th>...</th>\n",
       "      <td>...</td>\n",
       "      <td>...</td>\n",
       "    </tr>\n",
       "    <tr>\n",
       "      <th>2331286</th>\n",
       "      <td>ffffd6fe-a5c3-4c9e-bc57-8d7601521cc0</td>\n",
       "      <td>2</td>\n",
       "    </tr>\n",
       "    <tr>\n",
       "      <th>2331287</th>\n",
       "      <td>ffffd89d-208c-28ec-da2f-6668c878fffc</td>\n",
       "      <td>1</td>\n",
       "    </tr>\n",
       "    <tr>\n",
       "      <th>2331288</th>\n",
       "      <td>ffffdf58-84cb-4337-a802-061db4843e54</td>\n",
       "      <td>1</td>\n",
       "    </tr>\n",
       "    <tr>\n",
       "      <th>2331289</th>\n",
       "      <td>ffffe3ba-7c09-4c3a-a8fe-75ba46b1e146</td>\n",
       "      <td>2</td>\n",
       "    </tr>\n",
       "    <tr>\n",
       "      <th>2331290</th>\n",
       "      <td>fffff8d4-d31c-4066-a00b-2ace84d33640</td>\n",
       "      <td>12</td>\n",
       "    </tr>\n",
       "  </tbody>\n",
       "</table>\n",
       "<p>2331291 rows × 2 columns</p>\n",
       "</div>"
      ],
      "text/plain": [
       "                                 user_session  activity_count\n",
       "0        00000083-8816-4d58-a9b8-f52f54186edc              18\n",
       "1        000001fd-1f89-45e8-a3ce-fe3218cabfad              11\n",
       "2        000003eb-b63e-45d9-9f26-f229057c654a               1\n",
       "3        00000809-9101-4e4b-9795-e6cbafccfe19               4\n",
       "4        00000aaa-d774-49bc-9c31-0c9f6e1c2f0a               1\n",
       "...                                       ...             ...\n",
       "2331286  ffffd6fe-a5c3-4c9e-bc57-8d7601521cc0               2\n",
       "2331287  ffffd89d-208c-28ec-da2f-6668c878fffc               1\n",
       "2331288  ffffdf58-84cb-4337-a802-061db4843e54               1\n",
       "2331289  ffffe3ba-7c09-4c3a-a8fe-75ba46b1e146               2\n",
       "2331290  fffff8d4-d31c-4066-a00b-2ace84d33640              12\n",
       "\n",
       "[2331291 rows x 2 columns]"
      ]
     },
     "execution_count": 9,
     "metadata": {},
     "output_type": "execute_result"
    }
   ],
   "source": [
    "activity_in_session"
   ]
  },
  {
   "cell_type": "code",
   "execution_count": 10,
   "metadata": {},
   "outputs": [
    {
     "data": {
      "text/plain": [
       "cart    546599\n",
       "Name: event_type, dtype: int64"
      ]
     },
     "execution_count": 10,
     "metadata": {},
     "output_type": "execute_result"
    }
   ],
   "source": [
    "df_targets['event_type'].value_counts()"
   ]
  },
  {
   "cell_type": "code",
   "execution_count": 12,
   "metadata": {},
   "outputs": [],
   "source": [
    "del df"
   ]
  },
  {
   "cell_type": "code",
   "execution_count": 11,
   "metadata": {},
   "outputs": [
    {
     "data": {
      "text/html": [
       "<div>\n",
       "<style scoped>\n",
       "    .dataframe tbody tr th:only-of-type {\n",
       "        vertical-align: middle;\n",
       "    }\n",
       "\n",
       "    .dataframe tbody tr th {\n",
       "        vertical-align: top;\n",
       "    }\n",
       "\n",
       "    .dataframe thead th {\n",
       "        text-align: right;\n",
       "    }\n",
       "</style>\n",
       "<table border=\"1\" class=\"dataframe\">\n",
       "  <thead>\n",
       "    <tr style=\"text-align: right;\">\n",
       "      <th></th>\n",
       "      <th>event_time</th>\n",
       "      <th>event_type</th>\n",
       "      <th>product_id</th>\n",
       "      <th>category_id</th>\n",
       "      <th>category_code</th>\n",
       "      <th>brand</th>\n",
       "      <th>price</th>\n",
       "      <th>user_id</th>\n",
       "      <th>user_session</th>\n",
       "      <th>is_purchased</th>\n",
       "      <th>event_weekday</th>\n",
       "      <th>main_category</th>\n",
       "      <th>middle_category</th>\n",
       "      <th>activity_count</th>\n",
       "    </tr>\n",
       "  </thead>\n",
       "  <tbody>\n",
       "    <tr>\n",
       "      <th>0</th>\n",
       "      <td>2019-10-01 00:09:33 UTC</td>\n",
       "      <td>cart</td>\n",
       "      <td>1002524</td>\n",
       "      <td>2053013555631882655</td>\n",
       "      <td>electronics.smartphone</td>\n",
       "      <td>apple</td>\n",
       "      <td>515.67</td>\n",
       "      <td>524325294</td>\n",
       "      <td>0b74a829-f9d7-4654-b5b0-35bc9822c238</td>\n",
       "      <td>1.0</td>\n",
       "      <td>1</td>\n",
       "      <td>electronics</td>\n",
       "      <td>smartphone</td>\n",
       "      <td>4.0</td>\n",
       "    </tr>\n",
       "  </tbody>\n",
       "</table>\n",
       "</div>"
      ],
      "text/plain": [
       "                event_time event_type  product_id          category_id  \\\n",
       "0  2019-10-01 00:09:33 UTC       cart     1002524  2053013555631882655   \n",
       "\n",
       "            category_code  brand   price    user_id  \\\n",
       "0  electronics.smartphone  apple  515.67  524325294   \n",
       "\n",
       "                           user_session  is_purchased event_weekday  \\\n",
       "0  0b74a829-f9d7-4654-b5b0-35bc9822c238           1.0             1   \n",
       "\n",
       "  main_category middle_category  activity_count  \n",
       "0   electronics      smartphone             4.0  "
      ]
     },
     "execution_count": 11,
     "metadata": {},
     "output_type": "execute_result"
    }
   ],
   "source": [
    "df_targets=df_targets.merge(activity_in_session, on='user_session',how='left')\n",
    "df_targets['activity_count'] = df_targets['activity_count'].fillna(0)\n",
    "df_targets.head(1)"
   ]
  },
  {
   "cell_type": "code",
   "execution_count": 11,
   "metadata": {},
   "outputs": [],
   "source": [
    "df_targets.to_csv('training_data.csv')"
   ]
  },
  {
   "cell_type": "code",
   "execution_count": 2,
   "metadata": {},
   "outputs": [],
   "source": [
    "# Df_targets으로 불러오자\n",
    "df_targets=pd.read_csv('/Users/namchangseok/Desktop/코드스테이츠/AI_12기/cp2/training_data.csv')"
   ]
  },
  {
   "cell_type": "code",
   "execution_count": 3,
   "metadata": {},
   "outputs": [
    {
     "data": {
      "text/plain": [
       "273908"
      ]
     },
     "execution_count": 3,
     "metadata": {},
     "output_type": "execute_result"
    }
   ],
   "source": [
    "is_purcahase_set = df_targets[df_targets['is_purchased']== 1]\n",
    "is_purcahase_set.shape[0]\n"
   ]
  },
  {
   "cell_type": "code",
   "execution_count": 4,
   "metadata": {},
   "outputs": [
    {
     "data": {
      "text/plain": [
       "272691"
      ]
     },
     "execution_count": 4,
     "metadata": {},
     "output_type": "execute_result"
    }
   ],
   "source": [
    "not_purcahase_set = df_targets[df_targets['is_purchased']== 0]\n",
    "not_purcahase_set.shape[0]"
   ]
  },
  {
   "cell_type": "code",
   "execution_count": 9,
   "metadata": {},
   "outputs": [],
   "source": [
    "#샘플링\n",
    "n_sample = 270000\n",
    "\n",
    "purchase_down=resample(is_purcahase_set,replace=False,n_samples=n_sample,random_state=42)\n",
    "\n",
    "not_purchase_down=resample(not_purcahase_set,replace=False,n_samples=n_sample,random_state=42)\n"
   ]
  },
  {
   "cell_type": "code",
   "execution_count": 10,
   "metadata": {},
   "outputs": [
    {
     "data": {
      "text/html": [
       "<div>\n",
       "<style scoped>\n",
       "    .dataframe tbody tr th:only-of-type {\n",
       "        vertical-align: middle;\n",
       "    }\n",
       "\n",
       "    .dataframe tbody tr th {\n",
       "        vertical-align: top;\n",
       "    }\n",
       "\n",
       "    .dataframe thead th {\n",
       "        text-align: right;\n",
       "    }\n",
       "</style>\n",
       "<table border=\"1\" class=\"dataframe\">\n",
       "  <thead>\n",
       "    <tr style=\"text-align: right;\">\n",
       "      <th></th>\n",
       "      <th>Unnamed: 0</th>\n",
       "      <th>event_time</th>\n",
       "      <th>event_type</th>\n",
       "      <th>product_id</th>\n",
       "      <th>category_id</th>\n",
       "      <th>category_code</th>\n",
       "      <th>brand</th>\n",
       "      <th>price</th>\n",
       "      <th>user_id</th>\n",
       "      <th>user_session</th>\n",
       "      <th>is_purchased</th>\n",
       "      <th>event_weekday</th>\n",
       "      <th>main_category</th>\n",
       "      <th>middle_category</th>\n",
       "      <th>activity_count</th>\n",
       "    </tr>\n",
       "  </thead>\n",
       "  <tbody>\n",
       "    <tr>\n",
       "      <th>60708</th>\n",
       "      <td>60708</td>\n",
       "      <td>2019-10-05 04:52:52 UTC</td>\n",
       "      <td>cart</td>\n",
       "      <td>1005104</td>\n",
       "      <td>2053013555631882655</td>\n",
       "      <td>electronics.smartphone</td>\n",
       "      <td>apple</td>\n",
       "      <td>975.57</td>\n",
       "      <td>548318522</td>\n",
       "      <td>7298baed-ffb0-4ecb-849d-b1b826189136</td>\n",
       "      <td>1.0</td>\n",
       "      <td>5</td>\n",
       "      <td>electronics</td>\n",
       "      <td>smartphone</td>\n",
       "      <td>18.0</td>\n",
       "    </tr>\n",
       "  </tbody>\n",
       "</table>\n",
       "</div>"
      ],
      "text/plain": [
       "       Unnamed: 0               event_time event_type  product_id  \\\n",
       "60708       60708  2019-10-05 04:52:52 UTC       cart     1005104   \n",
       "\n",
       "               category_id           category_code  brand   price    user_id  \\\n",
       "60708  2053013555631882655  electronics.smartphone  apple  975.57  548318522   \n",
       "\n",
       "                               user_session  is_purchased  event_weekday  \\\n",
       "60708  7298baed-ffb0-4ecb-849d-b1b826189136           1.0              5   \n",
       "\n",
       "      main_category middle_category  activity_count  \n",
       "60708   electronics      smartphone            18.0  "
      ]
     },
     "execution_count": 10,
     "metadata": {},
     "output_type": "execute_result"
    }
   ],
   "source": [
    "sample_data= pd.concat([purchase_down,not_purchase_down])\n",
    "sample_data.head(1)"
   ]
  },
  {
   "cell_type": "code",
   "execution_count": 11,
   "metadata": {},
   "outputs": [
    {
     "data": {
      "text/plain": [
       "1.0    270000\n",
       "0.0    270000\n",
       "Name: is_purchased, dtype: int64"
      ]
     },
     "execution_count": 11,
     "metadata": {},
     "output_type": "execute_result"
    }
   ],
   "source": [
    "sample_data['is_purchased'].value_counts()"
   ]
  },
  {
   "cell_type": "code",
   "execution_count": 15,
   "metadata": {},
   "outputs": [],
   "source": [
    "features=sample_data.loc[:,['brand', 'price', 'event_weekday', 'main_category', 'middle_category', 'activity_count']]"
   ]
  },
  {
   "cell_type": "code",
   "execution_count": 13,
   "metadata": {},
   "outputs": [
    {
     "data": {
      "text/html": [
       "<div>\n",
       "<style scoped>\n",
       "    .dataframe tbody tr th:only-of-type {\n",
       "        vertical-align: middle;\n",
       "    }\n",
       "\n",
       "    .dataframe tbody tr th {\n",
       "        vertical-align: top;\n",
       "    }\n",
       "\n",
       "    .dataframe thead th {\n",
       "        text-align: right;\n",
       "    }\n",
       "</style>\n",
       "<table border=\"1\" class=\"dataframe\">\n",
       "  <thead>\n",
       "    <tr style=\"text-align: right;\">\n",
       "      <th></th>\n",
       "      <th>Unnamed: 0</th>\n",
       "      <th>event_time</th>\n",
       "      <th>event_type</th>\n",
       "      <th>product_id</th>\n",
       "      <th>category_id</th>\n",
       "      <th>category_code</th>\n",
       "      <th>brand</th>\n",
       "      <th>price</th>\n",
       "      <th>user_id</th>\n",
       "      <th>user_session</th>\n",
       "      <th>is_purchased</th>\n",
       "      <th>event_weekday</th>\n",
       "      <th>main_category</th>\n",
       "      <th>middle_category</th>\n",
       "      <th>activity_count</th>\n",
       "    </tr>\n",
       "  </thead>\n",
       "  <tbody>\n",
       "    <tr>\n",
       "      <th>60708</th>\n",
       "      <td>60708</td>\n",
       "      <td>2019-10-05 04:52:52 UTC</td>\n",
       "      <td>cart</td>\n",
       "      <td>1005104</td>\n",
       "      <td>2053013555631882655</td>\n",
       "      <td>electronics.smartphone</td>\n",
       "      <td>apple</td>\n",
       "      <td>975.57</td>\n",
       "      <td>548318522</td>\n",
       "      <td>7298baed-ffb0-4ecb-849d-b1b826189136</td>\n",
       "      <td>1.0</td>\n",
       "      <td>5</td>\n",
       "      <td>electronics</td>\n",
       "      <td>smartphone</td>\n",
       "      <td>18.0</td>\n",
       "    </tr>\n",
       "    <tr>\n",
       "      <th>371462</th>\n",
       "      <td>371462</td>\n",
       "      <td>2019-10-21 14:57:50 UTC</td>\n",
       "      <td>cart</td>\n",
       "      <td>1005208</td>\n",
       "      <td>2053013555631882655</td>\n",
       "      <td>electronics.smartphone</td>\n",
       "      <td>apple</td>\n",
       "      <td>424.70</td>\n",
       "      <td>562656020</td>\n",
       "      <td>24fcd539-5c28-48cd-a930-ebf60bb2df7b</td>\n",
       "      <td>1.0</td>\n",
       "      <td>0</td>\n",
       "      <td>electronics</td>\n",
       "      <td>smartphone</td>\n",
       "      <td>6.0</td>\n",
       "    </tr>\n",
       "  </tbody>\n",
       "</table>\n",
       "</div>"
      ],
      "text/plain": [
       "        Unnamed: 0               event_time event_type  product_id  \\\n",
       "60708        60708  2019-10-05 04:52:52 UTC       cart     1005104   \n",
       "371462      371462  2019-10-21 14:57:50 UTC       cart     1005208   \n",
       "\n",
       "                category_id           category_code  brand   price    user_id  \\\n",
       "60708   2053013555631882655  electronics.smartphone  apple  975.57  548318522   \n",
       "371462  2053013555631882655  electronics.smartphone  apple  424.70  562656020   \n",
       "\n",
       "                                user_session  is_purchased  event_weekday  \\\n",
       "60708   7298baed-ffb0-4ecb-849d-b1b826189136           1.0              5   \n",
       "371462  24fcd539-5c28-48cd-a930-ebf60bb2df7b           1.0              0   \n",
       "\n",
       "       main_category middle_category  activity_count  \n",
       "60708    electronics      smartphone            18.0  \n",
       "371462   electronics      smartphone             6.0  "
      ]
     },
     "execution_count": 13,
     "metadata": {},
     "output_type": "execute_result"
    }
   ],
   "source": [
    "sample_data.head(2)"
   ]
  },
  {
   "cell_type": "code",
   "execution_count": 16,
   "metadata": {},
   "outputs": [],
   "source": [
    "features.loc[:,'brand'] = LabelEncoder().fit_transform(sample_data.loc[:,'brand'].copy())\n",
    "#features.loc[:,'event_weekday'] = LabelEncoder().fit_transform(sample_data[:,'event_weekday'].copy())\n"
   ]
  },
  {
   "cell_type": "code",
   "execution_count": 26,
   "metadata": {},
   "outputs": [
    {
     "data": {
      "text/html": [
       "<div>\n",
       "<style scoped>\n",
       "    .dataframe tbody tr th:only-of-type {\n",
       "        vertical-align: middle;\n",
       "    }\n",
       "\n",
       "    .dataframe tbody tr th {\n",
       "        vertical-align: top;\n",
       "    }\n",
       "\n",
       "    .dataframe thead th {\n",
       "        text-align: right;\n",
       "    }\n",
       "</style>\n",
       "<table border=\"1\" class=\"dataframe\">\n",
       "  <thead>\n",
       "    <tr style=\"text-align: right;\">\n",
       "      <th></th>\n",
       "      <th>brand</th>\n",
       "      <th>price</th>\n",
       "      <th>event_weekday</th>\n",
       "      <th>main_category</th>\n",
       "      <th>middle_category</th>\n",
       "      <th>activity_count</th>\n",
       "    </tr>\n",
       "  </thead>\n",
       "  <tbody>\n",
       "    <tr>\n",
       "      <th>60708</th>\n",
       "      <td>20</td>\n",
       "      <td>975.57</td>\n",
       "      <td>5</td>\n",
       "      <td>7</td>\n",
       "      <td>27</td>\n",
       "      <td>18.0</td>\n",
       "    </tr>\n",
       "    <tr>\n",
       "      <th>371462</th>\n",
       "      <td>20</td>\n",
       "      <td>424.70</td>\n",
       "      <td>0</td>\n",
       "      <td>7</td>\n",
       "      <td>27</td>\n",
       "      <td>6.0</td>\n",
       "    </tr>\n",
       "    <tr>\n",
       "      <th>408237</th>\n",
       "      <td>308</td>\n",
       "      <td>24.26</td>\n",
       "      <td>2</td>\n",
       "      <td>7</td>\n",
       "      <td>1</td>\n",
       "      <td>3.0</td>\n",
       "    </tr>\n",
       "    <tr>\n",
       "      <th>444561</th>\n",
       "      <td>357</td>\n",
       "      <td>86.86</td>\n",
       "      <td>4</td>\n",
       "      <td>7</td>\n",
       "      <td>27</td>\n",
       "      <td>6.0</td>\n",
       "    </tr>\n",
       "    <tr>\n",
       "      <th>121065</th>\n",
       "      <td>158</td>\n",
       "      <td>272.08</td>\n",
       "      <td>2</td>\n",
       "      <td>7</td>\n",
       "      <td>27</td>\n",
       "      <td>42.0</td>\n",
       "    </tr>\n",
       "  </tbody>\n",
       "</table>\n",
       "</div>"
      ],
      "text/plain": [
       "        brand   price  event_weekday  main_category  middle_category  \\\n",
       "60708      20  975.57              5              7               27   \n",
       "371462     20  424.70              0              7               27   \n",
       "408237    308   24.26              2              7                1   \n",
       "444561    357   86.86              4              7               27   \n",
       "121065    158  272.08              2              7               27   \n",
       "\n",
       "        activity_count  \n",
       "60708             18.0  \n",
       "371462             6.0  \n",
       "408237             3.0  \n",
       "444561             6.0  \n",
       "121065            42.0  "
      ]
     },
     "execution_count": 26,
     "metadata": {},
     "output_type": "execute_result"
    }
   ],
   "source": [
    "features.loc[:,'main_category'] = LabelEncoder().fit_transform(sample_data.loc[:,'main_category'].copy())\n",
    "features.loc[:,'middle_category'] = LabelEncoder().fit_transform(sample_data.loc[:,'middle_category'].copy())\n",
    "\n",
    "is_purchased = LabelEncoder().fit_transform(sample_data['is_purchased'])\n",
    "features.head()"
   ]
  },
  {
   "cell_type": "code",
   "execution_count": 27,
   "metadata": {},
   "outputs": [],
   "source": [
    "X_train, X_test, y_train, y_test = train_test_split(features, \n",
    "                                                    is_purchased, \n",
    "                                                    test_size = 0.3, \n",
    "                                                    random_state = 0)"
   ]
  },
  {
   "cell_type": "code",
   "execution_count": 28,
   "metadata": {},
   "outputs": [],
   "source": [
    "from xgboost import XGBClassifier\n",
    "model = XGBClassifier(learning_rate=0.1)\n",
    "model.fit(X_train, y_train)\n",
    "y_pred = model.predict(X_test)"
   ]
  },
  {
   "cell_type": "code",
   "execution_count": 29,
   "metadata": {},
   "outputs": [
    {
     "name": "stdout",
     "output_type": "stream",
     "text": [
      "정확도: 0.6105802469135803\n",
      "정밀도: 0.5933636082155022\n",
      "재현율: 0.708209120697726\n",
      "fbeta: 0.6100880173787671\n"
     ]
    }
   ],
   "source": [
    "print(\"정확도:\",metrics.accuracy_score(y_test, y_pred))\n",
    "print(\"정밀도:\",metrics.precision_score(y_test, y_pred))\n",
    "print(\"재현율:\",metrics.recall_score(y_test, y_pred))\n",
    "print(\"fbeta:\",metrics.fbeta_score(y_test, y_pred, average='weighted', beta=0.5))"
   ]
  },
  {
   "cell_type": "code",
   "execution_count": 36,
   "metadata": {},
   "outputs": [
    {
     "data": {
      "image/png": "[encoded data removed]",
      "text/plain": [
       "<Figure size 432x288 with 1 Axes>"
      ]
     },
     "metadata": {
      "needs_background": "light"
     },
     "output_type": "display_data"
    }
   ],
   "source": [
    "plot_importance(model, max_num_features=10, importance_type ='gain')\n",
    "plt.rcParams['figure.figsize'] = (40,10)\n",
    "plt.title('XGboost feature importance')\n",
    "plt.show()"
   ]
  },
  {
   "cell_type": "code",
   "execution_count": 18,
   "metadata": {},
   "outputs": [
    {
     "name": "stdout",
     "output_type": "stream",
     "text": [
      "378000\n",
      "162000\n",
      "378000\n",
      "162000\n"
     ]
    }
   ],
   "source": [
    "#랜덤포레스트 모델\n",
    "from sklearn.ensemble import RandomForestClassifier\n",
    "from sklearn import metrics\n",
    "\n",
    "x_train, x_test, y_train, y_test = train_test_split(features,is_purchased,test_size=0.3)\n",
    "print(len(x_train))\n",
    "print(len(x_test))\n",
    "print(len(y_train))\n",
    "print(len(y_test))"
   ]
  },
  {
   "cell_type": "code",
   "execution_count": 19,
   "metadata": {},
   "outputs": [
    {
     "data": {
      "text/plain": [
       "RandomForestClassifier()"
      ]
     },
     "execution_count": 19,
     "metadata": {},
     "output_type": "execute_result"
    }
   ],
   "source": [
    "forest = RandomForestClassifier(n_estimators=100)\n",
    "forest.fit(x_train, y_train)\n",
    "y_pred = forest.predict(x_test)"
   ]
  },
  {
   "cell_type": "code",
   "execution_count": 23,
   "metadata": {},
   "outputs": [
    {
     "name": "stdout",
     "output_type": "stream",
     "text": [
      "정확도: 0.579358024691358\n",
      "정밀도: 0.573757028959885\n",
      "재현율: 0.6204348952230596\n",
      "fbeta: 0.5791373079751218\n"
     ]
    }
   ],
   "source": [
    "\n",
    "# 정확도 확인\n",
    "print(\"정확도:\",metrics.accuracy_score(y_test, y_pred))\n",
    "print(\"정밀도:\",metrics.precision_score(y_test, y_pred))\n",
    "print(\"재현율:\",metrics.recall_score(y_test, y_pred))\n",
    "print(\"fbeta:\",metrics.fbeta_score(y_test, y_pred, average='weighted', beta=0.5))"
   ]
  },
  {
   "cell_type": "code",
   "execution_count": 42,
   "metadata": {},
   "outputs": [
    {
     "data": {
      "text/plain": [
       "<AxesSubplot:title={'center':'Randomforest features importance'}>"
      ]
     },
     "execution_count": 42,
     "metadata": {},
     "output_type": "execute_result"
    },
    {
     "data": {
      "image/png": "[encoded data removed]",
      "text/plain": [
       "<Figure size 576x360 with 1 Axes>"
      ]
     },
     "metadata": {
      "needs_background": "light"
     },
     "output_type": "display_data"
    }
   ],
   "source": [
    "#랜덤 포레스트 특성 중요도\n",
    "importances = pd.Series(forest.feature_importances_, x_train.columns)\n",
    "n=7\n",
    "plt.rcParams['figure.figsize'] = (8,5)\n",
    "plt.title(f'Randomforest features importance')\n",
    "importances.sort_values().plot.barh()"
   ]
  },
  {
   "cell_type": "code",
   "execution_count": null,
   "metadata": {},
   "outputs": [],
   "source": []
  }
 ],
 "metadata": {
  "kernelspec": {
   "display_name": "Python 3.8.13 ('cp1')",
   "language": "python",
   "name": "python3"
  },
  "language_info": {
   "codemirror_mode": {
    "name": "ipython",
    "version": 3
   },
   "file_extension": ".py",
   "mimetype": "text/x-python",
   "name": "python",
   "nbconvert_exporter": "python",
   "pygments_lexer": "ipython3",
   "version": "3.8.13"
  },
  "orig_nbformat": 4,
  "vscode": {
   "interpreter": {
    "hash": "fadcd62c86c60d3ab4047e246e9aa4a618618af65e19bb28d1b136b2e19c0ca4"
   }
  }
 },
 "nbformat": 4,
 "nbformat_minor": 2
}
